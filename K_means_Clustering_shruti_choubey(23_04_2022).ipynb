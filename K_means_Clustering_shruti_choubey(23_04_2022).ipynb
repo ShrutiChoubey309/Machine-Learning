{
  "cells": [
    {
      "cell_type": "markdown",
      "source": [
        "**Importing all the libraries**"
      ],
      "metadata": {
        "id": "sUdfpha5MB5Z"
      },
      "id": "sUdfpha5MB5Z"
    },
    {
      "cell_type": "code",
      "source": [
        "from google.colab import drive\n",
        "drive.mount('/content/drive')"
      ],
      "metadata": {
        "colab": {
          "base_uri": "https://localhost:8080/"
        },
        "id": "umr9jdMxLHmC",
        "outputId": "55674915-1536-4a4f-9561-a7d2b5507ab3"
      },
      "id": "umr9jdMxLHmC",
      "execution_count": null,
      "outputs": [
        {
          "output_type": "stream",
          "name": "stdout",
          "text": [
            "Drive already mounted at /content/drive; to attempt to forcibly remount, call drive.mount(\"/content/drive\", force_remount=True).\n"
          ]
        }
      ]
    },
    {
      "cell_type": "code",
      "execution_count": null,
      "id": "d332de43",
      "metadata": {
        "id": "d332de43"
      },
      "outputs": [],
      "source": [
        "import numpy as np\n",
        "import pandas as pd\n",
        "import matplotlib.pyplot as plt\n",
        "import seaborn as sns\n",
        "from sklearn.preprocessing import LabelEncoder \n",
        "from sklearn.model_selection import train_test_split\n",
        "import statsmodels.api as sm"
      ]
    },
    {
      "cell_type": "markdown",
      "source": [
        "**Loading the dataset**"
      ],
      "metadata": {
        "id": "_AWnxrzpMBN7"
      },
      "id": "_AWnxrzpMBN7"
    },
    {
      "cell_type": "code",
      "execution_count": null,
      "id": "9955503d",
      "metadata": {
        "id": "9955503d"
      },
      "outputs": [],
      "source": [
        "df=pd.read_csv(\"/content/drive/MyDrive/dataset/snsdata.csv\")"
      ]
    },
    {
      "cell_type": "code",
      "execution_count": null,
      "id": "a7ca0dd1",
      "metadata": {
        "id": "a7ca0dd1",
        "outputId": "4bfc3dc0-09ef-4671-e658-4cfa6bb5b8b2",
        "colab": {
          "base_uri": "https://localhost:8080/",
          "height": 235
        }
      },
      "outputs": [
        {
          "output_type": "execute_result",
          "data": {
            "text/plain": [
              "   gradyear gender     age  friends  basketball  football  soccer  softball  \\\n",
              "0      2006      M  18.982        7           0         0       0         0   \n",
              "1      2006      F  18.801        0           0         1       0         0   \n",
              "2      2006      M  18.335       69           0         1       0         0   \n",
              "3      2006      F  18.875        0           0         0       0         0   \n",
              "4      2006    NaN  18.995       10           0         0       0         0   \n",
              "\n",
              "   volleyball  swimming  ...  blonde  mall  shopping  clothes  hollister  \\\n",
              "0           0         0  ...       0     0         0        0          0   \n",
              "1           0         0  ...       0     1         0        0          0   \n",
              "2           0         0  ...       0     0         0        0          0   \n",
              "3           0         0  ...       0     0         0        0          0   \n",
              "4           0         0  ...       0     0         2        0          0   \n",
              "\n",
              "   abercrombie  die  death  drunk  drugs  \n",
              "0            0    0      0      0      0  \n",
              "1            0    0      0      0      0  \n",
              "2            0    0      1      0      0  \n",
              "3            0    0      0      0      0  \n",
              "4            0    0      0      1      1  \n",
              "\n",
              "[5 rows x 40 columns]"
            ],
            "text/html": [
              "\n",
              "  <div id=\"df-62a41cc6-5a58-43dc-99cd-85293c49e448\">\n",
              "    <div class=\"colab-df-container\">\n",
              "      <div>\n",
              "<style scoped>\n",
              "    .dataframe tbody tr th:only-of-type {\n",
              "        vertical-align: middle;\n",
              "    }\n",
              "\n",
              "    .dataframe tbody tr th {\n",
              "        vertical-align: top;\n",
              "    }\n",
              "\n",
              "    .dataframe thead th {\n",
              "        text-align: right;\n",
              "    }\n",
              "</style>\n",
              "<table border=\"1\" class=\"dataframe\">\n",
              "  <thead>\n",
              "    <tr style=\"text-align: right;\">\n",
              "      <th></th>\n",
              "      <th>gradyear</th>\n",
              "      <th>gender</th>\n",
              "      <th>age</th>\n",
              "      <th>friends</th>\n",
              "      <th>basketball</th>\n",
              "      <th>football</th>\n",
              "      <th>soccer</th>\n",
              "      <th>softball</th>\n",
              "      <th>volleyball</th>\n",
              "      <th>swimming</th>\n",
              "      <th>...</th>\n",
              "      <th>blonde</th>\n",
              "      <th>mall</th>\n",
              "      <th>shopping</th>\n",
              "      <th>clothes</th>\n",
              "      <th>hollister</th>\n",
              "      <th>abercrombie</th>\n",
              "      <th>die</th>\n",
              "      <th>death</th>\n",
              "      <th>drunk</th>\n",
              "      <th>drugs</th>\n",
              "    </tr>\n",
              "  </thead>\n",
              "  <tbody>\n",
              "    <tr>\n",
              "      <th>0</th>\n",
              "      <td>2006</td>\n",
              "      <td>M</td>\n",
              "      <td>18.982</td>\n",
              "      <td>7</td>\n",
              "      <td>0</td>\n",
              "      <td>0</td>\n",
              "      <td>0</td>\n",
              "      <td>0</td>\n",
              "      <td>0</td>\n",
              "      <td>0</td>\n",
              "      <td>...</td>\n",
              "      <td>0</td>\n",
              "      <td>0</td>\n",
              "      <td>0</td>\n",
              "      <td>0</td>\n",
              "      <td>0</td>\n",
              "      <td>0</td>\n",
              "      <td>0</td>\n",
              "      <td>0</td>\n",
              "      <td>0</td>\n",
              "      <td>0</td>\n",
              "    </tr>\n",
              "    <tr>\n",
              "      <th>1</th>\n",
              "      <td>2006</td>\n",
              "      <td>F</td>\n",
              "      <td>18.801</td>\n",
              "      <td>0</td>\n",
              "      <td>0</td>\n",
              "      <td>1</td>\n",
              "      <td>0</td>\n",
              "      <td>0</td>\n",
              "      <td>0</td>\n",
              "      <td>0</td>\n",
              "      <td>...</td>\n",
              "      <td>0</td>\n",
              "      <td>1</td>\n",
              "      <td>0</td>\n",
              "      <td>0</td>\n",
              "      <td>0</td>\n",
              "      <td>0</td>\n",
              "      <td>0</td>\n",
              "      <td>0</td>\n",
              "      <td>0</td>\n",
              "      <td>0</td>\n",
              "    </tr>\n",
              "    <tr>\n",
              "      <th>2</th>\n",
              "      <td>2006</td>\n",
              "      <td>M</td>\n",
              "      <td>18.335</td>\n",
              "      <td>69</td>\n",
              "      <td>0</td>\n",
              "      <td>1</td>\n",
              "      <td>0</td>\n",
              "      <td>0</td>\n",
              "      <td>0</td>\n",
              "      <td>0</td>\n",
              "      <td>...</td>\n",
              "      <td>0</td>\n",
              "      <td>0</td>\n",
              "      <td>0</td>\n",
              "      <td>0</td>\n",
              "      <td>0</td>\n",
              "      <td>0</td>\n",
              "      <td>0</td>\n",
              "      <td>1</td>\n",
              "      <td>0</td>\n",
              "      <td>0</td>\n",
              "    </tr>\n",
              "    <tr>\n",
              "      <th>3</th>\n",
              "      <td>2006</td>\n",
              "      <td>F</td>\n",
              "      <td>18.875</td>\n",
              "      <td>0</td>\n",
              "      <td>0</td>\n",
              "      <td>0</td>\n",
              "      <td>0</td>\n",
              "      <td>0</td>\n",
              "      <td>0</td>\n",
              "      <td>0</td>\n",
              "      <td>...</td>\n",
              "      <td>0</td>\n",
              "      <td>0</td>\n",
              "      <td>0</td>\n",
              "      <td>0</td>\n",
              "      <td>0</td>\n",
              "      <td>0</td>\n",
              "      <td>0</td>\n",
              "      <td>0</td>\n",
              "      <td>0</td>\n",
              "      <td>0</td>\n",
              "    </tr>\n",
              "    <tr>\n",
              "      <th>4</th>\n",
              "      <td>2006</td>\n",
              "      <td>NaN</td>\n",
              "      <td>18.995</td>\n",
              "      <td>10</td>\n",
              "      <td>0</td>\n",
              "      <td>0</td>\n",
              "      <td>0</td>\n",
              "      <td>0</td>\n",
              "      <td>0</td>\n",
              "      <td>0</td>\n",
              "      <td>...</td>\n",
              "      <td>0</td>\n",
              "      <td>0</td>\n",
              "      <td>2</td>\n",
              "      <td>0</td>\n",
              "      <td>0</td>\n",
              "      <td>0</td>\n",
              "      <td>0</td>\n",
              "      <td>0</td>\n",
              "      <td>1</td>\n",
              "      <td>1</td>\n",
              "    </tr>\n",
              "  </tbody>\n",
              "</table>\n",
              "<p>5 rows × 40 columns</p>\n",
              "</div>\n",
              "      <button class=\"colab-df-convert\" onclick=\"convertToInteractive('df-62a41cc6-5a58-43dc-99cd-85293c49e448')\"\n",
              "              title=\"Convert this dataframe to an interactive table.\"\n",
              "              style=\"display:none;\">\n",
              "        \n",
              "  <svg xmlns=\"http://www.w3.org/2000/svg\" height=\"24px\"viewBox=\"0 0 24 24\"\n",
              "       width=\"24px\">\n",
              "    <path d=\"M0 0h24v24H0V0z\" fill=\"none\"/>\n",
              "    <path d=\"M18.56 5.44l.94 2.06.94-2.06 2.06-.94-2.06-.94-.94-2.06-.94 2.06-2.06.94zm-11 1L8.5 8.5l.94-2.06 2.06-.94-2.06-.94L8.5 2.5l-.94 2.06-2.06.94zm10 10l.94 2.06.94-2.06 2.06-.94-2.06-.94-.94-2.06-.94 2.06-2.06.94z\"/><path d=\"M17.41 7.96l-1.37-1.37c-.4-.4-.92-.59-1.43-.59-.52 0-1.04.2-1.43.59L10.3 9.45l-7.72 7.72c-.78.78-.78 2.05 0 2.83L4 21.41c.39.39.9.59 1.41.59.51 0 1.02-.2 1.41-.59l7.78-7.78 2.81-2.81c.8-.78.8-2.07 0-2.86zM5.41 20L4 18.59l7.72-7.72 1.47 1.35L5.41 20z\"/>\n",
              "  </svg>\n",
              "      </button>\n",
              "      \n",
              "  <style>\n",
              "    .colab-df-container {\n",
              "      display:flex;\n",
              "      flex-wrap:wrap;\n",
              "      gap: 12px;\n",
              "    }\n",
              "\n",
              "    .colab-df-convert {\n",
              "      background-color: #E8F0FE;\n",
              "      border: none;\n",
              "      border-radius: 50%;\n",
              "      cursor: pointer;\n",
              "      display: none;\n",
              "      fill: #1967D2;\n",
              "      height: 32px;\n",
              "      padding: 0 0 0 0;\n",
              "      width: 32px;\n",
              "    }\n",
              "\n",
              "    .colab-df-convert:hover {\n",
              "      background-color: #E2EBFA;\n",
              "      box-shadow: 0px 1px 2px rgba(60, 64, 67, 0.3), 0px 1px 3px 1px rgba(60, 64, 67, 0.15);\n",
              "      fill: #174EA6;\n",
              "    }\n",
              "\n",
              "    [theme=dark] .colab-df-convert {\n",
              "      background-color: #3B4455;\n",
              "      fill: #D2E3FC;\n",
              "    }\n",
              "\n",
              "    [theme=dark] .colab-df-convert:hover {\n",
              "      background-color: #434B5C;\n",
              "      box-shadow: 0px 1px 3px 1px rgba(0, 0, 0, 0.15);\n",
              "      filter: drop-shadow(0px 1px 2px rgba(0, 0, 0, 0.3));\n",
              "      fill: #FFFFFF;\n",
              "    }\n",
              "  </style>\n",
              "\n",
              "      <script>\n",
              "        const buttonEl =\n",
              "          document.querySelector('#df-62a41cc6-5a58-43dc-99cd-85293c49e448 button.colab-df-convert');\n",
              "        buttonEl.style.display =\n",
              "          google.colab.kernel.accessAllowed ? 'block' : 'none';\n",
              "\n",
              "        async function convertToInteractive(key) {\n",
              "          const element = document.querySelector('#df-62a41cc6-5a58-43dc-99cd-85293c49e448');\n",
              "          const dataTable =\n",
              "            await google.colab.kernel.invokeFunction('convertToInteractive',\n",
              "                                                     [key], {});\n",
              "          if (!dataTable) return;\n",
              "\n",
              "          const docLinkHtml = 'Like what you see? Visit the ' +\n",
              "            '<a target=\"_blank\" href=https://colab.research.google.com/notebooks/data_table.ipynb>data table notebook</a>'\n",
              "            + ' to learn more about interactive tables.';\n",
              "          element.innerHTML = '';\n",
              "          dataTable['output_type'] = 'display_data';\n",
              "          await google.colab.output.renderOutput(dataTable, element);\n",
              "          const docLink = document.createElement('div');\n",
              "          docLink.innerHTML = docLinkHtml;\n",
              "          element.appendChild(docLink);\n",
              "        }\n",
              "      </script>\n",
              "    </div>\n",
              "  </div>\n",
              "  "
            ]
          },
          "metadata": {},
          "execution_count": 117
        }
      ],
      "source": [
        "df.head()"
      ]
    },
    {
      "cell_type": "code",
      "execution_count": null,
      "id": "52332580",
      "metadata": {
        "id": "52332580",
        "outputId": "06d14896-ecd5-4609-f180-a4d66a9de91e",
        "colab": {
          "base_uri": "https://localhost:8080/"
        }
      },
      "outputs": [
        {
          "output_type": "execute_result",
          "data": {
            "text/plain": [
              "(30000, 40)"
            ]
          },
          "metadata": {},
          "execution_count": 118
        }
      ],
      "source": [
        "df.shape"
      ]
    },
    {
      "cell_type": "markdown",
      "source": [
        "**Getting info about features**"
      ],
      "metadata": {
        "id": "IMUAp3orMPEJ"
      },
      "id": "IMUAp3orMPEJ"
    },
    {
      "cell_type": "code",
      "execution_count": null,
      "id": "08faf600",
      "metadata": {
        "id": "08faf600",
        "outputId": "90026b03-a477-44bb-b50e-d471a4d0a563",
        "colab": {
          "base_uri": "https://localhost:8080/"
        }
      },
      "outputs": [
        {
          "output_type": "stream",
          "name": "stdout",
          "text": [
            "<class 'pandas.core.frame.DataFrame'>\n",
            "RangeIndex: 30000 entries, 0 to 29999\n",
            "Data columns (total 40 columns):\n",
            " #   Column        Non-Null Count  Dtype  \n",
            "---  ------        --------------  -----  \n",
            " 0   gradyear      30000 non-null  int64  \n",
            " 1   gender        27276 non-null  object \n",
            " 2   age           24914 non-null  float64\n",
            " 3   friends       30000 non-null  int64  \n",
            " 4   basketball    30000 non-null  int64  \n",
            " 5   football      30000 non-null  int64  \n",
            " 6   soccer        30000 non-null  int64  \n",
            " 7   softball      30000 non-null  int64  \n",
            " 8   volleyball    30000 non-null  int64  \n",
            " 9   swimming      30000 non-null  int64  \n",
            " 10  cheerleading  30000 non-null  int64  \n",
            " 11  baseball      30000 non-null  int64  \n",
            " 12  tennis        30000 non-null  int64  \n",
            " 13  sports        30000 non-null  int64  \n",
            " 14  cute          30000 non-null  int64  \n",
            " 15  sex           30000 non-null  int64  \n",
            " 16  sexy          30000 non-null  int64  \n",
            " 17  hot           30000 non-null  int64  \n",
            " 18  kissed        30000 non-null  int64  \n",
            " 19  dance         30000 non-null  int64  \n",
            " 20  band          30000 non-null  int64  \n",
            " 21  marching      30000 non-null  int64  \n",
            " 22  music         30000 non-null  int64  \n",
            " 23  rock          30000 non-null  int64  \n",
            " 24  god           30000 non-null  int64  \n",
            " 25  church        30000 non-null  int64  \n",
            " 26  jesus         30000 non-null  int64  \n",
            " 27  bible         30000 non-null  int64  \n",
            " 28  hair          30000 non-null  int64  \n",
            " 29  dress         30000 non-null  int64  \n",
            " 30  blonde        30000 non-null  int64  \n",
            " 31  mall          30000 non-null  int64  \n",
            " 32  shopping      30000 non-null  int64  \n",
            " 33  clothes       30000 non-null  int64  \n",
            " 34  hollister     30000 non-null  int64  \n",
            " 35  abercrombie   30000 non-null  int64  \n",
            " 36  die           30000 non-null  int64  \n",
            " 37  death         30000 non-null  int64  \n",
            " 38  drunk         30000 non-null  int64  \n",
            " 39  drugs         30000 non-null  int64  \n",
            "dtypes: float64(1), int64(38), object(1)\n",
            "memory usage: 9.2+ MB\n"
          ]
        }
      ],
      "source": [
        "df.info()"
      ]
    },
    {
      "cell_type": "markdown",
      "source": [
        "**Checking for null values**"
      ],
      "metadata": {
        "id": "cKBZN304MXxS"
      },
      "id": "cKBZN304MXxS"
    },
    {
      "cell_type": "code",
      "execution_count": null,
      "id": "554c5e26",
      "metadata": {
        "id": "554c5e26",
        "outputId": "9528f87b-8182-4217-d92e-76a47102ad8b",
        "colab": {
          "base_uri": "https://localhost:8080/"
        }
      },
      "outputs": [
        {
          "output_type": "execute_result",
          "data": {
            "text/plain": [
              "gradyear           0\n",
              "gender          2724\n",
              "age             5086\n",
              "friends            0\n",
              "basketball         0\n",
              "football           0\n",
              "soccer             0\n",
              "softball           0\n",
              "volleyball         0\n",
              "swimming           0\n",
              "cheerleading       0\n",
              "baseball           0\n",
              "tennis             0\n",
              "sports             0\n",
              "cute               0\n",
              "sex                0\n",
              "sexy               0\n",
              "hot                0\n",
              "kissed             0\n",
              "dance              0\n",
              "band               0\n",
              "marching           0\n",
              "music              0\n",
              "rock               0\n",
              "god                0\n",
              "church             0\n",
              "jesus              0\n",
              "bible              0\n",
              "hair               0\n",
              "dress              0\n",
              "blonde             0\n",
              "mall               0\n",
              "shopping           0\n",
              "clothes            0\n",
              "hollister          0\n",
              "abercrombie        0\n",
              "die                0\n",
              "death              0\n",
              "drunk              0\n",
              "drugs              0\n",
              "dtype: int64"
            ]
          },
          "metadata": {},
          "execution_count": 120
        }
      ],
      "source": [
        "df.isnull().sum()"
      ]
    },
    {
      "cell_type": "markdown",
      "source": [
        "**Checking the percentage of null values**"
      ],
      "metadata": {
        "id": "940-uC69McWT"
      },
      "id": "940-uC69McWT"
    },
    {
      "cell_type": "code",
      "execution_count": null,
      "id": "7dfc2b90",
      "metadata": {
        "id": "7dfc2b90",
        "outputId": "1e11f54e-2997-43b7-d902-76d06b5c0664",
        "colab": {
          "base_uri": "https://localhost:8080/"
        }
      },
      "outputs": [
        {
          "output_type": "execute_result",
          "data": {
            "text/plain": [
              "gradyear         0.000000\n",
              "gender           9.080000\n",
              "age             16.953333\n",
              "friends          0.000000\n",
              "basketball       0.000000\n",
              "football         0.000000\n",
              "soccer           0.000000\n",
              "softball         0.000000\n",
              "volleyball       0.000000\n",
              "swimming         0.000000\n",
              "cheerleading     0.000000\n",
              "baseball         0.000000\n",
              "tennis           0.000000\n",
              "sports           0.000000\n",
              "cute             0.000000\n",
              "sex              0.000000\n",
              "sexy             0.000000\n",
              "hot              0.000000\n",
              "kissed           0.000000\n",
              "dance            0.000000\n",
              "band             0.000000\n",
              "marching         0.000000\n",
              "music            0.000000\n",
              "rock             0.000000\n",
              "god              0.000000\n",
              "church           0.000000\n",
              "jesus            0.000000\n",
              "bible            0.000000\n",
              "hair             0.000000\n",
              "dress            0.000000\n",
              "blonde           0.000000\n",
              "mall             0.000000\n",
              "shopping         0.000000\n",
              "clothes          0.000000\n",
              "hollister        0.000000\n",
              "abercrombie      0.000000\n",
              "die              0.000000\n",
              "death            0.000000\n",
              "drunk            0.000000\n",
              "drugs            0.000000\n",
              "dtype: float64"
            ]
          },
          "metadata": {},
          "execution_count": 121
        }
      ],
      "source": [
        "df.isnull().sum()/df.shape[0] *100 "
      ]
    },
    {
      "cell_type": "code",
      "execution_count": null,
      "id": "57a83662",
      "metadata": {
        "id": "57a83662"
      },
      "outputs": [],
      "source": [
        "from numpy import NaN"
      ]
    },
    {
      "cell_type": "markdown",
      "source": [
        "**Counting the null values in column gender and age**"
      ],
      "metadata": {
        "id": "OQbFV7uzMiHC"
      },
      "id": "OQbFV7uzMiHC"
    },
    {
      "cell_type": "code",
      "execution_count": null,
      "id": "12073932",
      "metadata": {
        "id": "12073932"
      },
      "outputs": [],
      "source": [
        "NullCount={'Age':df['age'].isnull().sum(axis = 0),'Gender':df['gender'].isnull().sum(axis = 0)}\n",
        "dm=pd.DataFrame(NullCount, index =['No.of missing values'])\n"
      ]
    },
    {
      "cell_type": "code",
      "execution_count": null,
      "id": "18b02763",
      "metadata": {
        "id": "18b02763",
        "outputId": "3f81c715-4101-4635-f987-1e6b148ff807",
        "colab": {
          "base_uri": "https://localhost:8080/",
          "height": 81
        }
      },
      "outputs": [
        {
          "output_type": "execute_result",
          "data": {
            "text/plain": [
              "                       Age  Gender\n",
              "No.of missing values  5086    2724"
            ],
            "text/html": [
              "\n",
              "  <div id=\"df-f97c67e6-e0c6-47dc-88cb-4c492aaf978a\">\n",
              "    <div class=\"colab-df-container\">\n",
              "      <div>\n",
              "<style scoped>\n",
              "    .dataframe tbody tr th:only-of-type {\n",
              "        vertical-align: middle;\n",
              "    }\n",
              "\n",
              "    .dataframe tbody tr th {\n",
              "        vertical-align: top;\n",
              "    }\n",
              "\n",
              "    .dataframe thead th {\n",
              "        text-align: right;\n",
              "    }\n",
              "</style>\n",
              "<table border=\"1\" class=\"dataframe\">\n",
              "  <thead>\n",
              "    <tr style=\"text-align: right;\">\n",
              "      <th></th>\n",
              "      <th>Age</th>\n",
              "      <th>Gender</th>\n",
              "    </tr>\n",
              "  </thead>\n",
              "  <tbody>\n",
              "    <tr>\n",
              "      <th>No.of missing values</th>\n",
              "      <td>5086</td>\n",
              "      <td>2724</td>\n",
              "    </tr>\n",
              "  </tbody>\n",
              "</table>\n",
              "</div>\n",
              "      <button class=\"colab-df-convert\" onclick=\"convertToInteractive('df-f97c67e6-e0c6-47dc-88cb-4c492aaf978a')\"\n",
              "              title=\"Convert this dataframe to an interactive table.\"\n",
              "              style=\"display:none;\">\n",
              "        \n",
              "  <svg xmlns=\"http://www.w3.org/2000/svg\" height=\"24px\"viewBox=\"0 0 24 24\"\n",
              "       width=\"24px\">\n",
              "    <path d=\"M0 0h24v24H0V0z\" fill=\"none\"/>\n",
              "    <path d=\"M18.56 5.44l.94 2.06.94-2.06 2.06-.94-2.06-.94-.94-2.06-.94 2.06-2.06.94zm-11 1L8.5 8.5l.94-2.06 2.06-.94-2.06-.94L8.5 2.5l-.94 2.06-2.06.94zm10 10l.94 2.06.94-2.06 2.06-.94-2.06-.94-.94-2.06-.94 2.06-2.06.94z\"/><path d=\"M17.41 7.96l-1.37-1.37c-.4-.4-.92-.59-1.43-.59-.52 0-1.04.2-1.43.59L10.3 9.45l-7.72 7.72c-.78.78-.78 2.05 0 2.83L4 21.41c.39.39.9.59 1.41.59.51 0 1.02-.2 1.41-.59l7.78-7.78 2.81-2.81c.8-.78.8-2.07 0-2.86zM5.41 20L4 18.59l7.72-7.72 1.47 1.35L5.41 20z\"/>\n",
              "  </svg>\n",
              "      </button>\n",
              "      \n",
              "  <style>\n",
              "    .colab-df-container {\n",
              "      display:flex;\n",
              "      flex-wrap:wrap;\n",
              "      gap: 12px;\n",
              "    }\n",
              "\n",
              "    .colab-df-convert {\n",
              "      background-color: #E8F0FE;\n",
              "      border: none;\n",
              "      border-radius: 50%;\n",
              "      cursor: pointer;\n",
              "      display: none;\n",
              "      fill: #1967D2;\n",
              "      height: 32px;\n",
              "      padding: 0 0 0 0;\n",
              "      width: 32px;\n",
              "    }\n",
              "\n",
              "    .colab-df-convert:hover {\n",
              "      background-color: #E2EBFA;\n",
              "      box-shadow: 0px 1px 2px rgba(60, 64, 67, 0.3), 0px 1px 3px 1px rgba(60, 64, 67, 0.15);\n",
              "      fill: #174EA6;\n",
              "    }\n",
              "\n",
              "    [theme=dark] .colab-df-convert {\n",
              "      background-color: #3B4455;\n",
              "      fill: #D2E3FC;\n",
              "    }\n",
              "\n",
              "    [theme=dark] .colab-df-convert:hover {\n",
              "      background-color: #434B5C;\n",
              "      box-shadow: 0px 1px 3px 1px rgba(0, 0, 0, 0.15);\n",
              "      filter: drop-shadow(0px 1px 2px rgba(0, 0, 0, 0.3));\n",
              "      fill: #FFFFFF;\n",
              "    }\n",
              "  </style>\n",
              "\n",
              "      <script>\n",
              "        const buttonEl =\n",
              "          document.querySelector('#df-f97c67e6-e0c6-47dc-88cb-4c492aaf978a button.colab-df-convert');\n",
              "        buttonEl.style.display =\n",
              "          google.colab.kernel.accessAllowed ? 'block' : 'none';\n",
              "\n",
              "        async function convertToInteractive(key) {\n",
              "          const element = document.querySelector('#df-f97c67e6-e0c6-47dc-88cb-4c492aaf978a');\n",
              "          const dataTable =\n",
              "            await google.colab.kernel.invokeFunction('convertToInteractive',\n",
              "                                                     [key], {});\n",
              "          if (!dataTable) return;\n",
              "\n",
              "          const docLinkHtml = 'Like what you see? Visit the ' +\n",
              "            '<a target=\"_blank\" href=https://colab.research.google.com/notebooks/data_table.ipynb>data table notebook</a>'\n",
              "            + ' to learn more about interactive tables.';\n",
              "          element.innerHTML = '';\n",
              "          dataTable['output_type'] = 'display_data';\n",
              "          await google.colab.output.renderOutput(dataTable, element);\n",
              "          const docLink = document.createElement('div');\n",
              "          docLink.innerHTML = docLinkHtml;\n",
              "          element.appendChild(docLink);\n",
              "        }\n",
              "      </script>\n",
              "    </div>\n",
              "  </div>\n",
              "  "
            ]
          },
          "metadata": {},
          "execution_count": 124
        }
      ],
      "source": [
        "dm"
      ]
    },
    {
      "cell_type": "markdown",
      "source": [
        "**Checking the constrainsts and keeping all the rows of age as null if age value is not between 13 and 20**"
      ],
      "metadata": {
        "id": "lxQf3A2rMnUd"
      },
      "id": "lxQf3A2rMnUd"
    },
    {
      "cell_type": "code",
      "execution_count": null,
      "id": "59e20e27",
      "metadata": {
        "id": "59e20e27"
      },
      "outputs": [],
      "source": [
        "df['age'].values[df['age'] > 20] = None\n",
        "df['age'].values[df['age'] < 13] = None"
      ]
    },
    {
      "cell_type": "markdown",
      "source": [
        "**Checking if null values are increased or not**"
      ],
      "metadata": {
        "id": "wH0nYzjyM0Ke"
      },
      "id": "wH0nYzjyM0Ke"
    },
    {
      "cell_type": "code",
      "execution_count": null,
      "id": "f3218e70",
      "metadata": {
        "id": "f3218e70",
        "outputId": "de645525-8912-4d6c-917c-8d5b54d223f4",
        "colab": {
          "base_uri": "https://localhost:8080/",
          "height": 81
        }
      },
      "outputs": [
        {
          "output_type": "execute_result",
          "data": {
            "text/plain": [
              "                       Age  Gender\n",
              "No.of missing values  5523    2724"
            ],
            "text/html": [
              "\n",
              "  <div id=\"df-c29dc670-c773-40f4-803e-af4acaf3fc5a\">\n",
              "    <div class=\"colab-df-container\">\n",
              "      <div>\n",
              "<style scoped>\n",
              "    .dataframe tbody tr th:only-of-type {\n",
              "        vertical-align: middle;\n",
              "    }\n",
              "\n",
              "    .dataframe tbody tr th {\n",
              "        vertical-align: top;\n",
              "    }\n",
              "\n",
              "    .dataframe thead th {\n",
              "        text-align: right;\n",
              "    }\n",
              "</style>\n",
              "<table border=\"1\" class=\"dataframe\">\n",
              "  <thead>\n",
              "    <tr style=\"text-align: right;\">\n",
              "      <th></th>\n",
              "      <th>Age</th>\n",
              "      <th>Gender</th>\n",
              "    </tr>\n",
              "  </thead>\n",
              "  <tbody>\n",
              "    <tr>\n",
              "      <th>No.of missing values</th>\n",
              "      <td>5523</td>\n",
              "      <td>2724</td>\n",
              "    </tr>\n",
              "  </tbody>\n",
              "</table>\n",
              "</div>\n",
              "      <button class=\"colab-df-convert\" onclick=\"convertToInteractive('df-c29dc670-c773-40f4-803e-af4acaf3fc5a')\"\n",
              "              title=\"Convert this dataframe to an interactive table.\"\n",
              "              style=\"display:none;\">\n",
              "        \n",
              "  <svg xmlns=\"http://www.w3.org/2000/svg\" height=\"24px\"viewBox=\"0 0 24 24\"\n",
              "       width=\"24px\">\n",
              "    <path d=\"M0 0h24v24H0V0z\" fill=\"none\"/>\n",
              "    <path d=\"M18.56 5.44l.94 2.06.94-2.06 2.06-.94-2.06-.94-.94-2.06-.94 2.06-2.06.94zm-11 1L8.5 8.5l.94-2.06 2.06-.94-2.06-.94L8.5 2.5l-.94 2.06-2.06.94zm10 10l.94 2.06.94-2.06 2.06-.94-2.06-.94-.94-2.06-.94 2.06-2.06.94z\"/><path d=\"M17.41 7.96l-1.37-1.37c-.4-.4-.92-.59-1.43-.59-.52 0-1.04.2-1.43.59L10.3 9.45l-7.72 7.72c-.78.78-.78 2.05 0 2.83L4 21.41c.39.39.9.59 1.41.59.51 0 1.02-.2 1.41-.59l7.78-7.78 2.81-2.81c.8-.78.8-2.07 0-2.86zM5.41 20L4 18.59l7.72-7.72 1.47 1.35L5.41 20z\"/>\n",
              "  </svg>\n",
              "      </button>\n",
              "      \n",
              "  <style>\n",
              "    .colab-df-container {\n",
              "      display:flex;\n",
              "      flex-wrap:wrap;\n",
              "      gap: 12px;\n",
              "    }\n",
              "\n",
              "    .colab-df-convert {\n",
              "      background-color: #E8F0FE;\n",
              "      border: none;\n",
              "      border-radius: 50%;\n",
              "      cursor: pointer;\n",
              "      display: none;\n",
              "      fill: #1967D2;\n",
              "      height: 32px;\n",
              "      padding: 0 0 0 0;\n",
              "      width: 32px;\n",
              "    }\n",
              "\n",
              "    .colab-df-convert:hover {\n",
              "      background-color: #E2EBFA;\n",
              "      box-shadow: 0px 1px 2px rgba(60, 64, 67, 0.3), 0px 1px 3px 1px rgba(60, 64, 67, 0.15);\n",
              "      fill: #174EA6;\n",
              "    }\n",
              "\n",
              "    [theme=dark] .colab-df-convert {\n",
              "      background-color: #3B4455;\n",
              "      fill: #D2E3FC;\n",
              "    }\n",
              "\n",
              "    [theme=dark] .colab-df-convert:hover {\n",
              "      background-color: #434B5C;\n",
              "      box-shadow: 0px 1px 3px 1px rgba(0, 0, 0, 0.15);\n",
              "      filter: drop-shadow(0px 1px 2px rgba(0, 0, 0, 0.3));\n",
              "      fill: #FFFFFF;\n",
              "    }\n",
              "  </style>\n",
              "\n",
              "      <script>\n",
              "        const buttonEl =\n",
              "          document.querySelector('#df-c29dc670-c773-40f4-803e-af4acaf3fc5a button.colab-df-convert');\n",
              "        buttonEl.style.display =\n",
              "          google.colab.kernel.accessAllowed ? 'block' : 'none';\n",
              "\n",
              "        async function convertToInteractive(key) {\n",
              "          const element = document.querySelector('#df-c29dc670-c773-40f4-803e-af4acaf3fc5a');\n",
              "          const dataTable =\n",
              "            await google.colab.kernel.invokeFunction('convertToInteractive',\n",
              "                                                     [key], {});\n",
              "          if (!dataTable) return;\n",
              "\n",
              "          const docLinkHtml = 'Like what you see? Visit the ' +\n",
              "            '<a target=\"_blank\" href=https://colab.research.google.com/notebooks/data_table.ipynb>data table notebook</a>'\n",
              "            + ' to learn more about interactive tables.';\n",
              "          element.innerHTML = '';\n",
              "          dataTable['output_type'] = 'display_data';\n",
              "          await google.colab.output.renderOutput(dataTable, element);\n",
              "          const docLink = document.createElement('div');\n",
              "          docLink.innerHTML = docLinkHtml;\n",
              "          element.appendChild(docLink);\n",
              "        }\n",
              "      </script>\n",
              "    </div>\n",
              "  </div>\n",
              "  "
            ]
          },
          "metadata": {},
          "execution_count": 126
        }
      ],
      "source": [
        "NullCount={'Age':df['age'].isnull().sum(axis = 0),'Gender':df['gender'].isnull().sum(axis = 0)}\n",
        "dm=pd.DataFrame(NullCount, index =['No.of missing values'])\n",
        "dm"
      ]
    },
    {
      "cell_type": "markdown",
      "source": [
        "**checking about number of male users and number of female users**"
      ],
      "metadata": {
        "id": "wAFeFdaQNRvx"
      },
      "id": "wAFeFdaQNRvx"
    },
    {
      "cell_type": "code",
      "execution_count": null,
      "id": "679cc49e",
      "metadata": {
        "id": "679cc49e",
        "outputId": "0e1ea2b1-36f8-4587-d401-9b7ed9509dd5",
        "colab": {
          "base_uri": "https://localhost:8080/",
          "height": 264
        }
      },
      "outputs": [
        {
          "output_type": "display_data",
          "data": {
            "text/plain": [
              "<Figure size 720x288 with 1 Axes>"
            ],
            "image/png": "[encoded data removed]"
          },
          "metadata": {}
        }
      ],
      "source": [
        "genders=df.gender.value_counts()\n",
        "sns.set_style(\"darkgrid\")\n",
        "plt.figure(figsize=(10,4))\n",
        "sns.barplot(x=genders.index,y=genders.values)\n",
        "plt.show()"
      ]
    },
    {
      "cell_type": "markdown",
      "source": [
        "**Dummy encoding for gender column by creating three seperate columns as: M,F,NaN**\n"
      ],
      "metadata": {
        "id": "669PsdzGNgkN"
      },
      "id": "669PsdzGNgkN"
    },
    {
      "cell_type": "code",
      "execution_count": null,
      "id": "969f5a6f",
      "metadata": {
        "id": "969f5a6f",
        "outputId": "e3700cc1-f887-44cb-b91f-93a7d146e332",
        "colab": {
          "base_uri": "https://localhost:8080/",
          "height": 423
        }
      },
      "outputs": [
        {
          "output_type": "execute_result",
          "data": {
            "text/plain": [
              "       F  M  NaN\n",
              "0      0  1    0\n",
              "1      1  0    0\n",
              "2      0  1    0\n",
              "3      1  0    0\n",
              "4      0  0    1\n",
              "...   .. ..  ...\n",
              "29995  0  1    0\n",
              "29996  0  1    0\n",
              "29997  0  1    0\n",
              "29998  0  1    0\n",
              "29999  1  0    0\n",
              "\n",
              "[30000 rows x 3 columns]"
            ],
            "text/html": [
              "\n",
              "  <div id=\"df-20e335f8-8dda-4aac-89db-2c40f24dd478\">\n",
              "    <div class=\"colab-df-container\">\n",
              "      <div>\n",
              "<style scoped>\n",
              "    .dataframe tbody tr th:only-of-type {\n",
              "        vertical-align: middle;\n",
              "    }\n",
              "\n",
              "    .dataframe tbody tr th {\n",
              "        vertical-align: top;\n",
              "    }\n",
              "\n",
              "    .dataframe thead th {\n",
              "        text-align: right;\n",
              "    }\n",
              "</style>\n",
              "<table border=\"1\" class=\"dataframe\">\n",
              "  <thead>\n",
              "    <tr style=\"text-align: right;\">\n",
              "      <th></th>\n",
              "      <th>F</th>\n",
              "      <th>M</th>\n",
              "      <th>NaN</th>\n",
              "    </tr>\n",
              "  </thead>\n",
              "  <tbody>\n",
              "    <tr>\n",
              "      <th>0</th>\n",
              "      <td>0</td>\n",
              "      <td>1</td>\n",
              "      <td>0</td>\n",
              "    </tr>\n",
              "    <tr>\n",
              "      <th>1</th>\n",
              "      <td>1</td>\n",
              "      <td>0</td>\n",
              "      <td>0</td>\n",
              "    </tr>\n",
              "    <tr>\n",
              "      <th>2</th>\n",
              "      <td>0</td>\n",
              "      <td>1</td>\n",
              "      <td>0</td>\n",
              "    </tr>\n",
              "    <tr>\n",
              "      <th>3</th>\n",
              "      <td>1</td>\n",
              "      <td>0</td>\n",
              "      <td>0</td>\n",
              "    </tr>\n",
              "    <tr>\n",
              "      <th>4</th>\n",
              "      <td>0</td>\n",
              "      <td>0</td>\n",
              "      <td>1</td>\n",
              "    </tr>\n",
              "    <tr>\n",
              "      <th>...</th>\n",
              "      <td>...</td>\n",
              "      <td>...</td>\n",
              "      <td>...</td>\n",
              "    </tr>\n",
              "    <tr>\n",
              "      <th>29995</th>\n",
              "      <td>0</td>\n",
              "      <td>1</td>\n",
              "      <td>0</td>\n",
              "    </tr>\n",
              "    <tr>\n",
              "      <th>29996</th>\n",
              "      <td>0</td>\n",
              "      <td>1</td>\n",
              "      <td>0</td>\n",
              "    </tr>\n",
              "    <tr>\n",
              "      <th>29997</th>\n",
              "      <td>0</td>\n",
              "      <td>1</td>\n",
              "      <td>0</td>\n",
              "    </tr>\n",
              "    <tr>\n",
              "      <th>29998</th>\n",
              "      <td>0</td>\n",
              "      <td>1</td>\n",
              "      <td>0</td>\n",
              "    </tr>\n",
              "    <tr>\n",
              "      <th>29999</th>\n",
              "      <td>1</td>\n",
              "      <td>0</td>\n",
              "      <td>0</td>\n",
              "    </tr>\n",
              "  </tbody>\n",
              "</table>\n",
              "<p>30000 rows × 3 columns</p>\n",
              "</div>\n",
              "      <button class=\"colab-df-convert\" onclick=\"convertToInteractive('df-20e335f8-8dda-4aac-89db-2c40f24dd478')\"\n",
              "              title=\"Convert this dataframe to an interactive table.\"\n",
              "              style=\"display:none;\">\n",
              "        \n",
              "  <svg xmlns=\"http://www.w3.org/2000/svg\" height=\"24px\"viewBox=\"0 0 24 24\"\n",
              "       width=\"24px\">\n",
              "    <path d=\"M0 0h24v24H0V0z\" fill=\"none\"/>\n",
              "    <path d=\"M18.56 5.44l.94 2.06.94-2.06 2.06-.94-2.06-.94-.94-2.06-.94 2.06-2.06.94zm-11 1L8.5 8.5l.94-2.06 2.06-.94-2.06-.94L8.5 2.5l-.94 2.06-2.06.94zm10 10l.94 2.06.94-2.06 2.06-.94-2.06-.94-.94-2.06-.94 2.06-2.06.94z\"/><path d=\"M17.41 7.96l-1.37-1.37c-.4-.4-.92-.59-1.43-.59-.52 0-1.04.2-1.43.59L10.3 9.45l-7.72 7.72c-.78.78-.78 2.05 0 2.83L4 21.41c.39.39.9.59 1.41.59.51 0 1.02-.2 1.41-.59l7.78-7.78 2.81-2.81c.8-.78.8-2.07 0-2.86zM5.41 20L4 18.59l7.72-7.72 1.47 1.35L5.41 20z\"/>\n",
              "  </svg>\n",
              "      </button>\n",
              "      \n",
              "  <style>\n",
              "    .colab-df-container {\n",
              "      display:flex;\n",
              "      flex-wrap:wrap;\n",
              "      gap: 12px;\n",
              "    }\n",
              "\n",
              "    .colab-df-convert {\n",
              "      background-color: #E8F0FE;\n",
              "      border: none;\n",
              "      border-radius: 50%;\n",
              "      cursor: pointer;\n",
              "      display: none;\n",
              "      fill: #1967D2;\n",
              "      height: 32px;\n",
              "      padding: 0 0 0 0;\n",
              "      width: 32px;\n",
              "    }\n",
              "\n",
              "    .colab-df-convert:hover {\n",
              "      background-color: #E2EBFA;\n",
              "      box-shadow: 0px 1px 2px rgba(60, 64, 67, 0.3), 0px 1px 3px 1px rgba(60, 64, 67, 0.15);\n",
              "      fill: #174EA6;\n",
              "    }\n",
              "\n",
              "    [theme=dark] .colab-df-convert {\n",
              "      background-color: #3B4455;\n",
              "      fill: #D2E3FC;\n",
              "    }\n",
              "\n",
              "    [theme=dark] .colab-df-convert:hover {\n",
              "      background-color: #434B5C;\n",
              "      box-shadow: 0px 1px 3px 1px rgba(0, 0, 0, 0.15);\n",
              "      filter: drop-shadow(0px 1px 2px rgba(0, 0, 0, 0.3));\n",
              "      fill: #FFFFFF;\n",
              "    }\n",
              "  </style>\n",
              "\n",
              "      <script>\n",
              "        const buttonEl =\n",
              "          document.querySelector('#df-20e335f8-8dda-4aac-89db-2c40f24dd478 button.colab-df-convert');\n",
              "        buttonEl.style.display =\n",
              "          google.colab.kernel.accessAllowed ? 'block' : 'none';\n",
              "\n",
              "        async function convertToInteractive(key) {\n",
              "          const element = document.querySelector('#df-20e335f8-8dda-4aac-89db-2c40f24dd478');\n",
              "          const dataTable =\n",
              "            await google.colab.kernel.invokeFunction('convertToInteractive',\n",
              "                                                     [key], {});\n",
              "          if (!dataTable) return;\n",
              "\n",
              "          const docLinkHtml = 'Like what you see? Visit the ' +\n",
              "            '<a target=\"_blank\" href=https://colab.research.google.com/notebooks/data_table.ipynb>data table notebook</a>'\n",
              "            + ' to learn more about interactive tables.';\n",
              "          element.innerHTML = '';\n",
              "          dataTable['output_type'] = 'display_data';\n",
              "          await google.colab.output.renderOutput(dataTable, element);\n",
              "          const docLink = document.createElement('div');\n",
              "          docLink.innerHTML = docLinkHtml;\n",
              "          element.appendChild(docLink);\n",
              "        }\n",
              "      </script>\n",
              "    </div>\n",
              "  </div>\n",
              "  "
            ]
          },
          "metadata": {},
          "execution_count": 128
        }
      ],
      "source": [
        "dummy=pd.get_dummies(df['gender'],dummy_na=True)\n",
        "dummy"
      ]
    },
    {
      "cell_type": "code",
      "execution_count": null,
      "id": "1c4598b7",
      "metadata": {
        "id": "1c4598b7",
        "outputId": "8cbc1353-26ed-4d1b-ab9e-8ac0f726c5b2",
        "colab": {
          "base_uri": "https://localhost:8080/",
          "height": 235
        }
      },
      "outputs": [
        {
          "output_type": "execute_result",
          "data": {
            "text/plain": [
              "   gradyear gender     age  friends  basketball  football  soccer  softball  \\\n",
              "0      2006      M  18.982        7           0         0       0         0   \n",
              "1      2006      F  18.801        0           0         1       0         0   \n",
              "2      2006      M  18.335       69           0         1       0         0   \n",
              "3      2006      F  18.875        0           0         0       0         0   \n",
              "4      2006    NaN  18.995       10           0         0       0         0   \n",
              "\n",
              "   volleyball  swimming  ...  clothes  hollister  abercrombie  die  death  \\\n",
              "0           0         0  ...        0          0            0    0      0   \n",
              "1           0         0  ...        0          0            0    0      0   \n",
              "2           0         0  ...        0          0            0    0      1   \n",
              "3           0         0  ...        0          0            0    0      0   \n",
              "4           0         0  ...        0          0            0    0      0   \n",
              "\n",
              "   drunk  drugs  F  M  NaN  \n",
              "0      0      0  0  1    0  \n",
              "1      0      0  1  0    0  \n",
              "2      0      0  0  1    0  \n",
              "3      0      0  1  0    0  \n",
              "4      1      1  0  0    1  \n",
              "\n",
              "[5 rows x 43 columns]"
            ],
            "text/html": [
              "\n",
              "  <div id=\"df-687c4cc7-497d-4cb7-b20e-a9e94bac8be3\">\n",
              "    <div class=\"colab-df-container\">\n",
              "      <div>\n",
              "<style scoped>\n",
              "    .dataframe tbody tr th:only-of-type {\n",
              "        vertical-align: middle;\n",
              "    }\n",
              "\n",
              "    .dataframe tbody tr th {\n",
              "        vertical-align: top;\n",
              "    }\n",
              "\n",
              "    .dataframe thead th {\n",
              "        text-align: right;\n",
              "    }\n",
              "</style>\n",
              "<table border=\"1\" class=\"dataframe\">\n",
              "  <thead>\n",
              "    <tr style=\"text-align: right;\">\n",
              "      <th></th>\n",
              "      <th>gradyear</th>\n",
              "      <th>gender</th>\n",
              "      <th>age</th>\n",
              "      <th>friends</th>\n",
              "      <th>basketball</th>\n",
              "      <th>football</th>\n",
              "      <th>soccer</th>\n",
              "      <th>softball</th>\n",
              "      <th>volleyball</th>\n",
              "      <th>swimming</th>\n",
              "      <th>...</th>\n",
              "      <th>clothes</th>\n",
              "      <th>hollister</th>\n",
              "      <th>abercrombie</th>\n",
              "      <th>die</th>\n",
              "      <th>death</th>\n",
              "      <th>drunk</th>\n",
              "      <th>drugs</th>\n",
              "      <th>F</th>\n",
              "      <th>M</th>\n",
              "      <th>NaN</th>\n",
              "    </tr>\n",
              "  </thead>\n",
              "  <tbody>\n",
              "    <tr>\n",
              "      <th>0</th>\n",
              "      <td>2006</td>\n",
              "      <td>M</td>\n",
              "      <td>18.982</td>\n",
              "      <td>7</td>\n",
              "      <td>0</td>\n",
              "      <td>0</td>\n",
              "      <td>0</td>\n",
              "      <td>0</td>\n",
              "      <td>0</td>\n",
              "      <td>0</td>\n",
              "      <td>...</td>\n",
              "      <td>0</td>\n",
              "      <td>0</td>\n",
              "      <td>0</td>\n",
              "      <td>0</td>\n",
              "      <td>0</td>\n",
              "      <td>0</td>\n",
              "      <td>0</td>\n",
              "      <td>0</td>\n",
              "      <td>1</td>\n",
              "      <td>0</td>\n",
              "    </tr>\n",
              "    <tr>\n",
              "      <th>1</th>\n",
              "      <td>2006</td>\n",
              "      <td>F</td>\n",
              "      <td>18.801</td>\n",
              "      <td>0</td>\n",
              "      <td>0</td>\n",
              "      <td>1</td>\n",
              "      <td>0</td>\n",
              "      <td>0</td>\n",
              "      <td>0</td>\n",
              "      <td>0</td>\n",
              "      <td>...</td>\n",
              "      <td>0</td>\n",
              "      <td>0</td>\n",
              "      <td>0</td>\n",
              "      <td>0</td>\n",
              "      <td>0</td>\n",
              "      <td>0</td>\n",
              "      <td>0</td>\n",
              "      <td>1</td>\n",
              "      <td>0</td>\n",
              "      <td>0</td>\n",
              "    </tr>\n",
              "    <tr>\n",
              "      <th>2</th>\n",
              "      <td>2006</td>\n",
              "      <td>M</td>\n",
              "      <td>18.335</td>\n",
              "      <td>69</td>\n",
              "      <td>0</td>\n",
              "      <td>1</td>\n",
              "      <td>0</td>\n",
              "      <td>0</td>\n",
              "      <td>0</td>\n",
              "      <td>0</td>\n",
              "      <td>...</td>\n",
              "      <td>0</td>\n",
              "      <td>0</td>\n",
              "      <td>0</td>\n",
              "      <td>0</td>\n",
              "      <td>1</td>\n",
              "      <td>0</td>\n",
              "      <td>0</td>\n",
              "      <td>0</td>\n",
              "      <td>1</td>\n",
              "      <td>0</td>\n",
              "    </tr>\n",
              "    <tr>\n",
              "      <th>3</th>\n",
              "      <td>2006</td>\n",
              "      <td>F</td>\n",
              "      <td>18.875</td>\n",
              "      <td>0</td>\n",
              "      <td>0</td>\n",
              "      <td>0</td>\n",
              "      <td>0</td>\n",
              "      <td>0</td>\n",
              "      <td>0</td>\n",
              "      <td>0</td>\n",
              "      <td>...</td>\n",
              "      <td>0</td>\n",
              "      <td>0</td>\n",
              "      <td>0</td>\n",
              "      <td>0</td>\n",
              "      <td>0</td>\n",
              "      <td>0</td>\n",
              "      <td>0</td>\n",
              "      <td>1</td>\n",
              "      <td>0</td>\n",
              "      <td>0</td>\n",
              "    </tr>\n",
              "    <tr>\n",
              "      <th>4</th>\n",
              "      <td>2006</td>\n",
              "      <td>NaN</td>\n",
              "      <td>18.995</td>\n",
              "      <td>10</td>\n",
              "      <td>0</td>\n",
              "      <td>0</td>\n",
              "      <td>0</td>\n",
              "      <td>0</td>\n",
              "      <td>0</td>\n",
              "      <td>0</td>\n",
              "      <td>...</td>\n",
              "      <td>0</td>\n",
              "      <td>0</td>\n",
              "      <td>0</td>\n",
              "      <td>0</td>\n",
              "      <td>0</td>\n",
              "      <td>1</td>\n",
              "      <td>1</td>\n",
              "      <td>0</td>\n",
              "      <td>0</td>\n",
              "      <td>1</td>\n",
              "    </tr>\n",
              "  </tbody>\n",
              "</table>\n",
              "<p>5 rows × 43 columns</p>\n",
              "</div>\n",
              "      <button class=\"colab-df-convert\" onclick=\"convertToInteractive('df-687c4cc7-497d-4cb7-b20e-a9e94bac8be3')\"\n",
              "              title=\"Convert this dataframe to an interactive table.\"\n",
              "              style=\"display:none;\">\n",
              "        \n",
              "  <svg xmlns=\"http://www.w3.org/2000/svg\" height=\"24px\"viewBox=\"0 0 24 24\"\n",
              "       width=\"24px\">\n",
              "    <path d=\"M0 0h24v24H0V0z\" fill=\"none\"/>\n",
              "    <path d=\"M18.56 5.44l.94 2.06.94-2.06 2.06-.94-2.06-.94-.94-2.06-.94 2.06-2.06.94zm-11 1L8.5 8.5l.94-2.06 2.06-.94-2.06-.94L8.5 2.5l-.94 2.06-2.06.94zm10 10l.94 2.06.94-2.06 2.06-.94-2.06-.94-.94-2.06-.94 2.06-2.06.94z\"/><path d=\"M17.41 7.96l-1.37-1.37c-.4-.4-.92-.59-1.43-.59-.52 0-1.04.2-1.43.59L10.3 9.45l-7.72 7.72c-.78.78-.78 2.05 0 2.83L4 21.41c.39.39.9.59 1.41.59.51 0 1.02-.2 1.41-.59l7.78-7.78 2.81-2.81c.8-.78.8-2.07 0-2.86zM5.41 20L4 18.59l7.72-7.72 1.47 1.35L5.41 20z\"/>\n",
              "  </svg>\n",
              "      </button>\n",
              "      \n",
              "  <style>\n",
              "    .colab-df-container {\n",
              "      display:flex;\n",
              "      flex-wrap:wrap;\n",
              "      gap: 12px;\n",
              "    }\n",
              "\n",
              "    .colab-df-convert {\n",
              "      background-color: #E8F0FE;\n",
              "      border: none;\n",
              "      border-radius: 50%;\n",
              "      cursor: pointer;\n",
              "      display: none;\n",
              "      fill: #1967D2;\n",
              "      height: 32px;\n",
              "      padding: 0 0 0 0;\n",
              "      width: 32px;\n",
              "    }\n",
              "\n",
              "    .colab-df-convert:hover {\n",
              "      background-color: #E2EBFA;\n",
              "      box-shadow: 0px 1px 2px rgba(60, 64, 67, 0.3), 0px 1px 3px 1px rgba(60, 64, 67, 0.15);\n",
              "      fill: #174EA6;\n",
              "    }\n",
              "\n",
              "    [theme=dark] .colab-df-convert {\n",
              "      background-color: #3B4455;\n",
              "      fill: #D2E3FC;\n",
              "    }\n",
              "\n",
              "    [theme=dark] .colab-df-convert:hover {\n",
              "      background-color: #434B5C;\n",
              "      box-shadow: 0px 1px 3px 1px rgba(0, 0, 0, 0.15);\n",
              "      filter: drop-shadow(0px 1px 2px rgba(0, 0, 0, 0.3));\n",
              "      fill: #FFFFFF;\n",
              "    }\n",
              "  </style>\n",
              "\n",
              "      <script>\n",
              "        const buttonEl =\n",
              "          document.querySelector('#df-687c4cc7-497d-4cb7-b20e-a9e94bac8be3 button.colab-df-convert');\n",
              "        buttonEl.style.display =\n",
              "          google.colab.kernel.accessAllowed ? 'block' : 'none';\n",
              "\n",
              "        async function convertToInteractive(key) {\n",
              "          const element = document.querySelector('#df-687c4cc7-497d-4cb7-b20e-a9e94bac8be3');\n",
              "          const dataTable =\n",
              "            await google.colab.kernel.invokeFunction('convertToInteractive',\n",
              "                                                     [key], {});\n",
              "          if (!dataTable) return;\n",
              "\n",
              "          const docLinkHtml = 'Like what you see? Visit the ' +\n",
              "            '<a target=\"_blank\" href=https://colab.research.google.com/notebooks/data_table.ipynb>data table notebook</a>'\n",
              "            + ' to learn more about interactive tables.';\n",
              "          element.innerHTML = '';\n",
              "          dataTable['output_type'] = 'display_data';\n",
              "          await google.colab.output.renderOutput(dataTable, element);\n",
              "          const docLink = document.createElement('div');\n",
              "          docLink.innerHTML = docLinkHtml;\n",
              "          element.appendChild(docLink);\n",
              "        }\n",
              "      </script>\n",
              "    </div>\n",
              "  </div>\n",
              "  "
            ]
          },
          "metadata": {},
          "execution_count": 129
        }
      ],
      "source": [
        "df=df.merge(dummy,left_index=True,right_index=True)\n",
        "df.head(5)"
      ]
    },
    {
      "cell_type": "code",
      "execution_count": null,
      "id": "4ba09793",
      "metadata": {
        "id": "4ba09793"
      },
      "outputs": [],
      "source": [
        "df1=df"
      ]
    },
    {
      "cell_type": "code",
      "execution_count": null,
      "id": "6198220a",
      "metadata": {
        "id": "6198220a"
      },
      "outputs": [],
      "source": [
        "df2=df"
      ]
    },
    {
      "cell_type": "markdown",
      "source": [
        "**Now filling the null values of age by putting the mean of the grad year**"
      ],
      "metadata": {
        "id": "IaSKyH9QNwSV"
      },
      "id": "IaSKyH9QNwSV"
    },
    {
      "cell_type": "code",
      "execution_count": null,
      "id": "666e5f72",
      "metadata": {
        "id": "666e5f72"
      },
      "outputs": [],
      "source": [
        "df1['age']=df1['age'].fillna(value=df1['age'].mean())"
      ]
    },
    {
      "cell_type": "code",
      "execution_count": null,
      "id": "6fb43d35",
      "metadata": {
        "id": "6fb43d35",
        "outputId": "bebd3e47-5af1-47f3-a917-495251eb0e6c",
        "colab": {
          "base_uri": "https://localhost:8080/",
          "height": 423
        }
      },
      "outputs": [
        {
          "output_type": "execute_result",
          "data": {
            "text/plain": [
              "       gradyear gender     age  friends  basketball  football  soccer  \\\n",
              "0          2006      M  18.982        7           0         0       0   \n",
              "1          2006      F  18.801        0           0         1       0   \n",
              "2          2006      M  18.335       69           0         1       0   \n",
              "3          2006      F  18.875        0           0         0       0   \n",
              "4          2006    NaN  18.995       10           0         0       0   \n",
              "...         ...    ...     ...      ...         ...       ...     ...   \n",
              "29995      2009      M  16.115        0           0         0       0   \n",
              "29996      2009      M  15.792        1           0         1       0   \n",
              "29997      2009      M  15.784        0           0         1       0   \n",
              "29998      2009      M  16.378        0           0         0       0   \n",
              "29999      2009      F  18.724        3           2         0       0   \n",
              "\n",
              "       softball  volleyball  swimming  ...  clothes  hollister  abercrombie  \\\n",
              "0             0           0         0  ...        0          0            0   \n",
              "1             0           0         0  ...        0          0            0   \n",
              "2             0           0         0  ...        0          0            0   \n",
              "3             0           0         0  ...        0          0            0   \n",
              "4             0           0         0  ...        0          0            0   \n",
              "...         ...         ...       ...  ...      ...        ...          ...   \n",
              "29995         0           0         0  ...        0          0            0   \n",
              "29996         0           0         0  ...        0          0            0   \n",
              "29997         0           0         0  ...        0          0            0   \n",
              "29998         0           0         0  ...        0          0            0   \n",
              "29999         1           0         0  ...        0          0            0   \n",
              "\n",
              "       die  death  drunk  drugs  F  M  NaN  \n",
              "0        0      0      0      0  0  1    0  \n",
              "1        0      0      0      0  1  0    0  \n",
              "2        0      1      0      0  0  1    0  \n",
              "3        0      0      0      0  1  0    0  \n",
              "4        0      0      1      1  0  0    1  \n",
              "...    ...    ...    ...    ... .. ..  ...  \n",
              "29995    0      0      0      0  0  1    0  \n",
              "29996    0      0      0      0  0  1    0  \n",
              "29997    0      0      0      0  0  1    0  \n",
              "29998    0      0      0      0  0  1    0  \n",
              "29999    0      0      0      0  1  0    0  \n",
              "\n",
              "[30000 rows x 43 columns]"
            ],
            "text/html": [
              "\n",
              "  <div id=\"df-42ddac78-8601-4960-865d-f04ada2a0b06\">\n",
              "    <div class=\"colab-df-container\">\n",
              "      <div>\n",
              "<style scoped>\n",
              "    .dataframe tbody tr th:only-of-type {\n",
              "        vertical-align: middle;\n",
              "    }\n",
              "\n",
              "    .dataframe tbody tr th {\n",
              "        vertical-align: top;\n",
              "    }\n",
              "\n",
              "    .dataframe thead th {\n",
              "        text-align: right;\n",
              "    }\n",
              "</style>\n",
              "<table border=\"1\" class=\"dataframe\">\n",
              "  <thead>\n",
              "    <tr style=\"text-align: right;\">\n",
              "      <th></th>\n",
              "      <th>gradyear</th>\n",
              "      <th>gender</th>\n",
              "      <th>age</th>\n",
              "      <th>friends</th>\n",
              "      <th>basketball</th>\n",
              "      <th>football</th>\n",
              "      <th>soccer</th>\n",
              "      <th>softball</th>\n",
              "      <th>volleyball</th>\n",
              "      <th>swimming</th>\n",
              "      <th>...</th>\n",
              "      <th>clothes</th>\n",
              "      <th>hollister</th>\n",
              "      <th>abercrombie</th>\n",
              "      <th>die</th>\n",
              "      <th>death</th>\n",
              "      <th>drunk</th>\n",
              "      <th>drugs</th>\n",
              "      <th>F</th>\n",
              "      <th>M</th>\n",
              "      <th>NaN</th>\n",
              "    </tr>\n",
              "  </thead>\n",
              "  <tbody>\n",
              "    <tr>\n",
              "      <th>0</th>\n",
              "      <td>2006</td>\n",
              "      <td>M</td>\n",
              "      <td>18.982</td>\n",
              "      <td>7</td>\n",
              "      <td>0</td>\n",
              "      <td>0</td>\n",
              "      <td>0</td>\n",
              "      <td>0</td>\n",
              "      <td>0</td>\n",
              "      <td>0</td>\n",
              "      <td>...</td>\n",
              "      <td>0</td>\n",
              "      <td>0</td>\n",
              "      <td>0</td>\n",
              "      <td>0</td>\n",
              "      <td>0</td>\n",
              "      <td>0</td>\n",
              "      <td>0</td>\n",
              "      <td>0</td>\n",
              "      <td>1</td>\n",
              "      <td>0</td>\n",
              "    </tr>\n",
              "    <tr>\n",
              "      <th>1</th>\n",
              "      <td>2006</td>\n",
              "      <td>F</td>\n",
              "      <td>18.801</td>\n",
              "      <td>0</td>\n",
              "      <td>0</td>\n",
              "      <td>1</td>\n",
              "      <td>0</td>\n",
              "      <td>0</td>\n",
              "      <td>0</td>\n",
              "      <td>0</td>\n",
              "      <td>...</td>\n",
              "      <td>0</td>\n",
              "      <td>0</td>\n",
              "      <td>0</td>\n",
              "      <td>0</td>\n",
              "      <td>0</td>\n",
              "      <td>0</td>\n",
              "      <td>0</td>\n",
              "      <td>1</td>\n",
              "      <td>0</td>\n",
              "      <td>0</td>\n",
              "    </tr>\n",
              "    <tr>\n",
              "      <th>2</th>\n",
              "      <td>2006</td>\n",
              "      <td>M</td>\n",
              "      <td>18.335</td>\n",
              "      <td>69</td>\n",
              "      <td>0</td>\n",
              "      <td>1</td>\n",
              "      <td>0</td>\n",
              "      <td>0</td>\n",
              "      <td>0</td>\n",
              "      <td>0</td>\n",
              "      <td>...</td>\n",
              "      <td>0</td>\n",
              "      <td>0</td>\n",
              "      <td>0</td>\n",
              "      <td>0</td>\n",
              "      <td>1</td>\n",
              "      <td>0</td>\n",
              "      <td>0</td>\n",
              "      <td>0</td>\n",
              "      <td>1</td>\n",
              "      <td>0</td>\n",
              "    </tr>\n",
              "    <tr>\n",
              "      <th>3</th>\n",
              "      <td>2006</td>\n",
              "      <td>F</td>\n",
              "      <td>18.875</td>\n",
              "      <td>0</td>\n",
              "      <td>0</td>\n",
              "      <td>0</td>\n",
              "      <td>0</td>\n",
              "      <td>0</td>\n",
              "      <td>0</td>\n",
              "      <td>0</td>\n",
              "      <td>...</td>\n",
              "      <td>0</td>\n",
              "      <td>0</td>\n",
              "      <td>0</td>\n",
              "      <td>0</td>\n",
              "      <td>0</td>\n",
              "      <td>0</td>\n",
              "      <td>0</td>\n",
              "      <td>1</td>\n",
              "      <td>0</td>\n",
              "      <td>0</td>\n",
              "    </tr>\n",
              "    <tr>\n",
              "      <th>4</th>\n",
              "      <td>2006</td>\n",
              "      <td>NaN</td>\n",
              "      <td>18.995</td>\n",
              "      <td>10</td>\n",
              "      <td>0</td>\n",
              "      <td>0</td>\n",
              "      <td>0</td>\n",
              "      <td>0</td>\n",
              "      <td>0</td>\n",
              "      <td>0</td>\n",
              "      <td>...</td>\n",
              "      <td>0</td>\n",
              "      <td>0</td>\n",
              "      <td>0</td>\n",
              "      <td>0</td>\n",
              "      <td>0</td>\n",
              "      <td>1</td>\n",
              "      <td>1</td>\n",
              "      <td>0</td>\n",
              "      <td>0</td>\n",
              "      <td>1</td>\n",
              "    </tr>\n",
              "    <tr>\n",
              "      <th>...</th>\n",
              "      <td>...</td>\n",
              "      <td>...</td>\n",
              "      <td>...</td>\n",
              "      <td>...</td>\n",
              "      <td>...</td>\n",
              "      <td>...</td>\n",
              "      <td>...</td>\n",
              "      <td>...</td>\n",
              "      <td>...</td>\n",
              "      <td>...</td>\n",
              "      <td>...</td>\n",
              "      <td>...</td>\n",
              "      <td>...</td>\n",
              "      <td>...</td>\n",
              "      <td>...</td>\n",
              "      <td>...</td>\n",
              "      <td>...</td>\n",
              "      <td>...</td>\n",
              "      <td>...</td>\n",
              "      <td>...</td>\n",
              "      <td>...</td>\n",
              "    </tr>\n",
              "    <tr>\n",
              "      <th>29995</th>\n",
              "      <td>2009</td>\n",
              "      <td>M</td>\n",
              "      <td>16.115</td>\n",
              "      <td>0</td>\n",
              "      <td>0</td>\n",
              "      <td>0</td>\n",
              "      <td>0</td>\n",
              "      <td>0</td>\n",
              "      <td>0</td>\n",
              "      <td>0</td>\n",
              "      <td>...</td>\n",
              "      <td>0</td>\n",
              "      <td>0</td>\n",
              "      <td>0</td>\n",
              "      <td>0</td>\n",
              "      <td>0</td>\n",
              "      <td>0</td>\n",
              "      <td>0</td>\n",
              "      <td>0</td>\n",
              "      <td>1</td>\n",
              "      <td>0</td>\n",
              "    </tr>\n",
              "    <tr>\n",
              "      <th>29996</th>\n",
              "      <td>2009</td>\n",
              "      <td>M</td>\n",
              "      <td>15.792</td>\n",
              "      <td>1</td>\n",
              "      <td>0</td>\n",
              "      <td>1</td>\n",
              "      <td>0</td>\n",
              "      <td>0</td>\n",
              "      <td>0</td>\n",
              "      <td>0</td>\n",
              "      <td>...</td>\n",
              "      <td>0</td>\n",
              "      <td>0</td>\n",
              "      <td>0</td>\n",
              "      <td>0</td>\n",
              "      <td>0</td>\n",
              "      <td>0</td>\n",
              "      <td>0</td>\n",
              "      <td>0</td>\n",
              "      <td>1</td>\n",
              "      <td>0</td>\n",
              "    </tr>\n",
              "    <tr>\n",
              "      <th>29997</th>\n",
              "      <td>2009</td>\n",
              "      <td>M</td>\n",
              "      <td>15.784</td>\n",
              "      <td>0</td>\n",
              "      <td>0</td>\n",
              "      <td>1</td>\n",
              "      <td>0</td>\n",
              "      <td>0</td>\n",
              "      <td>0</td>\n",
              "      <td>0</td>\n",
              "      <td>...</td>\n",
              "      <td>0</td>\n",
              "      <td>0</td>\n",
              "      <td>0</td>\n",
              "      <td>0</td>\n",
              "      <td>0</td>\n",
              "      <td>0</td>\n",
              "      <td>0</td>\n",
              "      <td>0</td>\n",
              "      <td>1</td>\n",
              "      <td>0</td>\n",
              "    </tr>\n",
              "    <tr>\n",
              "      <th>29998</th>\n",
              "      <td>2009</td>\n",
              "      <td>M</td>\n",
              "      <td>16.378</td>\n",
              "      <td>0</td>\n",
              "      <td>0</td>\n",
              "      <td>0</td>\n",
              "      <td>0</td>\n",
              "      <td>0</td>\n",
              "      <td>0</td>\n",
              "      <td>0</td>\n",
              "      <td>...</td>\n",
              "      <td>0</td>\n",
              "      <td>0</td>\n",
              "      <td>0</td>\n",
              "      <td>0</td>\n",
              "      <td>0</td>\n",
              "      <td>0</td>\n",
              "      <td>0</td>\n",
              "      <td>0</td>\n",
              "      <td>1</td>\n",
              "      <td>0</td>\n",
              "    </tr>\n",
              "    <tr>\n",
              "      <th>29999</th>\n",
              "      <td>2009</td>\n",
              "      <td>F</td>\n",
              "      <td>18.724</td>\n",
              "      <td>3</td>\n",
              "      <td>2</td>\n",
              "      <td>0</td>\n",
              "      <td>0</td>\n",
              "      <td>1</td>\n",
              "      <td>0</td>\n",
              "      <td>0</td>\n",
              "      <td>...</td>\n",
              "      <td>0</td>\n",
              "      <td>0</td>\n",
              "      <td>0</td>\n",
              "      <td>0</td>\n",
              "      <td>0</td>\n",
              "      <td>0</td>\n",
              "      <td>0</td>\n",
              "      <td>1</td>\n",
              "      <td>0</td>\n",
              "      <td>0</td>\n",
              "    </tr>\n",
              "  </tbody>\n",
              "</table>\n",
              "<p>30000 rows × 43 columns</p>\n",
              "</div>\n",
              "      <button class=\"colab-df-convert\" onclick=\"convertToInteractive('df-42ddac78-8601-4960-865d-f04ada2a0b06')\"\n",
              "              title=\"Convert this dataframe to an interactive table.\"\n",
              "              style=\"display:none;\">\n",
              "        \n",
              "  <svg xmlns=\"http://www.w3.org/2000/svg\" height=\"24px\"viewBox=\"0 0 24 24\"\n",
              "       width=\"24px\">\n",
              "    <path d=\"M0 0h24v24H0V0z\" fill=\"none\"/>\n",
              "    <path d=\"M18.56 5.44l.94 2.06.94-2.06 2.06-.94-2.06-.94-.94-2.06-.94 2.06-2.06.94zm-11 1L8.5 8.5l.94-2.06 2.06-.94-2.06-.94L8.5 2.5l-.94 2.06-2.06.94zm10 10l.94 2.06.94-2.06 2.06-.94-2.06-.94-.94-2.06-.94 2.06-2.06.94z\"/><path d=\"M17.41 7.96l-1.37-1.37c-.4-.4-.92-.59-1.43-.59-.52 0-1.04.2-1.43.59L10.3 9.45l-7.72 7.72c-.78.78-.78 2.05 0 2.83L4 21.41c.39.39.9.59 1.41.59.51 0 1.02-.2 1.41-.59l7.78-7.78 2.81-2.81c.8-.78.8-2.07 0-2.86zM5.41 20L4 18.59l7.72-7.72 1.47 1.35L5.41 20z\"/>\n",
              "  </svg>\n",
              "      </button>\n",
              "      \n",
              "  <style>\n",
              "    .colab-df-container {\n",
              "      display:flex;\n",
              "      flex-wrap:wrap;\n",
              "      gap: 12px;\n",
              "    }\n",
              "\n",
              "    .colab-df-convert {\n",
              "      background-color: #E8F0FE;\n",
              "      border: none;\n",
              "      border-radius: 50%;\n",
              "      cursor: pointer;\n",
              "      display: none;\n",
              "      fill: #1967D2;\n",
              "      height: 32px;\n",
              "      padding: 0 0 0 0;\n",
              "      width: 32px;\n",
              "    }\n",
              "\n",
              "    .colab-df-convert:hover {\n",
              "      background-color: #E2EBFA;\n",
              "      box-shadow: 0px 1px 2px rgba(60, 64, 67, 0.3), 0px 1px 3px 1px rgba(60, 64, 67, 0.15);\n",
              "      fill: #174EA6;\n",
              "    }\n",
              "\n",
              "    [theme=dark] .colab-df-convert {\n",
              "      background-color: #3B4455;\n",
              "      fill: #D2E3FC;\n",
              "    }\n",
              "\n",
              "    [theme=dark] .colab-df-convert:hover {\n",
              "      background-color: #434B5C;\n",
              "      box-shadow: 0px 1px 3px 1px rgba(0, 0, 0, 0.15);\n",
              "      filter: drop-shadow(0px 1px 2px rgba(0, 0, 0, 0.3));\n",
              "      fill: #FFFFFF;\n",
              "    }\n",
              "  </style>\n",
              "\n",
              "      <script>\n",
              "        const buttonEl =\n",
              "          document.querySelector('#df-42ddac78-8601-4960-865d-f04ada2a0b06 button.colab-df-convert');\n",
              "        buttonEl.style.display =\n",
              "          google.colab.kernel.accessAllowed ? 'block' : 'none';\n",
              "\n",
              "        async function convertToInteractive(key) {\n",
              "          const element = document.querySelector('#df-42ddac78-8601-4960-865d-f04ada2a0b06');\n",
              "          const dataTable =\n",
              "            await google.colab.kernel.invokeFunction('convertToInteractive',\n",
              "                                                     [key], {});\n",
              "          if (!dataTable) return;\n",
              "\n",
              "          const docLinkHtml = 'Like what you see? Visit the ' +\n",
              "            '<a target=\"_blank\" href=https://colab.research.google.com/notebooks/data_table.ipynb>data table notebook</a>'\n",
              "            + ' to learn more about interactive tables.';\n",
              "          element.innerHTML = '';\n",
              "          dataTable['output_type'] = 'display_data';\n",
              "          await google.colab.output.renderOutput(dataTable, element);\n",
              "          const docLink = document.createElement('div');\n",
              "          docLink.innerHTML = docLinkHtml;\n",
              "          element.appendChild(docLink);\n",
              "        }\n",
              "      </script>\n",
              "    </div>\n",
              "  </div>\n",
              "  "
            ]
          },
          "metadata": {},
          "execution_count": 133
        }
      ],
      "source": [
        "df1"
      ]
    },
    {
      "cell_type": "code",
      "execution_count": null,
      "id": "a54deffa",
      "metadata": {
        "id": "a54deffa",
        "outputId": "da8030b0-702e-4755-d356-f72c5fe78d58",
        "colab": {
          "base_uri": "https://localhost:8080/"
        }
      },
      "outputs": [
        {
          "output_type": "execute_result",
          "data": {
            "text/plain": [
              "gradyear           0\n",
              "gender          2724\n",
              "age                0\n",
              "friends            0\n",
              "basketball         0\n",
              "football           0\n",
              "soccer             0\n",
              "softball           0\n",
              "volleyball         0\n",
              "swimming           0\n",
              "cheerleading       0\n",
              "baseball           0\n",
              "tennis             0\n",
              "sports             0\n",
              "cute               0\n",
              "sex                0\n",
              "sexy               0\n",
              "hot                0\n",
              "kissed             0\n",
              "dance              0\n",
              "band               0\n",
              "marching           0\n",
              "music              0\n",
              "rock               0\n",
              "god                0\n",
              "church             0\n",
              "jesus              0\n",
              "bible              0\n",
              "hair               0\n",
              "dress              0\n",
              "blonde             0\n",
              "mall               0\n",
              "shopping           0\n",
              "clothes            0\n",
              "hollister          0\n",
              "abercrombie        0\n",
              "die                0\n",
              "death              0\n",
              "drunk              0\n",
              "drugs              0\n",
              "F                  0\n",
              "M                  0\n",
              "NaN                0\n",
              "dtype: int64"
            ]
          },
          "metadata": {},
          "execution_count": 134
        }
      ],
      "source": [
        "df1.isnull().sum()"
      ]
    },
    {
      "cell_type": "code",
      "execution_count": null,
      "id": "a31b8759",
      "metadata": {
        "id": "a31b8759",
        "outputId": "ac083cd3-0c8d-4f6d-b152-9cef48462c20",
        "colab": {
          "base_uri": "https://localhost:8080/",
          "height": 174
        }
      },
      "outputs": [
        {
          "output_type": "execute_result",
          "data": {
            "text/plain": [
              "   gradyear        age\n",
              "0      2006  18.410351\n",
              "1      2007  17.628673\n",
              "2      2008  16.857860\n",
              "3      2009  16.112831"
            ],
            "text/html": [
              "\n",
              "  <div id=\"df-c3414a7a-5bb7-4fd4-9072-39137b00ff18\">\n",
              "    <div class=\"colab-df-container\">\n",
              "      <div>\n",
              "<style scoped>\n",
              "    .dataframe tbody tr th:only-of-type {\n",
              "        vertical-align: middle;\n",
              "    }\n",
              "\n",
              "    .dataframe tbody tr th {\n",
              "        vertical-align: top;\n",
              "    }\n",
              "\n",
              "    .dataframe thead th {\n",
              "        text-align: right;\n",
              "    }\n",
              "</style>\n",
              "<table border=\"1\" class=\"dataframe\">\n",
              "  <thead>\n",
              "    <tr style=\"text-align: right;\">\n",
              "      <th></th>\n",
              "      <th>gradyear</th>\n",
              "      <th>age</th>\n",
              "    </tr>\n",
              "  </thead>\n",
              "  <tbody>\n",
              "    <tr>\n",
              "      <th>0</th>\n",
              "      <td>2006</td>\n",
              "      <td>18.410351</td>\n",
              "    </tr>\n",
              "    <tr>\n",
              "      <th>1</th>\n",
              "      <td>2007</td>\n",
              "      <td>17.628673</td>\n",
              "    </tr>\n",
              "    <tr>\n",
              "      <th>2</th>\n",
              "      <td>2008</td>\n",
              "      <td>16.857860</td>\n",
              "    </tr>\n",
              "    <tr>\n",
              "      <th>3</th>\n",
              "      <td>2009</td>\n",
              "      <td>16.112831</td>\n",
              "    </tr>\n",
              "  </tbody>\n",
              "</table>\n",
              "</div>\n",
              "      <button class=\"colab-df-convert\" onclick=\"convertToInteractive('df-c3414a7a-5bb7-4fd4-9072-39137b00ff18')\"\n",
              "              title=\"Convert this dataframe to an interactive table.\"\n",
              "              style=\"display:none;\">\n",
              "        \n",
              "  <svg xmlns=\"http://www.w3.org/2000/svg\" height=\"24px\"viewBox=\"0 0 24 24\"\n",
              "       width=\"24px\">\n",
              "    <path d=\"M0 0h24v24H0V0z\" fill=\"none\"/>\n",
              "    <path d=\"M18.56 5.44l.94 2.06.94-2.06 2.06-.94-2.06-.94-.94-2.06-.94 2.06-2.06.94zm-11 1L8.5 8.5l.94-2.06 2.06-.94-2.06-.94L8.5 2.5l-.94 2.06-2.06.94zm10 10l.94 2.06.94-2.06 2.06-.94-2.06-.94-.94-2.06-.94 2.06-2.06.94z\"/><path d=\"M17.41 7.96l-1.37-1.37c-.4-.4-.92-.59-1.43-.59-.52 0-1.04.2-1.43.59L10.3 9.45l-7.72 7.72c-.78.78-.78 2.05 0 2.83L4 21.41c.39.39.9.59 1.41.59.51 0 1.02-.2 1.41-.59l7.78-7.78 2.81-2.81c.8-.78.8-2.07 0-2.86zM5.41 20L4 18.59l7.72-7.72 1.47 1.35L5.41 20z\"/>\n",
              "  </svg>\n",
              "      </button>\n",
              "      \n",
              "  <style>\n",
              "    .colab-df-container {\n",
              "      display:flex;\n",
              "      flex-wrap:wrap;\n",
              "      gap: 12px;\n",
              "    }\n",
              "\n",
              "    .colab-df-convert {\n",
              "      background-color: #E8F0FE;\n",
              "      border: none;\n",
              "      border-radius: 50%;\n",
              "      cursor: pointer;\n",
              "      display: none;\n",
              "      fill: #1967D2;\n",
              "      height: 32px;\n",
              "      padding: 0 0 0 0;\n",
              "      width: 32px;\n",
              "    }\n",
              "\n",
              "    .colab-df-convert:hover {\n",
              "      background-color: #E2EBFA;\n",
              "      box-shadow: 0px 1px 2px rgba(60, 64, 67, 0.3), 0px 1px 3px 1px rgba(60, 64, 67, 0.15);\n",
              "      fill: #174EA6;\n",
              "    }\n",
              "\n",
              "    [theme=dark] .colab-df-convert {\n",
              "      background-color: #3B4455;\n",
              "      fill: #D2E3FC;\n",
              "    }\n",
              "\n",
              "    [theme=dark] .colab-df-convert:hover {\n",
              "      background-color: #434B5C;\n",
              "      box-shadow: 0px 1px 3px 1px rgba(0, 0, 0, 0.15);\n",
              "      filter: drop-shadow(0px 1px 2px rgba(0, 0, 0, 0.3));\n",
              "      fill: #FFFFFF;\n",
              "    }\n",
              "  </style>\n",
              "\n",
              "      <script>\n",
              "        const buttonEl =\n",
              "          document.querySelector('#df-c3414a7a-5bb7-4fd4-9072-39137b00ff18 button.colab-df-convert');\n",
              "        buttonEl.style.display =\n",
              "          google.colab.kernel.accessAllowed ? 'block' : 'none';\n",
              "\n",
              "        async function convertToInteractive(key) {\n",
              "          const element = document.querySelector('#df-c3414a7a-5bb7-4fd4-9072-39137b00ff18');\n",
              "          const dataTable =\n",
              "            await google.colab.kernel.invokeFunction('convertToInteractive',\n",
              "                                                     [key], {});\n",
              "          if (!dataTable) return;\n",
              "\n",
              "          const docLinkHtml = 'Like what you see? Visit the ' +\n",
              "            '<a target=\"_blank\" href=https://colab.research.google.com/notebooks/data_table.ipynb>data table notebook</a>'\n",
              "            + ' to learn more about interactive tables.';\n",
              "          element.innerHTML = '';\n",
              "          dataTable['output_type'] = 'display_data';\n",
              "          await google.colab.output.renderOutput(dataTable, element);\n",
              "          const docLink = document.createElement('div');\n",
              "          docLink.innerHTML = docLinkHtml;\n",
              "          element.appendChild(docLink);\n",
              "        }\n",
              "      </script>\n",
              "    </div>\n",
              "  </div>\n",
              "  "
            ]
          },
          "metadata": {},
          "execution_count": 135
        }
      ],
      "source": [
        "df2.groupby('gradyear', as_index=False)['age'].mean()"
      ]
    },
    {
      "cell_type": "markdown",
      "source": [
        "**Here we are creating seperate dataframe for all gradyear and calculting their mean**"
      ],
      "metadata": {
        "id": "g5GoaUqvN3_9"
      },
      "id": "g5GoaUqvN3_9"
    },
    {
      "cell_type": "code",
      "execution_count": null,
      "id": "ce3cc245",
      "metadata": {
        "id": "ce3cc245"
      },
      "outputs": [],
      "source": [
        "df3=df2[df2[\"gradyear\"]==2006]\n",
        "df4=df2[df2[\"gradyear\"]==2007]\n",
        "df5=df2[df2[\"gradyear\"]==2008]\n",
        "df6=df2[df2\n",
        "        [\"gradyear\"]==2009]"
      ]
    },
    {
      "cell_type": "markdown",
      "source": [
        "**we will replace all the null values in all rows of gradyear with their mean** "
      ],
      "metadata": {
        "id": "iD6tsUHqOB41"
      },
      "id": "iD6tsUHqOB41"
    },
    {
      "cell_type": "code",
      "execution_count": null,
      "id": "41da0529",
      "metadata": {
        "id": "41da0529",
        "outputId": "f5d379f1-7efd-44a4-c1f2-b53f87ae5328",
        "colab": {
          "base_uri": "https://localhost:8080/"
        }
      },
      "outputs": [
        {
          "output_type": "stream",
          "name": "stderr",
          "text": [
            "/usr/local/lib/python3.7/dist-packages/ipykernel_launcher.py:1: SettingWithCopyWarning: \n",
            "A value is trying to be set on a copy of a slice from a DataFrame.\n",
            "Try using .loc[row_indexer,col_indexer] = value instead\n",
            "\n",
            "See the caveats in the documentation: https://pandas.pydata.org/pandas-docs/stable/user_guide/indexing.html#returning-a-view-versus-a-copy\n",
            "  \"\"\"Entry point for launching an IPython kernel.\n"
          ]
        }
      ],
      "source": [
        "df3['age']=df3['age'].fillna(18.65586)"
      ]
    },
    {
      "cell_type": "markdown",
      "source": [
        "**we will do this for all dataframes**"
      ],
      "metadata": {
        "id": "gpG3L-rDOPvI"
      },
      "id": "gpG3L-rDOPvI"
    },
    {
      "cell_type": "code",
      "execution_count": null,
      "id": "4803d45a",
      "metadata": {
        "id": "4803d45a",
        "outputId": "7bf0caf3-1442-48fb-dbce-01f8c16f390e",
        "colab": {
          "base_uri": "https://localhost:8080/"
        }
      },
      "outputs": [
        {
          "output_type": "stream",
          "name": "stderr",
          "text": [
            "/usr/local/lib/python3.7/dist-packages/ipykernel_launcher.py:1: SettingWithCopyWarning: \n",
            "A value is trying to be set on a copy of a slice from a DataFrame.\n",
            "Try using .loc[row_indexer,col_indexer] = value instead\n",
            "\n",
            "See the caveats in the documentation: https://pandas.pydata.org/pandas-docs/stable/user_guide/indexing.html#returning-a-view-versus-a-copy\n",
            "  \"\"\"Entry point for launching an IPython kernel.\n"
          ]
        }
      ],
      "source": [
        "df4['age']=df4['age'].fillna(17.70617)"
      ]
    },
    {
      "cell_type": "code",
      "execution_count": null,
      "id": "14cd2b95",
      "metadata": {
        "id": "14cd2b95",
        "outputId": "8f41ce82-7474-49bc-cffe-fa1125e2f750",
        "colab": {
          "base_uri": "https://localhost:8080/"
        }
      },
      "outputs": [
        {
          "output_type": "stream",
          "name": "stderr",
          "text": [
            "/usr/local/lib/python3.7/dist-packages/ipykernel_launcher.py:1: SettingWithCopyWarning: \n",
            "A value is trying to be set on a copy of a slice from a DataFrame.\n",
            "Try using .loc[row_indexer,col_indexer] = value instead\n",
            "\n",
            "See the caveats in the documentation: https://pandas.pydata.org/pandas-docs/stable/user_guide/indexing.html#returning-a-view-versus-a-copy\n",
            "  \"\"\"Entry point for launching an IPython kernel.\n"
          ]
        }
      ],
      "source": [
        "df5['age']=df5['age'].fillna(16.76770)"
      ]
    },
    {
      "cell_type": "code",
      "execution_count": null,
      "id": "c4688f91",
      "metadata": {
        "id": "c4688f91",
        "outputId": "2936e9a0-711c-4475-fc93-7c7ddffd5cdf",
        "colab": {
          "base_uri": "https://localhost:8080/"
        }
      },
      "outputs": [
        {
          "output_type": "stream",
          "name": "stderr",
          "text": [
            "/usr/local/lib/python3.7/dist-packages/ipykernel_launcher.py:1: SettingWithCopyWarning: \n",
            "A value is trying to be set on a copy of a slice from a DataFrame.\n",
            "Try using .loc[row_indexer,col_indexer] = value instead\n",
            "\n",
            "See the caveats in the documentation: https://pandas.pydata.org/pandas-docs/stable/user_guide/indexing.html#returning-a-view-versus-a-copy\n",
            "  \"\"\"Entry point for launching an IPython kernel.\n"
          ]
        }
      ],
      "source": [
        "df6['age']=df6['age'].fillna(15.81957)"
      ]
    },
    {
      "cell_type": "markdown",
      "source": [
        "**Finally we will merge all the dataframes and this is our pre-processed dataset**"
      ],
      "metadata": {
        "id": "R4fO3MJ6OUnG"
      },
      "id": "R4fO3MJ6OUnG"
    },
    {
      "cell_type": "code",
      "execution_count": null,
      "id": "5757c530",
      "metadata": {
        "id": "5757c530"
      },
      "outputs": [],
      "source": [
        "data=pd.concat([df3,df4,df5,df6])"
      ]
    },
    {
      "cell_type": "code",
      "execution_count": null,
      "id": "edb63da3",
      "metadata": {
        "id": "edb63da3",
        "outputId": "3ee53cdb-7ab1-49d2-b6cd-2476ae00bc30",
        "colab": {
          "base_uri": "https://localhost:8080/",
          "height": 423
        }
      },
      "outputs": [
        {
          "output_type": "execute_result",
          "data": {
            "text/plain": [
              "       gradyear gender     age  friends  basketball  football  soccer  \\\n",
              "0          2006      M  18.982        7           0         0       0   \n",
              "1          2006      F  18.801        0           0         1       0   \n",
              "2          2006      M  18.335       69           0         1       0   \n",
              "3          2006      F  18.875        0           0         0       0   \n",
              "4          2006    NaN  18.995       10           0         0       0   \n",
              "...         ...    ...     ...      ...         ...       ...     ...   \n",
              "29995      2009      M  16.115        0           0         0       0   \n",
              "29996      2009      M  15.792        1           0         1       0   \n",
              "29997      2009      M  15.784        0           0         1       0   \n",
              "29998      2009      M  16.378        0           0         0       0   \n",
              "29999      2009      F  18.724        3           2         0       0   \n",
              "\n",
              "       softball  volleyball  swimming  ...  clothes  hollister  abercrombie  \\\n",
              "0             0           0         0  ...        0          0            0   \n",
              "1             0           0         0  ...        0          0            0   \n",
              "2             0           0         0  ...        0          0            0   \n",
              "3             0           0         0  ...        0          0            0   \n",
              "4             0           0         0  ...        0          0            0   \n",
              "...         ...         ...       ...  ...      ...        ...          ...   \n",
              "29995         0           0         0  ...        0          0            0   \n",
              "29996         0           0         0  ...        0          0            0   \n",
              "29997         0           0         0  ...        0          0            0   \n",
              "29998         0           0         0  ...        0          0            0   \n",
              "29999         1           0         0  ...        0          0            0   \n",
              "\n",
              "       die  death  drunk  drugs  F  M  NaN  \n",
              "0        0      0      0      0  0  1    0  \n",
              "1        0      0      0      0  1  0    0  \n",
              "2        0      1      0      0  0  1    0  \n",
              "3        0      0      0      0  1  0    0  \n",
              "4        0      0      1      1  0  0    1  \n",
              "...    ...    ...    ...    ... .. ..  ...  \n",
              "29995    0      0      0      0  0  1    0  \n",
              "29996    0      0      0      0  0  1    0  \n",
              "29997    0      0      0      0  0  1    0  \n",
              "29998    0      0      0      0  0  1    0  \n",
              "29999    0      0      0      0  1  0    0  \n",
              "\n",
              "[30000 rows x 43 columns]"
            ],
            "text/html": [
              "\n",
              "  <div id=\"df-585ee0a2-266a-4d7d-8bda-f811ae5379be\">\n",
              "    <div class=\"colab-df-container\">\n",
              "      <div>\n",
              "<style scoped>\n",
              "    .dataframe tbody tr th:only-of-type {\n",
              "        vertical-align: middle;\n",
              "    }\n",
              "\n",
              "    .dataframe tbody tr th {\n",
              "        vertical-align: top;\n",
              "    }\n",
              "\n",
              "    .dataframe thead th {\n",
              "        text-align: right;\n",
              "    }\n",
              "</style>\n",
              "<table border=\"1\" class=\"dataframe\">\n",
              "  <thead>\n",
              "    <tr style=\"text-align: right;\">\n",
              "      <th></th>\n",
              "      <th>gradyear</th>\n",
              "      <th>gender</th>\n",
              "      <th>age</th>\n",
              "      <th>friends</th>\n",
              "      <th>basketball</th>\n",
              "      <th>football</th>\n",
              "      <th>soccer</th>\n",
              "      <th>softball</th>\n",
              "      <th>volleyball</th>\n",
              "      <th>swimming</th>\n",
              "      <th>...</th>\n",
              "      <th>clothes</th>\n",
              "      <th>hollister</th>\n",
              "      <th>abercrombie</th>\n",
              "      <th>die</th>\n",
              "      <th>death</th>\n",
              "      <th>drunk</th>\n",
              "      <th>drugs</th>\n",
              "      <th>F</th>\n",
              "      <th>M</th>\n",
              "      <th>NaN</th>\n",
              "    </tr>\n",
              "  </thead>\n",
              "  <tbody>\n",
              "    <tr>\n",
              "      <th>0</th>\n",
              "      <td>2006</td>\n",
              "      <td>M</td>\n",
              "      <td>18.982</td>\n",
              "      <td>7</td>\n",
              "      <td>0</td>\n",
              "      <td>0</td>\n",
              "      <td>0</td>\n",
              "      <td>0</td>\n",
              "      <td>0</td>\n",
              "      <td>0</td>\n",
              "      <td>...</td>\n",
              "      <td>0</td>\n",
              "      <td>0</td>\n",
              "      <td>0</td>\n",
              "      <td>0</td>\n",
              "      <td>0</td>\n",
              "      <td>0</td>\n",
              "      <td>0</td>\n",
              "      <td>0</td>\n",
              "      <td>1</td>\n",
              "      <td>0</td>\n",
              "    </tr>\n",
              "    <tr>\n",
              "      <th>1</th>\n",
              "      <td>2006</td>\n",
              "      <td>F</td>\n",
              "      <td>18.801</td>\n",
              "      <td>0</td>\n",
              "      <td>0</td>\n",
              "      <td>1</td>\n",
              "      <td>0</td>\n",
              "      <td>0</td>\n",
              "      <td>0</td>\n",
              "      <td>0</td>\n",
              "      <td>...</td>\n",
              "      <td>0</td>\n",
              "      <td>0</td>\n",
              "      <td>0</td>\n",
              "      <td>0</td>\n",
              "      <td>0</td>\n",
              "      <td>0</td>\n",
              "      <td>0</td>\n",
              "      <td>1</td>\n",
              "      <td>0</td>\n",
              "      <td>0</td>\n",
              "    </tr>\n",
              "    <tr>\n",
              "      <th>2</th>\n",
              "      <td>2006</td>\n",
              "      <td>M</td>\n",
              "      <td>18.335</td>\n",
              "      <td>69</td>\n",
              "      <td>0</td>\n",
              "      <td>1</td>\n",
              "      <td>0</td>\n",
              "      <td>0</td>\n",
              "      <td>0</td>\n",
              "      <td>0</td>\n",
              "      <td>...</td>\n",
              "      <td>0</td>\n",
              "      <td>0</td>\n",
              "      <td>0</td>\n",
              "      <td>0</td>\n",
              "      <td>1</td>\n",
              "      <td>0</td>\n",
              "      <td>0</td>\n",
              "      <td>0</td>\n",
              "      <td>1</td>\n",
              "      <td>0</td>\n",
              "    </tr>\n",
              "    <tr>\n",
              "      <th>3</th>\n",
              "      <td>2006</td>\n",
              "      <td>F</td>\n",
              "      <td>18.875</td>\n",
              "      <td>0</td>\n",
              "      <td>0</td>\n",
              "      <td>0</td>\n",
              "      <td>0</td>\n",
              "      <td>0</td>\n",
              "      <td>0</td>\n",
              "      <td>0</td>\n",
              "      <td>...</td>\n",
              "      <td>0</td>\n",
              "      <td>0</td>\n",
              "      <td>0</td>\n",
              "      <td>0</td>\n",
              "      <td>0</td>\n",
              "      <td>0</td>\n",
              "      <td>0</td>\n",
              "      <td>1</td>\n",
              "      <td>0</td>\n",
              "      <td>0</td>\n",
              "    </tr>\n",
              "    <tr>\n",
              "      <th>4</th>\n",
              "      <td>2006</td>\n",
              "      <td>NaN</td>\n",
              "      <td>18.995</td>\n",
              "      <td>10</td>\n",
              "      <td>0</td>\n",
              "      <td>0</td>\n",
              "      <td>0</td>\n",
              "      <td>0</td>\n",
              "      <td>0</td>\n",
              "      <td>0</td>\n",
              "      <td>...</td>\n",
              "      <td>0</td>\n",
              "      <td>0</td>\n",
              "      <td>0</td>\n",
              "      <td>0</td>\n",
              "      <td>0</td>\n",
              "      <td>1</td>\n",
              "      <td>1</td>\n",
              "      <td>0</td>\n",
              "      <td>0</td>\n",
              "      <td>1</td>\n",
              "    </tr>\n",
              "    <tr>\n",
              "      <th>...</th>\n",
              "      <td>...</td>\n",
              "      <td>...</td>\n",
              "      <td>...</td>\n",
              "      <td>...</td>\n",
              "      <td>...</td>\n",
              "      <td>...</td>\n",
              "      <td>...</td>\n",
              "      <td>...</td>\n",
              "      <td>...</td>\n",
              "      <td>...</td>\n",
              "      <td>...</td>\n",
              "      <td>...</td>\n",
              "      <td>...</td>\n",
              "      <td>...</td>\n",
              "      <td>...</td>\n",
              "      <td>...</td>\n",
              "      <td>...</td>\n",
              "      <td>...</td>\n",
              "      <td>...</td>\n",
              "      <td>...</td>\n",
              "      <td>...</td>\n",
              "    </tr>\n",
              "    <tr>\n",
              "      <th>29995</th>\n",
              "      <td>2009</td>\n",
              "      <td>M</td>\n",
              "      <td>16.115</td>\n",
              "      <td>0</td>\n",
              "      <td>0</td>\n",
              "      <td>0</td>\n",
              "      <td>0</td>\n",
              "      <td>0</td>\n",
              "      <td>0</td>\n",
              "      <td>0</td>\n",
              "      <td>...</td>\n",
              "      <td>0</td>\n",
              "      <td>0</td>\n",
              "      <td>0</td>\n",
              "      <td>0</td>\n",
              "      <td>0</td>\n",
              "      <td>0</td>\n",
              "      <td>0</td>\n",
              "      <td>0</td>\n",
              "      <td>1</td>\n",
              "      <td>0</td>\n",
              "    </tr>\n",
              "    <tr>\n",
              "      <th>29996</th>\n",
              "      <td>2009</td>\n",
              "      <td>M</td>\n",
              "      <td>15.792</td>\n",
              "      <td>1</td>\n",
              "      <td>0</td>\n",
              "      <td>1</td>\n",
              "      <td>0</td>\n",
              "      <td>0</td>\n",
              "      <td>0</td>\n",
              "      <td>0</td>\n",
              "      <td>...</td>\n",
              "      <td>0</td>\n",
              "      <td>0</td>\n",
              "      <td>0</td>\n",
              "      <td>0</td>\n",
              "      <td>0</td>\n",
              "      <td>0</td>\n",
              "      <td>0</td>\n",
              "      <td>0</td>\n",
              "      <td>1</td>\n",
              "      <td>0</td>\n",
              "    </tr>\n",
              "    <tr>\n",
              "      <th>29997</th>\n",
              "      <td>2009</td>\n",
              "      <td>M</td>\n",
              "      <td>15.784</td>\n",
              "      <td>0</td>\n",
              "      <td>0</td>\n",
              "      <td>1</td>\n",
              "      <td>0</td>\n",
              "      <td>0</td>\n",
              "      <td>0</td>\n",
              "      <td>0</td>\n",
              "      <td>...</td>\n",
              "      <td>0</td>\n",
              "      <td>0</td>\n",
              "      <td>0</td>\n",
              "      <td>0</td>\n",
              "      <td>0</td>\n",
              "      <td>0</td>\n",
              "      <td>0</td>\n",
              "      <td>0</td>\n",
              "      <td>1</td>\n",
              "      <td>0</td>\n",
              "    </tr>\n",
              "    <tr>\n",
              "      <th>29998</th>\n",
              "      <td>2009</td>\n",
              "      <td>M</td>\n",
              "      <td>16.378</td>\n",
              "      <td>0</td>\n",
              "      <td>0</td>\n",
              "      <td>0</td>\n",
              "      <td>0</td>\n",
              "      <td>0</td>\n",
              "      <td>0</td>\n",
              "      <td>0</td>\n",
              "      <td>...</td>\n",
              "      <td>0</td>\n",
              "      <td>0</td>\n",
              "      <td>0</td>\n",
              "      <td>0</td>\n",
              "      <td>0</td>\n",
              "      <td>0</td>\n",
              "      <td>0</td>\n",
              "      <td>0</td>\n",
              "      <td>1</td>\n",
              "      <td>0</td>\n",
              "    </tr>\n",
              "    <tr>\n",
              "      <th>29999</th>\n",
              "      <td>2009</td>\n",
              "      <td>F</td>\n",
              "      <td>18.724</td>\n",
              "      <td>3</td>\n",
              "      <td>2</td>\n",
              "      <td>0</td>\n",
              "      <td>0</td>\n",
              "      <td>1</td>\n",
              "      <td>0</td>\n",
              "      <td>0</td>\n",
              "      <td>...</td>\n",
              "      <td>0</td>\n",
              "      <td>0</td>\n",
              "      <td>0</td>\n",
              "      <td>0</td>\n",
              "      <td>0</td>\n",
              "      <td>0</td>\n",
              "      <td>0</td>\n",
              "      <td>1</td>\n",
              "      <td>0</td>\n",
              "      <td>0</td>\n",
              "    </tr>\n",
              "  </tbody>\n",
              "</table>\n",
              "<p>30000 rows × 43 columns</p>\n",
              "</div>\n",
              "      <button class=\"colab-df-convert\" onclick=\"convertToInteractive('df-585ee0a2-266a-4d7d-8bda-f811ae5379be')\"\n",
              "              title=\"Convert this dataframe to an interactive table.\"\n",
              "              style=\"display:none;\">\n",
              "        \n",
              "  <svg xmlns=\"http://www.w3.org/2000/svg\" height=\"24px\"viewBox=\"0 0 24 24\"\n",
              "       width=\"24px\">\n",
              "    <path d=\"M0 0h24v24H0V0z\" fill=\"none\"/>\n",
              "    <path d=\"M18.56 5.44l.94 2.06.94-2.06 2.06-.94-2.06-.94-.94-2.06-.94 2.06-2.06.94zm-11 1L8.5 8.5l.94-2.06 2.06-.94-2.06-.94L8.5 2.5l-.94 2.06-2.06.94zm10 10l.94 2.06.94-2.06 2.06-.94-2.06-.94-.94-2.06-.94 2.06-2.06.94z\"/><path d=\"M17.41 7.96l-1.37-1.37c-.4-.4-.92-.59-1.43-.59-.52 0-1.04.2-1.43.59L10.3 9.45l-7.72 7.72c-.78.78-.78 2.05 0 2.83L4 21.41c.39.39.9.59 1.41.59.51 0 1.02-.2 1.41-.59l7.78-7.78 2.81-2.81c.8-.78.8-2.07 0-2.86zM5.41 20L4 18.59l7.72-7.72 1.47 1.35L5.41 20z\"/>\n",
              "  </svg>\n",
              "      </button>\n",
              "      \n",
              "  <style>\n",
              "    .colab-df-container {\n",
              "      display:flex;\n",
              "      flex-wrap:wrap;\n",
              "      gap: 12px;\n",
              "    }\n",
              "\n",
              "    .colab-df-convert {\n",
              "      background-color: #E8F0FE;\n",
              "      border: none;\n",
              "      border-radius: 50%;\n",
              "      cursor: pointer;\n",
              "      display: none;\n",
              "      fill: #1967D2;\n",
              "      height: 32px;\n",
              "      padding: 0 0 0 0;\n",
              "      width: 32px;\n",
              "    }\n",
              "\n",
              "    .colab-df-convert:hover {\n",
              "      background-color: #E2EBFA;\n",
              "      box-shadow: 0px 1px 2px rgba(60, 64, 67, 0.3), 0px 1px 3px 1px rgba(60, 64, 67, 0.15);\n",
              "      fill: #174EA6;\n",
              "    }\n",
              "\n",
              "    [theme=dark] .colab-df-convert {\n",
              "      background-color: #3B4455;\n",
              "      fill: #D2E3FC;\n",
              "    }\n",
              "\n",
              "    [theme=dark] .colab-df-convert:hover {\n",
              "      background-color: #434B5C;\n",
              "      box-shadow: 0px 1px 3px 1px rgba(0, 0, 0, 0.15);\n",
              "      filter: drop-shadow(0px 1px 2px rgba(0, 0, 0, 0.3));\n",
              "      fill: #FFFFFF;\n",
              "    }\n",
              "  </style>\n",
              "\n",
              "      <script>\n",
              "        const buttonEl =\n",
              "          document.querySelector('#df-585ee0a2-266a-4d7d-8bda-f811ae5379be button.colab-df-convert');\n",
              "        buttonEl.style.display =\n",
              "          google.colab.kernel.accessAllowed ? 'block' : 'none';\n",
              "\n",
              "        async function convertToInteractive(key) {\n",
              "          const element = document.querySelector('#df-585ee0a2-266a-4d7d-8bda-f811ae5379be');\n",
              "          const dataTable =\n",
              "            await google.colab.kernel.invokeFunction('convertToInteractive',\n",
              "                                                     [key], {});\n",
              "          if (!dataTable) return;\n",
              "\n",
              "          const docLinkHtml = 'Like what you see? Visit the ' +\n",
              "            '<a target=\"_blank\" href=https://colab.research.google.com/notebooks/data_table.ipynb>data table notebook</a>'\n",
              "            + ' to learn more about interactive tables.';\n",
              "          element.innerHTML = '';\n",
              "          dataTable['output_type'] = 'display_data';\n",
              "          await google.colab.output.renderOutput(dataTable, element);\n",
              "          const docLink = document.createElement('div');\n",
              "          docLink.innerHTML = docLinkHtml;\n",
              "          element.appendChild(docLink);\n",
              "        }\n",
              "      </script>\n",
              "    </div>\n",
              "  </div>\n",
              "  "
            ]
          },
          "metadata": {},
          "execution_count": 142
        }
      ],
      "source": [
        "data"
      ]
    },
    {
      "cell_type": "markdown",
      "source": [
        "**AS gender is a categorical column we will drop it**"
      ],
      "metadata": {
        "id": "ZrMRicR_Oe6e"
      },
      "id": "ZrMRicR_Oe6e"
    },
    {
      "cell_type": "code",
      "execution_count": null,
      "id": "da8ecf46",
      "metadata": {
        "id": "da8ecf46",
        "outputId": "ca9cf007-a2f9-47fa-e4e5-33f100ada068",
        "colab": {
          "base_uri": "https://localhost:8080/",
          "height": 81
        }
      },
      "outputs": [
        {
          "output_type": "execute_result",
          "data": {
            "text/plain": [
              "                      Age  Gender\n",
              "No.of missing values    0    2724"
            ],
            "text/html": [
              "\n",
              "  <div id=\"df-5609358b-0926-44d8-9cc7-936ce2f19057\">\n",
              "    <div class=\"colab-df-container\">\n",
              "      <div>\n",
              "<style scoped>\n",
              "    .dataframe tbody tr th:only-of-type {\n",
              "        vertical-align: middle;\n",
              "    }\n",
              "\n",
              "    .dataframe tbody tr th {\n",
              "        vertical-align: top;\n",
              "    }\n",
              "\n",
              "    .dataframe thead th {\n",
              "        text-align: right;\n",
              "    }\n",
              "</style>\n",
              "<table border=\"1\" class=\"dataframe\">\n",
              "  <thead>\n",
              "    <tr style=\"text-align: right;\">\n",
              "      <th></th>\n",
              "      <th>Age</th>\n",
              "      <th>Gender</th>\n",
              "    </tr>\n",
              "  </thead>\n",
              "  <tbody>\n",
              "    <tr>\n",
              "      <th>No.of missing values</th>\n",
              "      <td>0</td>\n",
              "      <td>2724</td>\n",
              "    </tr>\n",
              "  </tbody>\n",
              "</table>\n",
              "</div>\n",
              "      <button class=\"colab-df-convert\" onclick=\"convertToInteractive('df-5609358b-0926-44d8-9cc7-936ce2f19057')\"\n",
              "              title=\"Convert this dataframe to an interactive table.\"\n",
              "              style=\"display:none;\">\n",
              "        \n",
              "  <svg xmlns=\"http://www.w3.org/2000/svg\" height=\"24px\"viewBox=\"0 0 24 24\"\n",
              "       width=\"24px\">\n",
              "    <path d=\"M0 0h24v24H0V0z\" fill=\"none\"/>\n",
              "    <path d=\"M18.56 5.44l.94 2.06.94-2.06 2.06-.94-2.06-.94-.94-2.06-.94 2.06-2.06.94zm-11 1L8.5 8.5l.94-2.06 2.06-.94-2.06-.94L8.5 2.5l-.94 2.06-2.06.94zm10 10l.94 2.06.94-2.06 2.06-.94-2.06-.94-.94-2.06-.94 2.06-2.06.94z\"/><path d=\"M17.41 7.96l-1.37-1.37c-.4-.4-.92-.59-1.43-.59-.52 0-1.04.2-1.43.59L10.3 9.45l-7.72 7.72c-.78.78-.78 2.05 0 2.83L4 21.41c.39.39.9.59 1.41.59.51 0 1.02-.2 1.41-.59l7.78-7.78 2.81-2.81c.8-.78.8-2.07 0-2.86zM5.41 20L4 18.59l7.72-7.72 1.47 1.35L5.41 20z\"/>\n",
              "  </svg>\n",
              "      </button>\n",
              "      \n",
              "  <style>\n",
              "    .colab-df-container {\n",
              "      display:flex;\n",
              "      flex-wrap:wrap;\n",
              "      gap: 12px;\n",
              "    }\n",
              "\n",
              "    .colab-df-convert {\n",
              "      background-color: #E8F0FE;\n",
              "      border: none;\n",
              "      border-radius: 50%;\n",
              "      cursor: pointer;\n",
              "      display: none;\n",
              "      fill: #1967D2;\n",
              "      height: 32px;\n",
              "      padding: 0 0 0 0;\n",
              "      width: 32px;\n",
              "    }\n",
              "\n",
              "    .colab-df-convert:hover {\n",
              "      background-color: #E2EBFA;\n",
              "      box-shadow: 0px 1px 2px rgba(60, 64, 67, 0.3), 0px 1px 3px 1px rgba(60, 64, 67, 0.15);\n",
              "      fill: #174EA6;\n",
              "    }\n",
              "\n",
              "    [theme=dark] .colab-df-convert {\n",
              "      background-color: #3B4455;\n",
              "      fill: #D2E3FC;\n",
              "    }\n",
              "\n",
              "    [theme=dark] .colab-df-convert:hover {\n",
              "      background-color: #434B5C;\n",
              "      box-shadow: 0px 1px 3px 1px rgba(0, 0, 0, 0.15);\n",
              "      filter: drop-shadow(0px 1px 2px rgba(0, 0, 0, 0.3));\n",
              "      fill: #FFFFFF;\n",
              "    }\n",
              "  </style>\n",
              "\n",
              "      <script>\n",
              "        const buttonEl =\n",
              "          document.querySelector('#df-5609358b-0926-44d8-9cc7-936ce2f19057 button.colab-df-convert');\n",
              "        buttonEl.style.display =\n",
              "          google.colab.kernel.accessAllowed ? 'block' : 'none';\n",
              "\n",
              "        async function convertToInteractive(key) {\n",
              "          const element = document.querySelector('#df-5609358b-0926-44d8-9cc7-936ce2f19057');\n",
              "          const dataTable =\n",
              "            await google.colab.kernel.invokeFunction('convertToInteractive',\n",
              "                                                     [key], {});\n",
              "          if (!dataTable) return;\n",
              "\n",
              "          const docLinkHtml = 'Like what you see? Visit the ' +\n",
              "            '<a target=\"_blank\" href=https://colab.research.google.com/notebooks/data_table.ipynb>data table notebook</a>'\n",
              "            + ' to learn more about interactive tables.';\n",
              "          element.innerHTML = '';\n",
              "          dataTable['output_type'] = 'display_data';\n",
              "          await google.colab.output.renderOutput(dataTable, element);\n",
              "          const docLink = document.createElement('div');\n",
              "          docLink.innerHTML = docLinkHtml;\n",
              "          element.appendChild(docLink);\n",
              "        }\n",
              "      </script>\n",
              "    </div>\n",
              "  </div>\n",
              "  "
            ]
          },
          "metadata": {},
          "execution_count": 143
        }
      ],
      "source": [
        "NullCount={'Age':data['age'].isnull().sum(axis = 0),'Gender':data['gender'].isnull().sum(axis = 0)}\n",
        "df=pd.DataFrame(NullCount, index =['No.of missing values'])\n",
        "df"
      ]
    },
    {
      "cell_type": "code",
      "execution_count": null,
      "id": "8f702882",
      "metadata": {
        "id": "8f702882",
        "outputId": "3120dae5-d38f-460d-9aac-28ad50cd350c",
        "colab": {
          "base_uri": "https://localhost:8080/",
          "height": 423
        }
      },
      "outputs": [
        {
          "output_type": "execute_result",
          "data": {
            "text/plain": [
              "       gradyear     age  friends  basketball  football  soccer  softball  \\\n",
              "0          2006  18.982        7           0         0       0         0   \n",
              "1          2006  18.801        0           0         1       0         0   \n",
              "2          2006  18.335       69           0         1       0         0   \n",
              "3          2006  18.875        0           0         0       0         0   \n",
              "4          2006  18.995       10           0         0       0         0   \n",
              "...         ...     ...      ...         ...       ...     ...       ...   \n",
              "29995      2009  16.115        0           0         0       0         0   \n",
              "29996      2009  15.792        1           0         1       0         0   \n",
              "29997      2009  15.784        0           0         1       0         0   \n",
              "29998      2009  16.378        0           0         0       0         0   \n",
              "29999      2009  18.724        3           2         0       0         1   \n",
              "\n",
              "       volleyball  swimming  cheerleading  ...  clothes  hollister  \\\n",
              "0               0         0             0  ...        0          0   \n",
              "1               0         0             0  ...        0          0   \n",
              "2               0         0             0  ...        0          0   \n",
              "3               0         0             0  ...        0          0   \n",
              "4               0         0             0  ...        0          0   \n",
              "...           ...       ...           ...  ...      ...        ...   \n",
              "29995           0         0             0  ...        0          0   \n",
              "29996           0         0             0  ...        0          0   \n",
              "29997           0         0             0  ...        0          0   \n",
              "29998           0         0             0  ...        0          0   \n",
              "29999           0         0             0  ...        0          0   \n",
              "\n",
              "       abercrombie  die  death  drunk  drugs  F  M  NaN  \n",
              "0                0    0      0      0      0  0  1    0  \n",
              "1                0    0      0      0      0  1  0    0  \n",
              "2                0    0      1      0      0  0  1    0  \n",
              "3                0    0      0      0      0  1  0    0  \n",
              "4                0    0      0      1      1  0  0    1  \n",
              "...            ...  ...    ...    ...    ... .. ..  ...  \n",
              "29995            0    0      0      0      0  0  1    0  \n",
              "29996            0    0      0      0      0  0  1    0  \n",
              "29997            0    0      0      0      0  0  1    0  \n",
              "29998            0    0      0      0      0  0  1    0  \n",
              "29999            0    0      0      0      0  1  0    0  \n",
              "\n",
              "[30000 rows x 42 columns]"
            ],
            "text/html": [
              "\n",
              "  <div id=\"df-50f7c698-629e-453e-adbc-a7bb5bc5857a\">\n",
              "    <div class=\"colab-df-container\">\n",
              "      <div>\n",
              "<style scoped>\n",
              "    .dataframe tbody tr th:only-of-type {\n",
              "        vertical-align: middle;\n",
              "    }\n",
              "\n",
              "    .dataframe tbody tr th {\n",
              "        vertical-align: top;\n",
              "    }\n",
              "\n",
              "    .dataframe thead th {\n",
              "        text-align: right;\n",
              "    }\n",
              "</style>\n",
              "<table border=\"1\" class=\"dataframe\">\n",
              "  <thead>\n",
              "    <tr style=\"text-align: right;\">\n",
              "      <th></th>\n",
              "      <th>gradyear</th>\n",
              "      <th>age</th>\n",
              "      <th>friends</th>\n",
              "      <th>basketball</th>\n",
              "      <th>football</th>\n",
              "      <th>soccer</th>\n",
              "      <th>softball</th>\n",
              "      <th>volleyball</th>\n",
              "      <th>swimming</th>\n",
              "      <th>cheerleading</th>\n",
              "      <th>...</th>\n",
              "      <th>clothes</th>\n",
              "      <th>hollister</th>\n",
              "      <th>abercrombie</th>\n",
              "      <th>die</th>\n",
              "      <th>death</th>\n",
              "      <th>drunk</th>\n",
              "      <th>drugs</th>\n",
              "      <th>F</th>\n",
              "      <th>M</th>\n",
              "      <th>NaN</th>\n",
              "    </tr>\n",
              "  </thead>\n",
              "  <tbody>\n",
              "    <tr>\n",
              "      <th>0</th>\n",
              "      <td>2006</td>\n",
              "      <td>18.982</td>\n",
              "      <td>7</td>\n",
              "      <td>0</td>\n",
              "      <td>0</td>\n",
              "      <td>0</td>\n",
              "      <td>0</td>\n",
              "      <td>0</td>\n",
              "      <td>0</td>\n",
              "      <td>0</td>\n",
              "      <td>...</td>\n",
              "      <td>0</td>\n",
              "      <td>0</td>\n",
              "      <td>0</td>\n",
              "      <td>0</td>\n",
              "      <td>0</td>\n",
              "      <td>0</td>\n",
              "      <td>0</td>\n",
              "      <td>0</td>\n",
              "      <td>1</td>\n",
              "      <td>0</td>\n",
              "    </tr>\n",
              "    <tr>\n",
              "      <th>1</th>\n",
              "      <td>2006</td>\n",
              "      <td>18.801</td>\n",
              "      <td>0</td>\n",
              "      <td>0</td>\n",
              "      <td>1</td>\n",
              "      <td>0</td>\n",
              "      <td>0</td>\n",
              "      <td>0</td>\n",
              "      <td>0</td>\n",
              "      <td>0</td>\n",
              "      <td>...</td>\n",
              "      <td>0</td>\n",
              "      <td>0</td>\n",
              "      <td>0</td>\n",
              "      <td>0</td>\n",
              "      <td>0</td>\n",
              "      <td>0</td>\n",
              "      <td>0</td>\n",
              "      <td>1</td>\n",
              "      <td>0</td>\n",
              "      <td>0</td>\n",
              "    </tr>\n",
              "    <tr>\n",
              "      <th>2</th>\n",
              "      <td>2006</td>\n",
              "      <td>18.335</td>\n",
              "      <td>69</td>\n",
              "      <td>0</td>\n",
              "      <td>1</td>\n",
              "      <td>0</td>\n",
              "      <td>0</td>\n",
              "      <td>0</td>\n",
              "      <td>0</td>\n",
              "      <td>0</td>\n",
              "      <td>...</td>\n",
              "      <td>0</td>\n",
              "      <td>0</td>\n",
              "      <td>0</td>\n",
              "      <td>0</td>\n",
              "      <td>1</td>\n",
              "      <td>0</td>\n",
              "      <td>0</td>\n",
              "      <td>0</td>\n",
              "      <td>1</td>\n",
              "      <td>0</td>\n",
              "    </tr>\n",
              "    <tr>\n",
              "      <th>3</th>\n",
              "      <td>2006</td>\n",
              "      <td>18.875</td>\n",
              "      <td>0</td>\n",
              "      <td>0</td>\n",
              "      <td>0</td>\n",
              "      <td>0</td>\n",
              "      <td>0</td>\n",
              "      <td>0</td>\n",
              "      <td>0</td>\n",
              "      <td>0</td>\n",
              "      <td>...</td>\n",
              "      <td>0</td>\n",
              "      <td>0</td>\n",
              "      <td>0</td>\n",
              "      <td>0</td>\n",
              "      <td>0</td>\n",
              "      <td>0</td>\n",
              "      <td>0</td>\n",
              "      <td>1</td>\n",
              "      <td>0</td>\n",
              "      <td>0</td>\n",
              "    </tr>\n",
              "    <tr>\n",
              "      <th>4</th>\n",
              "      <td>2006</td>\n",
              "      <td>18.995</td>\n",
              "      <td>10</td>\n",
              "      <td>0</td>\n",
              "      <td>0</td>\n",
              "      <td>0</td>\n",
              "      <td>0</td>\n",
              "      <td>0</td>\n",
              "      <td>0</td>\n",
              "      <td>0</td>\n",
              "      <td>...</td>\n",
              "      <td>0</td>\n",
              "      <td>0</td>\n",
              "      <td>0</td>\n",
              "      <td>0</td>\n",
              "      <td>0</td>\n",
              "      <td>1</td>\n",
              "      <td>1</td>\n",
              "      <td>0</td>\n",
              "      <td>0</td>\n",
              "      <td>1</td>\n",
              "    </tr>\n",
              "    <tr>\n",
              "      <th>...</th>\n",
              "      <td>...</td>\n",
              "      <td>...</td>\n",
              "      <td>...</td>\n",
              "      <td>...</td>\n",
              "      <td>...</td>\n",
              "      <td>...</td>\n",
              "      <td>...</td>\n",
              "      <td>...</td>\n",
              "      <td>...</td>\n",
              "      <td>...</td>\n",
              "      <td>...</td>\n",
              "      <td>...</td>\n",
              "      <td>...</td>\n",
              "      <td>...</td>\n",
              "      <td>...</td>\n",
              "      <td>...</td>\n",
              "      <td>...</td>\n",
              "      <td>...</td>\n",
              "      <td>...</td>\n",
              "      <td>...</td>\n",
              "      <td>...</td>\n",
              "    </tr>\n",
              "    <tr>\n",
              "      <th>29995</th>\n",
              "      <td>2009</td>\n",
              "      <td>16.115</td>\n",
              "      <td>0</td>\n",
              "      <td>0</td>\n",
              "      <td>0</td>\n",
              "      <td>0</td>\n",
              "      <td>0</td>\n",
              "      <td>0</td>\n",
              "      <td>0</td>\n",
              "      <td>0</td>\n",
              "      <td>...</td>\n",
              "      <td>0</td>\n",
              "      <td>0</td>\n",
              "      <td>0</td>\n",
              "      <td>0</td>\n",
              "      <td>0</td>\n",
              "      <td>0</td>\n",
              "      <td>0</td>\n",
              "      <td>0</td>\n",
              "      <td>1</td>\n",
              "      <td>0</td>\n",
              "    </tr>\n",
              "    <tr>\n",
              "      <th>29996</th>\n",
              "      <td>2009</td>\n",
              "      <td>15.792</td>\n",
              "      <td>1</td>\n",
              "      <td>0</td>\n",
              "      <td>1</td>\n",
              "      <td>0</td>\n",
              "      <td>0</td>\n",
              "      <td>0</td>\n",
              "      <td>0</td>\n",
              "      <td>0</td>\n",
              "      <td>...</td>\n",
              "      <td>0</td>\n",
              "      <td>0</td>\n",
              "      <td>0</td>\n",
              "      <td>0</td>\n",
              "      <td>0</td>\n",
              "      <td>0</td>\n",
              "      <td>0</td>\n",
              "      <td>0</td>\n",
              "      <td>1</td>\n",
              "      <td>0</td>\n",
              "    </tr>\n",
              "    <tr>\n",
              "      <th>29997</th>\n",
              "      <td>2009</td>\n",
              "      <td>15.784</td>\n",
              "      <td>0</td>\n",
              "      <td>0</td>\n",
              "      <td>1</td>\n",
              "      <td>0</td>\n",
              "      <td>0</td>\n",
              "      <td>0</td>\n",
              "      <td>0</td>\n",
              "      <td>0</td>\n",
              "      <td>...</td>\n",
              "      <td>0</td>\n",
              "      <td>0</td>\n",
              "      <td>0</td>\n",
              "      <td>0</td>\n",
              "      <td>0</td>\n",
              "      <td>0</td>\n",
              "      <td>0</td>\n",
              "      <td>0</td>\n",
              "      <td>1</td>\n",
              "      <td>0</td>\n",
              "    </tr>\n",
              "    <tr>\n",
              "      <th>29998</th>\n",
              "      <td>2009</td>\n",
              "      <td>16.378</td>\n",
              "      <td>0</td>\n",
              "      <td>0</td>\n",
              "      <td>0</td>\n",
              "      <td>0</td>\n",
              "      <td>0</td>\n",
              "      <td>0</td>\n",
              "      <td>0</td>\n",
              "      <td>0</td>\n",
              "      <td>...</td>\n",
              "      <td>0</td>\n",
              "      <td>0</td>\n",
              "      <td>0</td>\n",
              "      <td>0</td>\n",
              "      <td>0</td>\n",
              "      <td>0</td>\n",
              "      <td>0</td>\n",
              "      <td>0</td>\n",
              "      <td>1</td>\n",
              "      <td>0</td>\n",
              "    </tr>\n",
              "    <tr>\n",
              "      <th>29999</th>\n",
              "      <td>2009</td>\n",
              "      <td>18.724</td>\n",
              "      <td>3</td>\n",
              "      <td>2</td>\n",
              "      <td>0</td>\n",
              "      <td>0</td>\n",
              "      <td>1</td>\n",
              "      <td>0</td>\n",
              "      <td>0</td>\n",
              "      <td>0</td>\n",
              "      <td>...</td>\n",
              "      <td>0</td>\n",
              "      <td>0</td>\n",
              "      <td>0</td>\n",
              "      <td>0</td>\n",
              "      <td>0</td>\n",
              "      <td>0</td>\n",
              "      <td>0</td>\n",
              "      <td>1</td>\n",
              "      <td>0</td>\n",
              "      <td>0</td>\n",
              "    </tr>\n",
              "  </tbody>\n",
              "</table>\n",
              "<p>30000 rows × 42 columns</p>\n",
              "</div>\n",
              "      <button class=\"colab-df-convert\" onclick=\"convertToInteractive('df-50f7c698-629e-453e-adbc-a7bb5bc5857a')\"\n",
              "              title=\"Convert this dataframe to an interactive table.\"\n",
              "              style=\"display:none;\">\n",
              "        \n",
              "  <svg xmlns=\"http://www.w3.org/2000/svg\" height=\"24px\"viewBox=\"0 0 24 24\"\n",
              "       width=\"24px\">\n",
              "    <path d=\"M0 0h24v24H0V0z\" fill=\"none\"/>\n",
              "    <path d=\"M18.56 5.44l.94 2.06.94-2.06 2.06-.94-2.06-.94-.94-2.06-.94 2.06-2.06.94zm-11 1L8.5 8.5l.94-2.06 2.06-.94-2.06-.94L8.5 2.5l-.94 2.06-2.06.94zm10 10l.94 2.06.94-2.06 2.06-.94-2.06-.94-.94-2.06-.94 2.06-2.06.94z\"/><path d=\"M17.41 7.96l-1.37-1.37c-.4-.4-.92-.59-1.43-.59-.52 0-1.04.2-1.43.59L10.3 9.45l-7.72 7.72c-.78.78-.78 2.05 0 2.83L4 21.41c.39.39.9.59 1.41.59.51 0 1.02-.2 1.41-.59l7.78-7.78 2.81-2.81c.8-.78.8-2.07 0-2.86zM5.41 20L4 18.59l7.72-7.72 1.47 1.35L5.41 20z\"/>\n",
              "  </svg>\n",
              "      </button>\n",
              "      \n",
              "  <style>\n",
              "    .colab-df-container {\n",
              "      display:flex;\n",
              "      flex-wrap:wrap;\n",
              "      gap: 12px;\n",
              "    }\n",
              "\n",
              "    .colab-df-convert {\n",
              "      background-color: #E8F0FE;\n",
              "      border: none;\n",
              "      border-radius: 50%;\n",
              "      cursor: pointer;\n",
              "      display: none;\n",
              "      fill: #1967D2;\n",
              "      height: 32px;\n",
              "      padding: 0 0 0 0;\n",
              "      width: 32px;\n",
              "    }\n",
              "\n",
              "    .colab-df-convert:hover {\n",
              "      background-color: #E2EBFA;\n",
              "      box-shadow: 0px 1px 2px rgba(60, 64, 67, 0.3), 0px 1px 3px 1px rgba(60, 64, 67, 0.15);\n",
              "      fill: #174EA6;\n",
              "    }\n",
              "\n",
              "    [theme=dark] .colab-df-convert {\n",
              "      background-color: #3B4455;\n",
              "      fill: #D2E3FC;\n",
              "    }\n",
              "\n",
              "    [theme=dark] .colab-df-convert:hover {\n",
              "      background-color: #434B5C;\n",
              "      box-shadow: 0px 1px 3px 1px rgba(0, 0, 0, 0.15);\n",
              "      filter: drop-shadow(0px 1px 2px rgba(0, 0, 0, 0.3));\n",
              "      fill: #FFFFFF;\n",
              "    }\n",
              "  </style>\n",
              "\n",
              "      <script>\n",
              "        const buttonEl =\n",
              "          document.querySelector('#df-50f7c698-629e-453e-adbc-a7bb5bc5857a button.colab-df-convert');\n",
              "        buttonEl.style.display =\n",
              "          google.colab.kernel.accessAllowed ? 'block' : 'none';\n",
              "\n",
              "        async function convertToInteractive(key) {\n",
              "          const element = document.querySelector('#df-50f7c698-629e-453e-adbc-a7bb5bc5857a');\n",
              "          const dataTable =\n",
              "            await google.colab.kernel.invokeFunction('convertToInteractive',\n",
              "                                                     [key], {});\n",
              "          if (!dataTable) return;\n",
              "\n",
              "          const docLinkHtml = 'Like what you see? Visit the ' +\n",
              "            '<a target=\"_blank\" href=https://colab.research.google.com/notebooks/data_table.ipynb>data table notebook</a>'\n",
              "            + ' to learn more about interactive tables.';\n",
              "          element.innerHTML = '';\n",
              "          dataTable['output_type'] = 'display_data';\n",
              "          await google.colab.output.renderOutput(dataTable, element);\n",
              "          const docLink = document.createElement('div');\n",
              "          docLink.innerHTML = docLinkHtml;\n",
              "          element.appendChild(docLink);\n",
              "        }\n",
              "      </script>\n",
              "    </div>\n",
              "  </div>\n",
              "  "
            ]
          },
          "metadata": {},
          "execution_count": 144
        }
      ],
      "source": [
        "final=data.drop(['gender'], axis = 1)\n",
        "final"
      ]
    },
    {
      "cell_type": "code",
      "execution_count": null,
      "id": "72a04b02",
      "metadata": {
        "id": "72a04b02",
        "outputId": "bc3a2c27-f173-4c6a-c58b-025d6f7bc61d",
        "colab": {
          "base_uri": "https://localhost:8080/"
        }
      },
      "outputs": [
        {
          "output_type": "stream",
          "name": "stdout",
          "text": [
            "<class 'pandas.core.frame.DataFrame'>\n",
            "Int64Index: 30000 entries, 0 to 29999\n",
            "Data columns (total 42 columns):\n",
            " #   Column        Non-Null Count  Dtype  \n",
            "---  ------        --------------  -----  \n",
            " 0   gradyear      30000 non-null  int64  \n",
            " 1   age           30000 non-null  float64\n",
            " 2   friends       30000 non-null  int64  \n",
            " 3   basketball    30000 non-null  int64  \n",
            " 4   football      30000 non-null  int64  \n",
            " 5   soccer        30000 non-null  int64  \n",
            " 6   softball      30000 non-null  int64  \n",
            " 7   volleyball    30000 non-null  int64  \n",
            " 8   swimming      30000 non-null  int64  \n",
            " 9   cheerleading  30000 non-null  int64  \n",
            " 10  baseball      30000 non-null  int64  \n",
            " 11  tennis        30000 non-null  int64  \n",
            " 12  sports        30000 non-null  int64  \n",
            " 13  cute          30000 non-null  int64  \n",
            " 14  sex           30000 non-null  int64  \n",
            " 15  sexy          30000 non-null  int64  \n",
            " 16  hot           30000 non-null  int64  \n",
            " 17  kissed        30000 non-null  int64  \n",
            " 18  dance         30000 non-null  int64  \n",
            " 19  band          30000 non-null  int64  \n",
            " 20  marching      30000 non-null  int64  \n",
            " 21  music         30000 non-null  int64  \n",
            " 22  rock          30000 non-null  int64  \n",
            " 23  god           30000 non-null  int64  \n",
            " 24  church        30000 non-null  int64  \n",
            " 25  jesus         30000 non-null  int64  \n",
            " 26  bible         30000 non-null  int64  \n",
            " 27  hair          30000 non-null  int64  \n",
            " 28  dress         30000 non-null  int64  \n",
            " 29  blonde        30000 non-null  int64  \n",
            " 30  mall          30000 non-null  int64  \n",
            " 31  shopping      30000 non-null  int64  \n",
            " 32  clothes       30000 non-null  int64  \n",
            " 33  hollister     30000 non-null  int64  \n",
            " 34  abercrombie   30000 non-null  int64  \n",
            " 35  die           30000 non-null  int64  \n",
            " 36  death         30000 non-null  int64  \n",
            " 37  drunk         30000 non-null  int64  \n",
            " 38  drugs         30000 non-null  int64  \n",
            " 39  F             30000 non-null  uint8  \n",
            " 40  M             30000 non-null  uint8  \n",
            " 41  nan           30000 non-null  uint8  \n",
            "dtypes: float64(1), int64(38), uint8(3)\n",
            "memory usage: 9.2 MB\n"
          ]
        }
      ],
      "source": [
        "final.info()"
      ]
    },
    {
      "cell_type": "code",
      "execution_count": null,
      "id": "037b0589",
      "metadata": {
        "id": "037b0589"
      },
      "outputs": [],
      "source": [
        "result1=final\n",
        "result2=final\n",
        "result3=final"
      ]
    },
    {
      "cell_type": "markdown",
      "source": [
        "**Before moving forward towards clustering we will plot pairplot for some features which we think may be a bit related or dependendent on each other**\n",
        "\n",
        "**Those features are age,friends,M,F**"
      ],
      "metadata": {
        "id": "7Io6AyyDOlp9"
      },
      "id": "7Io6AyyDOlp9"
    },
    {
      "cell_type": "code",
      "execution_count": null,
      "id": "b117f0b4",
      "metadata": {
        "id": "b117f0b4",
        "outputId": "3ef6c6b0-aa4d-4d11-ef57-5a9e90129ba6",
        "colab": {
          "base_uri": "https://localhost:8080/",
          "height": 743
        }
      },
      "outputs": [
        {
          "output_type": "execute_result",
          "data": {
            "text/plain": [
              "<seaborn.axisgrid.PairGrid at 0x7ff4914dda50>"
            ]
          },
          "metadata": {},
          "execution_count": 147
        },
        {
          "output_type": "display_data",
          "data": {
            "text/plain": [
              "<Figure size 720x720 with 20 Axes>"
            ],
            "image/png": "[encoded data removed]"
          },
          "metadata": {}
        }
      ],
      "source": [
        "sns.pairplot(result1[['age','friends','F','M']])"
      ]
    },
    {
      "cell_type": "markdown",
      "source": [
        "**MODEL1: K-means clustering**"
      ],
      "metadata": {
        "id": "8WBZmx--O8Ow"
      },
      "id": "8WBZmx--O8Ow"
    },
    {
      "cell_type": "code",
      "execution_count": null,
      "id": "009b2981",
      "metadata": {
        "id": "009b2981"
      },
      "outputs": [],
      "source": [
        "from sklearn.cluster import KMeans"
      ]
    },
    {
      "cell_type": "code",
      "execution_count": null,
      "id": "255fe6d1",
      "metadata": {
        "id": "255fe6d1"
      },
      "outputs": [],
      "source": [
        "kmeans = KMeans(init=\"random\",\n",
        "      n_clusters=5,\n",
        "    \n",
        "    max_iter=300,\n",
        "    random_state=42)\n",
        "kmeans=kmeans.fit(result1[['age','friends']])"
      ]
    },
    {
      "cell_type": "markdown",
      "source": [
        "**we will implement k means clustering and will first consider two columns age and friends**"
      ],
      "metadata": {
        "id": "O8iTdqMWPGCC"
      },
      "id": "O8iTdqMWPGCC"
    },
    {
      "cell_type": "code",
      "execution_count": null,
      "id": "da9e0bb0",
      "metadata": {
        "id": "da9e0bb0",
        "outputId": "ee19df8f-19bc-42f7-b0db-a6f4fcac4050",
        "colab": {
          "base_uri": "https://localhost:8080/"
        }
      },
      "outputs": [
        {
          "output_type": "execute_result",
          "data": {
            "text/plain": [
              "array([[ 17.25169371,  31.61297889],\n",
              "       [ 17.123513  , 120.16245007],\n",
              "       [ 17.16814274,  65.56831395],\n",
              "       [ 17.06519272, 242.73846154],\n",
              "       [ 17.29664577,   5.41887987]])"
            ]
          },
          "metadata": {},
          "execution_count": 150
        }
      ],
      "source": [
        "kmeans.cluster_centers_"
      ]
    },
    {
      "cell_type": "code",
      "execution_count": null,
      "id": "6fac6b5a",
      "metadata": {
        "id": "6fac6b5a",
        "outputId": "604b38dc-c155-413a-b122-08c73dc9aa67",
        "colab": {
          "base_uri": "https://localhost:8080/"
        }
      },
      "outputs": [
        {
          "output_type": "stream",
          "name": "stderr",
          "text": [
            "/usr/local/lib/python3.7/dist-packages/sklearn/utils/validation.py:1692: FutureWarning: Feature names only support names that are all strings. Got feature names with dtypes: ['float', 'str']. An error will be raised in 1.2.\n",
            "  FutureWarning,\n"
          ]
        },
        {
          "output_type": "execute_result",
          "data": {
            "text/plain": [
              "array([4, 4, 2, ..., 4, 4, 4], dtype=int32)"
            ]
          },
          "metadata": {},
          "execution_count": 151
        }
      ],
      "source": [
        "identified_clusters=kmeans.fit_predict(result1)\n",
        "identified_clusters"
      ]
    },
    {
      "cell_type": "code",
      "execution_count": null,
      "id": "bb4a1e64",
      "metadata": {
        "id": "bb4a1e64"
      },
      "outputs": [],
      "source": [
        "data_with_clusters=data.copy()"
      ]
    },
    {
      "cell_type": "code",
      "execution_count": null,
      "id": "38b5796e",
      "metadata": {
        "id": "38b5796e"
      },
      "outputs": [],
      "source": [
        "data_with_clusters['Clusters']=kmeans.labels_"
      ]
    },
    {
      "cell_type": "code",
      "execution_count": null,
      "id": "c56b2aa4",
      "metadata": {
        "id": "c56b2aa4",
        "outputId": "b1999d70-c45f-4f7d-d89d-13a14c7e1df9",
        "colab": {
          "base_uri": "https://localhost:8080/",
          "height": 235
        }
      },
      "outputs": [
        {
          "output_type": "execute_result",
          "data": {
            "text/plain": [
              "   gradyear gender     age  friends  basketball  football  soccer  softball  \\\n",
              "0      2006      M  18.982        7           0         0       0         0   \n",
              "1      2006      F  18.801        0           0         1       0         0   \n",
              "2      2006      M  18.335       69           0         1       0         0   \n",
              "3      2006      F  18.875        0           0         0       0         0   \n",
              "4      2006    NaN  18.995       10           0         0       0         0   \n",
              "\n",
              "   volleyball  swimming  ...  hollister  abercrombie  die  death  drunk  \\\n",
              "0           0         0  ...          0            0    0      0      0   \n",
              "1           0         0  ...          0            0    0      0      0   \n",
              "2           0         0  ...          0            0    0      1      0   \n",
              "3           0         0  ...          0            0    0      0      0   \n",
              "4           0         0  ...          0            0    0      0      1   \n",
              "\n",
              "   drugs  F  M  NaN  Clusters  \n",
              "0      0  0  1    0         4  \n",
              "1      0  1  0    0         4  \n",
              "2      0  0  1    0         2  \n",
              "3      0  1  0    0         4  \n",
              "4      1  0  0    1         4  \n",
              "\n",
              "[5 rows x 44 columns]"
            ],
            "text/html": [
              "\n",
              "  <div id=\"df-223a87f7-2b23-4d72-94fc-346e5b8fabf2\">\n",
              "    <div class=\"colab-df-container\">\n",
              "      <div>\n",
              "<style scoped>\n",
              "    .dataframe tbody tr th:only-of-type {\n",
              "        vertical-align: middle;\n",
              "    }\n",
              "\n",
              "    .dataframe tbody tr th {\n",
              "        vertical-align: top;\n",
              "    }\n",
              "\n",
              "    .dataframe thead th {\n",
              "        text-align: right;\n",
              "    }\n",
              "</style>\n",
              "<table border=\"1\" class=\"dataframe\">\n",
              "  <thead>\n",
              "    <tr style=\"text-align: right;\">\n",
              "      <th></th>\n",
              "      <th>gradyear</th>\n",
              "      <th>gender</th>\n",
              "      <th>age</th>\n",
              "      <th>friends</th>\n",
              "      <th>basketball</th>\n",
              "      <th>football</th>\n",
              "      <th>soccer</th>\n",
              "      <th>softball</th>\n",
              "      <th>volleyball</th>\n",
              "      <th>swimming</th>\n",
              "      <th>...</th>\n",
              "      <th>hollister</th>\n",
              "      <th>abercrombie</th>\n",
              "      <th>die</th>\n",
              "      <th>death</th>\n",
              "      <th>drunk</th>\n",
              "      <th>drugs</th>\n",
              "      <th>F</th>\n",
              "      <th>M</th>\n",
              "      <th>NaN</th>\n",
              "      <th>Clusters</th>\n",
              "    </tr>\n",
              "  </thead>\n",
              "  <tbody>\n",
              "    <tr>\n",
              "      <th>0</th>\n",
              "      <td>2006</td>\n",
              "      <td>M</td>\n",
              "      <td>18.982</td>\n",
              "      <td>7</td>\n",
              "      <td>0</td>\n",
              "      <td>0</td>\n",
              "      <td>0</td>\n",
              "      <td>0</td>\n",
              "      <td>0</td>\n",
              "      <td>0</td>\n",
              "      <td>...</td>\n",
              "      <td>0</td>\n",
              "      <td>0</td>\n",
              "      <td>0</td>\n",
              "      <td>0</td>\n",
              "      <td>0</td>\n",
              "      <td>0</td>\n",
              "      <td>0</td>\n",
              "      <td>1</td>\n",
              "      <td>0</td>\n",
              "      <td>4</td>\n",
              "    </tr>\n",
              "    <tr>\n",
              "      <th>1</th>\n",
              "      <td>2006</td>\n",
              "      <td>F</td>\n",
              "      <td>18.801</td>\n",
              "      <td>0</td>\n",
              "      <td>0</td>\n",
              "      <td>1</td>\n",
              "      <td>0</td>\n",
              "      <td>0</td>\n",
              "      <td>0</td>\n",
              "      <td>0</td>\n",
              "      <td>...</td>\n",
              "      <td>0</td>\n",
              "      <td>0</td>\n",
              "      <td>0</td>\n",
              "      <td>0</td>\n",
              "      <td>0</td>\n",
              "      <td>0</td>\n",
              "      <td>1</td>\n",
              "      <td>0</td>\n",
              "      <td>0</td>\n",
              "      <td>4</td>\n",
              "    </tr>\n",
              "    <tr>\n",
              "      <th>2</th>\n",
              "      <td>2006</td>\n",
              "      <td>M</td>\n",
              "      <td>18.335</td>\n",
              "      <td>69</td>\n",
              "      <td>0</td>\n",
              "      <td>1</td>\n",
              "      <td>0</td>\n",
              "      <td>0</td>\n",
              "      <td>0</td>\n",
              "      <td>0</td>\n",
              "      <td>...</td>\n",
              "      <td>0</td>\n",
              "      <td>0</td>\n",
              "      <td>0</td>\n",
              "      <td>1</td>\n",
              "      <td>0</td>\n",
              "      <td>0</td>\n",
              "      <td>0</td>\n",
              "      <td>1</td>\n",
              "      <td>0</td>\n",
              "      <td>2</td>\n",
              "    </tr>\n",
              "    <tr>\n",
              "      <th>3</th>\n",
              "      <td>2006</td>\n",
              "      <td>F</td>\n",
              "      <td>18.875</td>\n",
              "      <td>0</td>\n",
              "      <td>0</td>\n",
              "      <td>0</td>\n",
              "      <td>0</td>\n",
              "      <td>0</td>\n",
              "      <td>0</td>\n",
              "      <td>0</td>\n",
              "      <td>...</td>\n",
              "      <td>0</td>\n",
              "      <td>0</td>\n",
              "      <td>0</td>\n",
              "      <td>0</td>\n",
              "      <td>0</td>\n",
              "      <td>0</td>\n",
              "      <td>1</td>\n",
              "      <td>0</td>\n",
              "      <td>0</td>\n",
              "      <td>4</td>\n",
              "    </tr>\n",
              "    <tr>\n",
              "      <th>4</th>\n",
              "      <td>2006</td>\n",
              "      <td>NaN</td>\n",
              "      <td>18.995</td>\n",
              "      <td>10</td>\n",
              "      <td>0</td>\n",
              "      <td>0</td>\n",
              "      <td>0</td>\n",
              "      <td>0</td>\n",
              "      <td>0</td>\n",
              "      <td>0</td>\n",
              "      <td>...</td>\n",
              "      <td>0</td>\n",
              "      <td>0</td>\n",
              "      <td>0</td>\n",
              "      <td>0</td>\n",
              "      <td>1</td>\n",
              "      <td>1</td>\n",
              "      <td>0</td>\n",
              "      <td>0</td>\n",
              "      <td>1</td>\n",
              "      <td>4</td>\n",
              "    </tr>\n",
              "  </tbody>\n",
              "</table>\n",
              "<p>5 rows × 44 columns</p>\n",
              "</div>\n",
              "      <button class=\"colab-df-convert\" onclick=\"convertToInteractive('df-223a87f7-2b23-4d72-94fc-346e5b8fabf2')\"\n",
              "              title=\"Convert this dataframe to an interactive table.\"\n",
              "              style=\"display:none;\">\n",
              "        \n",
              "  <svg xmlns=\"http://www.w3.org/2000/svg\" height=\"24px\"viewBox=\"0 0 24 24\"\n",
              "       width=\"24px\">\n",
              "    <path d=\"M0 0h24v24H0V0z\" fill=\"none\"/>\n",
              "    <path d=\"M18.56 5.44l.94 2.06.94-2.06 2.06-.94-2.06-.94-.94-2.06-.94 2.06-2.06.94zm-11 1L8.5 8.5l.94-2.06 2.06-.94-2.06-.94L8.5 2.5l-.94 2.06-2.06.94zm10 10l.94 2.06.94-2.06 2.06-.94-2.06-.94-.94-2.06-.94 2.06-2.06.94z\"/><path d=\"M17.41 7.96l-1.37-1.37c-.4-.4-.92-.59-1.43-.59-.52 0-1.04.2-1.43.59L10.3 9.45l-7.72 7.72c-.78.78-.78 2.05 0 2.83L4 21.41c.39.39.9.59 1.41.59.51 0 1.02-.2 1.41-.59l7.78-7.78 2.81-2.81c.8-.78.8-2.07 0-2.86zM5.41 20L4 18.59l7.72-7.72 1.47 1.35L5.41 20z\"/>\n",
              "  </svg>\n",
              "      </button>\n",
              "      \n",
              "  <style>\n",
              "    .colab-df-container {\n",
              "      display:flex;\n",
              "      flex-wrap:wrap;\n",
              "      gap: 12px;\n",
              "    }\n",
              "\n",
              "    .colab-df-convert {\n",
              "      background-color: #E8F0FE;\n",
              "      border: none;\n",
              "      border-radius: 50%;\n",
              "      cursor: pointer;\n",
              "      display: none;\n",
              "      fill: #1967D2;\n",
              "      height: 32px;\n",
              "      padding: 0 0 0 0;\n",
              "      width: 32px;\n",
              "    }\n",
              "\n",
              "    .colab-df-convert:hover {\n",
              "      background-color: #E2EBFA;\n",
              "      box-shadow: 0px 1px 2px rgba(60, 64, 67, 0.3), 0px 1px 3px 1px rgba(60, 64, 67, 0.15);\n",
              "      fill: #174EA6;\n",
              "    }\n",
              "\n",
              "    [theme=dark] .colab-df-convert {\n",
              "      background-color: #3B4455;\n",
              "      fill: #D2E3FC;\n",
              "    }\n",
              "\n",
              "    [theme=dark] .colab-df-convert:hover {\n",
              "      background-color: #434B5C;\n",
              "      box-shadow: 0px 1px 3px 1px rgba(0, 0, 0, 0.15);\n",
              "      filter: drop-shadow(0px 1px 2px rgba(0, 0, 0, 0.3));\n",
              "      fill: #FFFFFF;\n",
              "    }\n",
              "  </style>\n",
              "\n",
              "      <script>\n",
              "        const buttonEl =\n",
              "          document.querySelector('#df-223a87f7-2b23-4d72-94fc-346e5b8fabf2 button.colab-df-convert');\n",
              "        buttonEl.style.display =\n",
              "          google.colab.kernel.accessAllowed ? 'block' : 'none';\n",
              "\n",
              "        async function convertToInteractive(key) {\n",
              "          const element = document.querySelector('#df-223a87f7-2b23-4d72-94fc-346e5b8fabf2');\n",
              "          const dataTable =\n",
              "            await google.colab.kernel.invokeFunction('convertToInteractive',\n",
              "                                                     [key], {});\n",
              "          if (!dataTable) return;\n",
              "\n",
              "          const docLinkHtml = 'Like what you see? Visit the ' +\n",
              "            '<a target=\"_blank\" href=https://colab.research.google.com/notebooks/data_table.ipynb>data table notebook</a>'\n",
              "            + ' to learn more about interactive tables.';\n",
              "          element.innerHTML = '';\n",
              "          dataTable['output_type'] = 'display_data';\n",
              "          await google.colab.output.renderOutput(dataTable, element);\n",
              "          const docLink = document.createElement('div');\n",
              "          docLink.innerHTML = docLinkHtml;\n",
              "          element.appendChild(docLink);\n",
              "        }\n",
              "      </script>\n",
              "    </div>\n",
              "  </div>\n",
              "  "
            ]
          },
          "metadata": {},
          "execution_count": 154
        }
      ],
      "source": [
        "data_with_clusters.head()"
      ]
    },
    {
      "cell_type": "markdown",
      "source": [
        "**we will count how many datapoints are present in each cluster**"
      ],
      "metadata": {
        "id": "2J7QrjHcPYkb"
      },
      "id": "2J7QrjHcPYkb"
    },
    {
      "cell_type": "code",
      "execution_count": null,
      "id": "f13f31d5",
      "metadata": {
        "id": "f13f31d5",
        "outputId": "15d1996b-d191-44cc-d64d-693c1949209e",
        "colab": {
          "base_uri": "https://localhost:8080/"
        }
      },
      "outputs": [
        {
          "output_type": "execute_result",
          "data": {
            "text/plain": [
              "4    14534\n",
              "0     8953\n",
              "2     4816\n",
              "1     1502\n",
              "3      195\n",
              "Name: Clusters, dtype: int64"
            ]
          },
          "metadata": {},
          "execution_count": 155
        }
      ],
      "source": [
        "data_with_clusters['Clusters'].value_counts()"
      ]
    },
    {
      "cell_type": "markdown",
      "source": [
        "**In order to get a interpretation of our clusters formed we will plot scatter plot**"
      ],
      "metadata": {
        "id": "0oS_udKiPeJG"
      },
      "id": "0oS_udKiPeJG"
    },
    {
      "cell_type": "code",
      "execution_count": null,
      "id": "349b244c",
      "metadata": {
        "id": "349b244c",
        "outputId": "5ac2c11f-0116-4ebf-b598-781d3a6c62c2",
        "colab": {
          "base_uri": "https://localhost:8080/",
          "height": 228
        }
      },
      "outputs": [
        {
          "output_type": "execute_result",
          "data": {
            "text/plain": [
              "<matplotlib.collections.PathCollection at 0x7ff490a88550>"
            ]
          },
          "metadata": {},
          "execution_count": 156
        },
        {
          "output_type": "display_data",
          "data": {
            "text/plain": [
              "<Figure size 360x216 with 1 Axes>"
            ],
            "image/png": "[encoded data removed]"
          },
          "metadata": {}
        }
      ],
      "source": [
        "plt.scatter(data_with_clusters['age'],data_with_clusters['friends'],c=data_with_clusters['Clusters'],cmap='rainbow')"
      ]
    },
    {
      "cell_type": "code",
      "execution_count": null,
      "id": "619980da",
      "metadata": {
        "id": "619980da",
        "outputId": "10505946-6d45-4559-e0b9-501a5785f283",
        "colab": {
          "base_uri": "https://localhost:8080/"
        }
      },
      "outputs": [
        {
          "output_type": "execute_result",
          "data": {
            "text/plain": [
              "4843825.8157010265"
            ]
          },
          "metadata": {},
          "execution_count": 157
        }
      ],
      "source": [
        "kmeans.inertia_"
      ]
    },
    {
      "cell_type": "code",
      "execution_count": null,
      "id": "53a778bf",
      "metadata": {
        "id": "53a778bf",
        "outputId": "7588c997-1927-48b7-d3c1-3ff0dbc371d4",
        "colab": {
          "base_uri": "https://localhost:8080/"
        }
      },
      "outputs": [
        {
          "output_type": "execute_result",
          "data": {
            "text/plain": [
              "array([4, 4, 2, ..., 4, 4, 4], dtype=int32)"
            ]
          },
          "metadata": {},
          "execution_count": 158
        }
      ],
      "source": [
        "kmeans.labels_"
      ]
    },
    {
      "cell_type": "code",
      "execution_count": null,
      "id": "07fc03df",
      "metadata": {
        "id": "07fc03df",
        "outputId": "bd02c53c-9bfa-47a4-dd27-b03cd28c1c1c",
        "colab": {
          "base_uri": "https://localhost:8080/"
        }
      },
      "outputs": [
        {
          "output_type": "execute_result",
          "data": {
            "text/plain": [
              "22"
            ]
          },
          "metadata": {},
          "execution_count": 159
        }
      ],
      "source": [
        "kmeans.n_iter_"
      ]
    },
    {
      "cell_type": "markdown",
      "source": [
        "** we will repeat the above process for the columns male and friends**"
      ],
      "metadata": {
        "id": "imeFHrPLPxNP"
      },
      "id": "imeFHrPLPxNP"
    },
    {
      "cell_type": "code",
      "execution_count": null,
      "id": "e55c538b",
      "metadata": {
        "id": "e55c538b"
      },
      "outputs": [],
      "source": [
        "kmeans1 = KMeans(init=\"random\",\n",
        "      n_clusters=5,\n",
        "    \n",
        "    max_iter=300,\n",
        "    random_state=42)\n",
        "kmeans1=kmeans1.fit(result2[['M','friends']])"
      ]
    },
    {
      "cell_type": "code",
      "execution_count": null,
      "id": "8de7b9bc",
      "metadata": {
        "id": "8de7b9bc",
        "outputId": "26a4acd9-c0c2-4330-959e-df7d7d2b0d16",
        "colab": {
          "base_uri": "https://localhost:8080/"
        }
      },
      "outputs": [
        {
          "output_type": "execute_result",
          "data": {
            "text/plain": [
              "array([[2.00750519e+03, 1.72516937e+01, 3.16129789e+01, 2.88953423e-01,\n",
              "        2.66614543e-01, 2.41483302e-01, 1.66424662e-01, 1.65866190e-01,\n",
              "        1.49893890e-01, 1.08566961e-01, 1.09125433e-01, 9.34882162e-02,\n",
              "        1.54361666e-01, 3.38880822e-01, 2.12889534e-01, 1.42410365e-01,\n",
              "        1.31464314e-01, 1.05216129e-01, 4.60851111e-01, 3.40891321e-01,\n",
              "        4.54596225e-02, 7.98950073e-01, 2.57120518e-01, 4.78163744e-01,\n",
              "        2.61253211e-01, 1.19401318e-01, 2.31207417e-02, 4.35273093e-01,\n",
              "        1.17949291e-01, 1.19624707e-01, 2.65832682e-01, 3.73952865e-01,\n",
              "        1.55813694e-01, 6.98090026e-02, 4.88104546e-02, 1.95353513e-01,\n",
              "        1.25097733e-01, 9.03607729e-02, 5.65173685e-02, 7.50474701e-01,\n",
              "        1.76588853e-01, 7.29364459e-02],\n",
              "       [2.00767909e+03, 1.71235130e+01, 1.20162450e+02, 3.82157124e-01,\n",
              "        3.02263648e-01, 2.66977364e-01, 2.67643142e-01, 1.99733688e-01,\n",
              "        1.47137150e-01, 2.02396804e-01, 1.32490013e-01, 9.38748336e-02,\n",
              "        1.44474035e-01, 4.68708389e-01, 2.15046605e-01, 1.83089214e-01,\n",
              "        1.97736352e-01, 1.07856192e-01, 6.02529960e-01, 2.99600533e-01,\n",
              "        4.26098535e-02, 7.96271638e-01, 2.56324900e-01, 6.53129161e-01,\n",
              "        3.92143808e-01, 1.65113182e-01, 3.12916112e-02, 5.11318242e-01,\n",
              "        1.51797603e-01, 1.26498003e-01, 4.19440746e-01, 4.88681758e-01,\n",
              "        1.65113182e-01, 1.23834887e-01, 8.32223702e-02, 2.01731025e-01,\n",
              "        1.33155792e-01, 1.09853529e-01, 5.45938748e-02, 8.16910786e-01,\n",
              "        9.78695073e-02, 8.52197071e-02],\n",
              "       [2.00761607e+03, 1.71681427e+01, 6.55683140e+01, 3.22674419e-01,\n",
              "        2.80315615e-01, 2.67857143e-01, 2.36710963e-01, 1.82724252e-01,\n",
              "        1.56976744e-01, 1.33513289e-01, 1.27699336e-01, 9.44767442e-02,\n",
              "        1.49294020e-01, 3.94933555e-01, 2.09925249e-01, 1.64451827e-01,\n",
              "        1.49501661e-01, 1.16901993e-01, 4.91279070e-01, 3.11254153e-01,\n",
              "        4.54734219e-02, 7.80730897e-01, 2.80107973e-01, 5.45473422e-01,\n",
              "        3.20598007e-01, 1.45348837e-01, 2.45016611e-02, 4.43729236e-01,\n",
              "        1.29360465e-01, 1.05689369e-01, 3.07101329e-01, 4.33762458e-01,\n",
              "        1.68604651e-01, 9.71760797e-02, 7.49584718e-02, 1.77740864e-01,\n",
              "        1.24377076e-01, 8.72093023e-02, 5.79318937e-02, 7.75955150e-01,\n",
              "        1.39742525e-01, 8.43023256e-02],\n",
              "       [2.00769231e+03, 1.70651927e+01, 2.42738462e+02, 3.02564103e-01,\n",
              "        2.51282051e-01, 2.76923077e-01, 2.00000000e-01, 2.15384615e-01,\n",
              "        2.05128205e-01, 1.74358974e-01, 1.33333333e-01, 7.69230769e-02,\n",
              "        1.28205128e-01, 4.41025641e-01, 1.89743590e-01, 2.15384615e-01,\n",
              "        1.58974359e-01, 1.48717949e-01, 4.51282051e-01, 3.38461538e-01,\n",
              "        6.15384615e-02, 6.61538462e-01, 2.00000000e-01, 5.94871795e-01,\n",
              "        2.92307692e-01, 8.71794872e-02, 5.12820513e-03, 6.30769231e-01,\n",
              "        1.74358974e-01, 1.28205128e-01, 3.12820513e-01, 5.53846154e-01,\n",
              "        1.79487179e-01, 1.23076923e-01, 1.58974359e-01, 1.89743590e-01,\n",
              "        1.53846154e-01, 1.17948718e-01, 4.61538462e-02, 8.56410256e-01,\n",
              "        7.17948718e-02, 7.17948718e-02],\n",
              "       [2.00743725e+03, 1.72966458e+01, 5.41887987e+00, 2.23338379e-01,\n",
              "        2.29049126e-01, 1.91000413e-01, 1.21439384e-01, 1.09192239e-01,\n",
              "        1.15109399e-01, 8.57300124e-02, 9.15783680e-02, 8.06385028e-02,\n",
              "        1.27700564e-01, 2.72464566e-01, 2.06756571e-01, 1.27425347e-01,\n",
              "        1.08228980e-01, 9.63258566e-02, 3.62598046e-01, 2.69781203e-01,\n",
              "        3.55029586e-02, 6.80955002e-01, 2.21893491e-01, 4.09660107e-01,\n",
              "        2.00632998e-01, 9.13719554e-02, 1.83707169e-02, 3.95761662e-01,\n",
              "        9.55002064e-02, 8.07073070e-02, 2.18178065e-01, 2.96614834e-01,\n",
              "        1.35200220e-01, 5.45617174e-02, 3.99752305e-02, 1.77377185e-01,\n",
              "        1.01692583e-01, 8.40787120e-02, 6.44695197e-02, 7.02077886e-01,\n",
              "        1.93133343e-01, 1.04788771e-01]])"
            ]
          },
          "metadata": {},
          "execution_count": 161
        }
      ],
      "source": [
        "kmeans.cluster_centers_"
      ]
    },
    {
      "cell_type": "code",
      "execution_count": null,
      "id": "468795cd",
      "metadata": {
        "id": "468795cd",
        "outputId": "478d0a4b-5e57-468c-8890-69c62c41b0be",
        "colab": {
          "base_uri": "https://localhost:8080/"
        }
      },
      "outputs": [
        {
          "output_type": "stream",
          "name": "stderr",
          "text": [
            "/usr/local/lib/python3.7/dist-packages/sklearn/utils/validation.py:1692: FutureWarning: Feature names only support names that are all strings. Got feature names with dtypes: ['float', 'str']. An error will be raised in 1.2.\n",
            "  FutureWarning,\n"
          ]
        },
        {
          "output_type": "execute_result",
          "data": {
            "text/plain": [
              "array([4, 4, 2, ..., 4, 4, 4], dtype=int32)"
            ]
          },
          "metadata": {},
          "execution_count": 162
        }
      ],
      "source": [
        "identified_clusters=kmeans1.fit_predict(result2)\n",
        "identified_clusters\n"
      ]
    },
    {
      "cell_type": "code",
      "execution_count": null,
      "id": "d523b4b9",
      "metadata": {
        "id": "d523b4b9"
      },
      "outputs": [],
      "source": [
        "data_with_clusters1=data.copy()"
      ]
    },
    {
      "cell_type": "code",
      "execution_count": null,
      "id": "72612101",
      "metadata": {
        "id": "72612101"
      },
      "outputs": [],
      "source": [
        "data_with_clusters1['Clusters']=kmeans1.labels_"
      ]
    },
    {
      "cell_type": "code",
      "execution_count": null,
      "id": "a578e591",
      "metadata": {
        "id": "a578e591",
        "outputId": "f9e45d54-7ab1-496a-e767-04f4f7096882",
        "colab": {
          "base_uri": "https://localhost:8080/",
          "height": 235
        }
      },
      "outputs": [
        {
          "output_type": "execute_result",
          "data": {
            "text/plain": [
              "   gradyear gender     age  friends  basketball  football  soccer  softball  \\\n",
              "0      2006      M  18.982        7           0         0       0         0   \n",
              "1      2006      F  18.801        0           0         1       0         0   \n",
              "2      2006      M  18.335       69           0         1       0         0   \n",
              "3      2006      F  18.875        0           0         0       0         0   \n",
              "4      2006    NaN  18.995       10           0         0       0         0   \n",
              "\n",
              "   volleyball  swimming  ...  hollister  abercrombie  die  death  drunk  \\\n",
              "0           0         0  ...          0            0    0      0      0   \n",
              "1           0         0  ...          0            0    0      0      0   \n",
              "2           0         0  ...          0            0    0      1      0   \n",
              "3           0         0  ...          0            0    0      0      0   \n",
              "4           0         0  ...          0            0    0      0      1   \n",
              "\n",
              "   drugs  F  M  NaN  Clusters  \n",
              "0      0  0  1    0         4  \n",
              "1      0  1  0    0         4  \n",
              "2      0  0  1    0         2  \n",
              "3      0  1  0    0         4  \n",
              "4      1  0  0    1         4  \n",
              "\n",
              "[5 rows x 44 columns]"
            ],
            "text/html": [
              "\n",
              "  <div id=\"df-e3ae4e8e-72e9-4320-ae1a-d88b70b0c698\">\n",
              "    <div class=\"colab-df-container\">\n",
              "      <div>\n",
              "<style scoped>\n",
              "    .dataframe tbody tr th:only-of-type {\n",
              "        vertical-align: middle;\n",
              "    }\n",
              "\n",
              "    .dataframe tbody tr th {\n",
              "        vertical-align: top;\n",
              "    }\n",
              "\n",
              "    .dataframe thead th {\n",
              "        text-align: right;\n",
              "    }\n",
              "</style>\n",
              "<table border=\"1\" class=\"dataframe\">\n",
              "  <thead>\n",
              "    <tr style=\"text-align: right;\">\n",
              "      <th></th>\n",
              "      <th>gradyear</th>\n",
              "      <th>gender</th>\n",
              "      <th>age</th>\n",
              "      <th>friends</th>\n",
              "      <th>basketball</th>\n",
              "      <th>football</th>\n",
              "      <th>soccer</th>\n",
              "      <th>softball</th>\n",
              "      <th>volleyball</th>\n",
              "      <th>swimming</th>\n",
              "      <th>...</th>\n",
              "      <th>hollister</th>\n",
              "      <th>abercrombie</th>\n",
              "      <th>die</th>\n",
              "      <th>death</th>\n",
              "      <th>drunk</th>\n",
              "      <th>drugs</th>\n",
              "      <th>F</th>\n",
              "      <th>M</th>\n",
              "      <th>NaN</th>\n",
              "      <th>Clusters</th>\n",
              "    </tr>\n",
              "  </thead>\n",
              "  <tbody>\n",
              "    <tr>\n",
              "      <th>0</th>\n",
              "      <td>2006</td>\n",
              "      <td>M</td>\n",
              "      <td>18.982</td>\n",
              "      <td>7</td>\n",
              "      <td>0</td>\n",
              "      <td>0</td>\n",
              "      <td>0</td>\n",
              "      <td>0</td>\n",
              "      <td>0</td>\n",
              "      <td>0</td>\n",
              "      <td>...</td>\n",
              "      <td>0</td>\n",
              "      <td>0</td>\n",
              "      <td>0</td>\n",
              "      <td>0</td>\n",
              "      <td>0</td>\n",
              "      <td>0</td>\n",
              "      <td>0</td>\n",
              "      <td>1</td>\n",
              "      <td>0</td>\n",
              "      <td>4</td>\n",
              "    </tr>\n",
              "    <tr>\n",
              "      <th>1</th>\n",
              "      <td>2006</td>\n",
              "      <td>F</td>\n",
              "      <td>18.801</td>\n",
              "      <td>0</td>\n",
              "      <td>0</td>\n",
              "      <td>1</td>\n",
              "      <td>0</td>\n",
              "      <td>0</td>\n",
              "      <td>0</td>\n",
              "      <td>0</td>\n",
              "      <td>...</td>\n",
              "      <td>0</td>\n",
              "      <td>0</td>\n",
              "      <td>0</td>\n",
              "      <td>0</td>\n",
              "      <td>0</td>\n",
              "      <td>0</td>\n",
              "      <td>1</td>\n",
              "      <td>0</td>\n",
              "      <td>0</td>\n",
              "      <td>4</td>\n",
              "    </tr>\n",
              "    <tr>\n",
              "      <th>2</th>\n",
              "      <td>2006</td>\n",
              "      <td>M</td>\n",
              "      <td>18.335</td>\n",
              "      <td>69</td>\n",
              "      <td>0</td>\n",
              "      <td>1</td>\n",
              "      <td>0</td>\n",
              "      <td>0</td>\n",
              "      <td>0</td>\n",
              "      <td>0</td>\n",
              "      <td>...</td>\n",
              "      <td>0</td>\n",
              "      <td>0</td>\n",
              "      <td>0</td>\n",
              "      <td>1</td>\n",
              "      <td>0</td>\n",
              "      <td>0</td>\n",
              "      <td>0</td>\n",
              "      <td>1</td>\n",
              "      <td>0</td>\n",
              "      <td>2</td>\n",
              "    </tr>\n",
              "    <tr>\n",
              "      <th>3</th>\n",
              "      <td>2006</td>\n",
              "      <td>F</td>\n",
              "      <td>18.875</td>\n",
              "      <td>0</td>\n",
              "      <td>0</td>\n",
              "      <td>0</td>\n",
              "      <td>0</td>\n",
              "      <td>0</td>\n",
              "      <td>0</td>\n",
              "      <td>0</td>\n",
              "      <td>...</td>\n",
              "      <td>0</td>\n",
              "      <td>0</td>\n",
              "      <td>0</td>\n",
              "      <td>0</td>\n",
              "      <td>0</td>\n",
              "      <td>0</td>\n",
              "      <td>1</td>\n",
              "      <td>0</td>\n",
              "      <td>0</td>\n",
              "      <td>4</td>\n",
              "    </tr>\n",
              "    <tr>\n",
              "      <th>4</th>\n",
              "      <td>2006</td>\n",
              "      <td>NaN</td>\n",
              "      <td>18.995</td>\n",
              "      <td>10</td>\n",
              "      <td>0</td>\n",
              "      <td>0</td>\n",
              "      <td>0</td>\n",
              "      <td>0</td>\n",
              "      <td>0</td>\n",
              "      <td>0</td>\n",
              "      <td>...</td>\n",
              "      <td>0</td>\n",
              "      <td>0</td>\n",
              "      <td>0</td>\n",
              "      <td>0</td>\n",
              "      <td>1</td>\n",
              "      <td>1</td>\n",
              "      <td>0</td>\n",
              "      <td>0</td>\n",
              "      <td>1</td>\n",
              "      <td>4</td>\n",
              "    </tr>\n",
              "  </tbody>\n",
              "</table>\n",
              "<p>5 rows × 44 columns</p>\n",
              "</div>\n",
              "      <button class=\"colab-df-convert\" onclick=\"convertToInteractive('df-e3ae4e8e-72e9-4320-ae1a-d88b70b0c698')\"\n",
              "              title=\"Convert this dataframe to an interactive table.\"\n",
              "              style=\"display:none;\">\n",
              "        \n",
              "  <svg xmlns=\"http://www.w3.org/2000/svg\" height=\"24px\"viewBox=\"0 0 24 24\"\n",
              "       width=\"24px\">\n",
              "    <path d=\"M0 0h24v24H0V0z\" fill=\"none\"/>\n",
              "    <path d=\"M18.56 5.44l.94 2.06.94-2.06 2.06-.94-2.06-.94-.94-2.06-.94 2.06-2.06.94zm-11 1L8.5 8.5l.94-2.06 2.06-.94-2.06-.94L8.5 2.5l-.94 2.06-2.06.94zm10 10l.94 2.06.94-2.06 2.06-.94-2.06-.94-.94-2.06-.94 2.06-2.06.94z\"/><path d=\"M17.41 7.96l-1.37-1.37c-.4-.4-.92-.59-1.43-.59-.52 0-1.04.2-1.43.59L10.3 9.45l-7.72 7.72c-.78.78-.78 2.05 0 2.83L4 21.41c.39.39.9.59 1.41.59.51 0 1.02-.2 1.41-.59l7.78-7.78 2.81-2.81c.8-.78.8-2.07 0-2.86zM5.41 20L4 18.59l7.72-7.72 1.47 1.35L5.41 20z\"/>\n",
              "  </svg>\n",
              "      </button>\n",
              "      \n",
              "  <style>\n",
              "    .colab-df-container {\n",
              "      display:flex;\n",
              "      flex-wrap:wrap;\n",
              "      gap: 12px;\n",
              "    }\n",
              "\n",
              "    .colab-df-convert {\n",
              "      background-color: #E8F0FE;\n",
              "      border: none;\n",
              "      border-radius: 50%;\n",
              "      cursor: pointer;\n",
              "      display: none;\n",
              "      fill: #1967D2;\n",
              "      height: 32px;\n",
              "      padding: 0 0 0 0;\n",
              "      width: 32px;\n",
              "    }\n",
              "\n",
              "    .colab-df-convert:hover {\n",
              "      background-color: #E2EBFA;\n",
              "      box-shadow: 0px 1px 2px rgba(60, 64, 67, 0.3), 0px 1px 3px 1px rgba(60, 64, 67, 0.15);\n",
              "      fill: #174EA6;\n",
              "    }\n",
              "\n",
              "    [theme=dark] .colab-df-convert {\n",
              "      background-color: #3B4455;\n",
              "      fill: #D2E3FC;\n",
              "    }\n",
              "\n",
              "    [theme=dark] .colab-df-convert:hover {\n",
              "      background-color: #434B5C;\n",
              "      box-shadow: 0px 1px 3px 1px rgba(0, 0, 0, 0.15);\n",
              "      filter: drop-shadow(0px 1px 2px rgba(0, 0, 0, 0.3));\n",
              "      fill: #FFFFFF;\n",
              "    }\n",
              "  </style>\n",
              "\n",
              "      <script>\n",
              "        const buttonEl =\n",
              "          document.querySelector('#df-e3ae4e8e-72e9-4320-ae1a-d88b70b0c698 button.colab-df-convert');\n",
              "        buttonEl.style.display =\n",
              "          google.colab.kernel.accessAllowed ? 'block' : 'none';\n",
              "\n",
              "        async function convertToInteractive(key) {\n",
              "          const element = document.querySelector('#df-e3ae4e8e-72e9-4320-ae1a-d88b70b0c698');\n",
              "          const dataTable =\n",
              "            await google.colab.kernel.invokeFunction('convertToInteractive',\n",
              "                                                     [key], {});\n",
              "          if (!dataTable) return;\n",
              "\n",
              "          const docLinkHtml = 'Like what you see? Visit the ' +\n",
              "            '<a target=\"_blank\" href=https://colab.research.google.com/notebooks/data_table.ipynb>data table notebook</a>'\n",
              "            + ' to learn more about interactive tables.';\n",
              "          element.innerHTML = '';\n",
              "          dataTable['output_type'] = 'display_data';\n",
              "          await google.colab.output.renderOutput(dataTable, element);\n",
              "          const docLink = document.createElement('div');\n",
              "          docLink.innerHTML = docLinkHtml;\n",
              "          element.appendChild(docLink);\n",
              "        }\n",
              "      </script>\n",
              "    </div>\n",
              "  </div>\n",
              "  "
            ]
          },
          "metadata": {},
          "execution_count": 165
        }
      ],
      "source": [
        "data_with_clusters1.head()"
      ]
    },
    {
      "cell_type": "code",
      "execution_count": null,
      "id": "e172fa3d",
      "metadata": {
        "id": "e172fa3d",
        "outputId": "71735338-ae4f-46f2-8005-d84c0e1adda8",
        "colab": {
          "base_uri": "https://localhost:8080/"
        }
      },
      "outputs": [
        {
          "output_type": "execute_result",
          "data": {
            "text/plain": [
              "4    14534\n",
              "0     8953\n",
              "2     4816\n",
              "1     1502\n",
              "3      195\n",
              "Name: Clusters, dtype: int64"
            ]
          },
          "metadata": {},
          "execution_count": 166
        }
      ],
      "source": [
        "data_with_clusters1['Clusters'].value_counts()"
      ]
    },
    {
      "cell_type": "code",
      "execution_count": null,
      "id": "34bdf76d",
      "metadata": {
        "id": "34bdf76d",
        "outputId": "ee7ef5a6-a2a9-4d83-935f-fcfc7d3df0b0",
        "colab": {
          "base_uri": "https://localhost:8080/",
          "height": 228
        }
      },
      "outputs": [
        {
          "output_type": "execute_result",
          "data": {
            "text/plain": [
              "<matplotlib.collections.PathCollection at 0x7ff4909c2290>"
            ]
          },
          "metadata": {},
          "execution_count": 167
        },
        {
          "output_type": "display_data",
          "data": {
            "text/plain": [
              "<Figure size 360x216 with 1 Axes>"
            ],
            "image/png": "[encoded data removed]"
          },
          "metadata": {}
        }
      ],
      "source": [
        "plt.scatter(data_with_clusters1['M'],data_with_clusters1['friends'],c=data_with_clusters1['Clusters'],cmap='rainbow')\n"
      ]
    },
    {
      "cell_type": "code",
      "execution_count": null,
      "id": "2b315202",
      "metadata": {
        "id": "2b315202",
        "outputId": "22c83353-2cbb-441a-dc53-97c7b6de0f38",
        "colab": {
          "base_uri": "https://localhost:8080/"
        }
      },
      "outputs": [
        {
          "output_type": "execute_result",
          "data": {
            "text/plain": [
              "4843825.8157010265"
            ]
          },
          "metadata": {},
          "execution_count": 168
        }
      ],
      "source": [
        "kmeans.inertia_"
      ]
    },
    {
      "cell_type": "code",
      "execution_count": null,
      "id": "5601b5a1",
      "metadata": {
        "id": "5601b5a1",
        "outputId": "cc830c52-27f6-4154-bb9d-1135514658e6",
        "colab": {
          "base_uri": "https://localhost:8080/"
        }
      },
      "outputs": [
        {
          "output_type": "execute_result",
          "data": {
            "text/plain": [
              "array([4, 4, 2, ..., 4, 4, 4], dtype=int32)"
            ]
          },
          "metadata": {},
          "execution_count": 169
        }
      ],
      "source": [
        "kmeans.labels_"
      ]
    },
    {
      "cell_type": "code",
      "execution_count": null,
      "id": "8d371fc3",
      "metadata": {
        "id": "8d371fc3",
        "outputId": "e76d07b0-4d81-4fe2-b833-d0ed08b7e5a5",
        "colab": {
          "base_uri": "https://localhost:8080/"
        }
      },
      "outputs": [
        {
          "output_type": "execute_result",
          "data": {
            "text/plain": [
              "22"
            ]
          },
          "metadata": {},
          "execution_count": 170
        }
      ],
      "source": [
        "kmeans.n_iter_"
      ]
    },
    {
      "cell_type": "markdown",
      "source": [
        "** we will repeat the same steps for column F and friends**"
      ],
      "metadata": {
        "id": "iSofQJb5P4Vl"
      },
      "id": "iSofQJb5P4Vl"
    },
    {
      "cell_type": "code",
      "execution_count": null,
      "id": "e3b5081d",
      "metadata": {
        "id": "e3b5081d"
      },
      "outputs": [],
      "source": [
        "kmeans2 = KMeans(init=\"random\",\n",
        "      n_clusters=5,\n",
        "    \n",
        "    max_iter=300,\n",
        "    random_state=42)\n",
        "kmeans2=kmeans2.fit(result3[['F','friends']])"
      ]
    },
    {
      "cell_type": "code",
      "execution_count": null,
      "id": "6dc6116a",
      "metadata": {
        "id": "6dc6116a",
        "outputId": "0d5addd8-fdc9-4047-b586-0af312efb2de",
        "colab": {
          "base_uri": "https://localhost:8080/"
        }
      },
      "outputs": [
        {
          "output_type": "execute_result",
          "data": {
            "text/plain": [
              "array([[  0.7504747 ,  31.61297889],\n",
              "       [  0.81691079, 120.16245007],\n",
              "       [  0.77595515,  65.56831395],\n",
              "       [  0.85641026, 242.73846154],\n",
              "       [  0.70207789,   5.41887987]])"
            ]
          },
          "metadata": {},
          "execution_count": 172
        }
      ],
      "source": [
        "kmeans2.cluster_centers_"
      ]
    },
    {
      "cell_type": "code",
      "execution_count": null,
      "id": "6f686945",
      "metadata": {
        "id": "6f686945",
        "outputId": "811b1d03-e27a-4197-df83-a219194f06b2",
        "colab": {
          "base_uri": "https://localhost:8080/"
        }
      },
      "outputs": [
        {
          "output_type": "stream",
          "name": "stderr",
          "text": [
            "/usr/local/lib/python3.7/dist-packages/sklearn/utils/validation.py:1692: FutureWarning: Feature names only support names that are all strings. Got feature names with dtypes: ['float', 'str']. An error will be raised in 1.2.\n",
            "  FutureWarning,\n"
          ]
        },
        {
          "output_type": "execute_result",
          "data": {
            "text/plain": [
              "array([4, 4, 2, ..., 4, 4, 4], dtype=int32)"
            ]
          },
          "metadata": {},
          "execution_count": 173
        }
      ],
      "source": [
        "identified_clusters2=kmeans.fit_predict(result3)\n",
        "identified_clusters2"
      ]
    },
    {
      "cell_type": "code",
      "execution_count": null,
      "id": "09e4b76f",
      "metadata": {
        "id": "09e4b76f"
      },
      "outputs": [],
      "source": [
        "data_with_clusters2=data.copy()"
      ]
    },
    {
      "cell_type": "code",
      "execution_count": null,
      "id": "a3c679c4",
      "metadata": {
        "id": "a3c679c4"
      },
      "outputs": [],
      "source": [
        "data_with_clusters2['Clusters']=kmeans2.labels_"
      ]
    },
    {
      "cell_type": "code",
      "execution_count": null,
      "id": "d5128b95",
      "metadata": {
        "id": "d5128b95",
        "outputId": "9e132198-ea95-4da7-ac89-81c0e5846142",
        "colab": {
          "base_uri": "https://localhost:8080/",
          "height": 235
        }
      },
      "outputs": [
        {
          "output_type": "execute_result",
          "data": {
            "text/plain": [
              "   gradyear gender     age  friends  basketball  football  soccer  softball  \\\n",
              "0      2006      M  18.982        7           0         0       0         0   \n",
              "1      2006      F  18.801        0           0         1       0         0   \n",
              "2      2006      M  18.335       69           0         1       0         0   \n",
              "3      2006      F  18.875        0           0         0       0         0   \n",
              "4      2006    NaN  18.995       10           0         0       0         0   \n",
              "\n",
              "   volleyball  swimming  ...  hollister  abercrombie  die  death  drunk  \\\n",
              "0           0         0  ...          0            0    0      0      0   \n",
              "1           0         0  ...          0            0    0      0      0   \n",
              "2           0         0  ...          0            0    0      1      0   \n",
              "3           0         0  ...          0            0    0      0      0   \n",
              "4           0         0  ...          0            0    0      0      1   \n",
              "\n",
              "   drugs  F  M  NaN  Clusters  \n",
              "0      0  0  1    0         4  \n",
              "1      0  1  0    0         4  \n",
              "2      0  0  1    0         2  \n",
              "3      0  1  0    0         4  \n",
              "4      1  0  0    1         4  \n",
              "\n",
              "[5 rows x 44 columns]"
            ],
            "text/html": [
              "\n",
              "  <div id=\"df-dd6c19c4-7787-4053-94cd-3896076d7aac\">\n",
              "    <div class=\"colab-df-container\">\n",
              "      <div>\n",
              "<style scoped>\n",
              "    .dataframe tbody tr th:only-of-type {\n",
              "        vertical-align: middle;\n",
              "    }\n",
              "\n",
              "    .dataframe tbody tr th {\n",
              "        vertical-align: top;\n",
              "    }\n",
              "\n",
              "    .dataframe thead th {\n",
              "        text-align: right;\n",
              "    }\n",
              "</style>\n",
              "<table border=\"1\" class=\"dataframe\">\n",
              "  <thead>\n",
              "    <tr style=\"text-align: right;\">\n",
              "      <th></th>\n",
              "      <th>gradyear</th>\n",
              "      <th>gender</th>\n",
              "      <th>age</th>\n",
              "      <th>friends</th>\n",
              "      <th>basketball</th>\n",
              "      <th>football</th>\n",
              "      <th>soccer</th>\n",
              "      <th>softball</th>\n",
              "      <th>volleyball</th>\n",
              "      <th>swimming</th>\n",
              "      <th>...</th>\n",
              "      <th>hollister</th>\n",
              "      <th>abercrombie</th>\n",
              "      <th>die</th>\n",
              "      <th>death</th>\n",
              "      <th>drunk</th>\n",
              "      <th>drugs</th>\n",
              "      <th>F</th>\n",
              "      <th>M</th>\n",
              "      <th>NaN</th>\n",
              "      <th>Clusters</th>\n",
              "    </tr>\n",
              "  </thead>\n",
              "  <tbody>\n",
              "    <tr>\n",
              "      <th>0</th>\n",
              "      <td>2006</td>\n",
              "      <td>M</td>\n",
              "      <td>18.982</td>\n",
              "      <td>7</td>\n",
              "      <td>0</td>\n",
              "      <td>0</td>\n",
              "      <td>0</td>\n",
              "      <td>0</td>\n",
              "      <td>0</td>\n",
              "      <td>0</td>\n",
              "      <td>...</td>\n",
              "      <td>0</td>\n",
              "      <td>0</td>\n",
              "      <td>0</td>\n",
              "      <td>0</td>\n",
              "      <td>0</td>\n",
              "      <td>0</td>\n",
              "      <td>0</td>\n",
              "      <td>1</td>\n",
              "      <td>0</td>\n",
              "      <td>4</td>\n",
              "    </tr>\n",
              "    <tr>\n",
              "      <th>1</th>\n",
              "      <td>2006</td>\n",
              "      <td>F</td>\n",
              "      <td>18.801</td>\n",
              "      <td>0</td>\n",
              "      <td>0</td>\n",
              "      <td>1</td>\n",
              "      <td>0</td>\n",
              "      <td>0</td>\n",
              "      <td>0</td>\n",
              "      <td>0</td>\n",
              "      <td>...</td>\n",
              "      <td>0</td>\n",
              "      <td>0</td>\n",
              "      <td>0</td>\n",
              "      <td>0</td>\n",
              "      <td>0</td>\n",
              "      <td>0</td>\n",
              "      <td>1</td>\n",
              "      <td>0</td>\n",
              "      <td>0</td>\n",
              "      <td>4</td>\n",
              "    </tr>\n",
              "    <tr>\n",
              "      <th>2</th>\n",
              "      <td>2006</td>\n",
              "      <td>M</td>\n",
              "      <td>18.335</td>\n",
              "      <td>69</td>\n",
              "      <td>0</td>\n",
              "      <td>1</td>\n",
              "      <td>0</td>\n",
              "      <td>0</td>\n",
              "      <td>0</td>\n",
              "      <td>0</td>\n",
              "      <td>...</td>\n",
              "      <td>0</td>\n",
              "      <td>0</td>\n",
              "      <td>0</td>\n",
              "      <td>1</td>\n",
              "      <td>0</td>\n",
              "      <td>0</td>\n",
              "      <td>0</td>\n",
              "      <td>1</td>\n",
              "      <td>0</td>\n",
              "      <td>2</td>\n",
              "    </tr>\n",
              "    <tr>\n",
              "      <th>3</th>\n",
              "      <td>2006</td>\n",
              "      <td>F</td>\n",
              "      <td>18.875</td>\n",
              "      <td>0</td>\n",
              "      <td>0</td>\n",
              "      <td>0</td>\n",
              "      <td>0</td>\n",
              "      <td>0</td>\n",
              "      <td>0</td>\n",
              "      <td>0</td>\n",
              "      <td>...</td>\n",
              "      <td>0</td>\n",
              "      <td>0</td>\n",
              "      <td>0</td>\n",
              "      <td>0</td>\n",
              "      <td>0</td>\n",
              "      <td>0</td>\n",
              "      <td>1</td>\n",
              "      <td>0</td>\n",
              "      <td>0</td>\n",
              "      <td>4</td>\n",
              "    </tr>\n",
              "    <tr>\n",
              "      <th>4</th>\n",
              "      <td>2006</td>\n",
              "      <td>NaN</td>\n",
              "      <td>18.995</td>\n",
              "      <td>10</td>\n",
              "      <td>0</td>\n",
              "      <td>0</td>\n",
              "      <td>0</td>\n",
              "      <td>0</td>\n",
              "      <td>0</td>\n",
              "      <td>0</td>\n",
              "      <td>...</td>\n",
              "      <td>0</td>\n",
              "      <td>0</td>\n",
              "      <td>0</td>\n",
              "      <td>0</td>\n",
              "      <td>1</td>\n",
              "      <td>1</td>\n",
              "      <td>0</td>\n",
              "      <td>0</td>\n",
              "      <td>1</td>\n",
              "      <td>4</td>\n",
              "    </tr>\n",
              "  </tbody>\n",
              "</table>\n",
              "<p>5 rows × 44 columns</p>\n",
              "</div>\n",
              "      <button class=\"colab-df-convert\" onclick=\"convertToInteractive('df-dd6c19c4-7787-4053-94cd-3896076d7aac')\"\n",
              "              title=\"Convert this dataframe to an interactive table.\"\n",
              "              style=\"display:none;\">\n",
              "        \n",
              "  <svg xmlns=\"http://www.w3.org/2000/svg\" height=\"24px\"viewBox=\"0 0 24 24\"\n",
              "       width=\"24px\">\n",
              "    <path d=\"M0 0h24v24H0V0z\" fill=\"none\"/>\n",
              "    <path d=\"M18.56 5.44l.94 2.06.94-2.06 2.06-.94-2.06-.94-.94-2.06-.94 2.06-2.06.94zm-11 1L8.5 8.5l.94-2.06 2.06-.94-2.06-.94L8.5 2.5l-.94 2.06-2.06.94zm10 10l.94 2.06.94-2.06 2.06-.94-2.06-.94-.94-2.06-.94 2.06-2.06.94z\"/><path d=\"M17.41 7.96l-1.37-1.37c-.4-.4-.92-.59-1.43-.59-.52 0-1.04.2-1.43.59L10.3 9.45l-7.72 7.72c-.78.78-.78 2.05 0 2.83L4 21.41c.39.39.9.59 1.41.59.51 0 1.02-.2 1.41-.59l7.78-7.78 2.81-2.81c.8-.78.8-2.07 0-2.86zM5.41 20L4 18.59l7.72-7.72 1.47 1.35L5.41 20z\"/>\n",
              "  </svg>\n",
              "      </button>\n",
              "      \n",
              "  <style>\n",
              "    .colab-df-container {\n",
              "      display:flex;\n",
              "      flex-wrap:wrap;\n",
              "      gap: 12px;\n",
              "    }\n",
              "\n",
              "    .colab-df-convert {\n",
              "      background-color: #E8F0FE;\n",
              "      border: none;\n",
              "      border-radius: 50%;\n",
              "      cursor: pointer;\n",
              "      display: none;\n",
              "      fill: #1967D2;\n",
              "      height: 32px;\n",
              "      padding: 0 0 0 0;\n",
              "      width: 32px;\n",
              "    }\n",
              "\n",
              "    .colab-df-convert:hover {\n",
              "      background-color: #E2EBFA;\n",
              "      box-shadow: 0px 1px 2px rgba(60, 64, 67, 0.3), 0px 1px 3px 1px rgba(60, 64, 67, 0.15);\n",
              "      fill: #174EA6;\n",
              "    }\n",
              "\n",
              "    [theme=dark] .colab-df-convert {\n",
              "      background-color: #3B4455;\n",
              "      fill: #D2E3FC;\n",
              "    }\n",
              "\n",
              "    [theme=dark] .colab-df-convert:hover {\n",
              "      background-color: #434B5C;\n",
              "      box-shadow: 0px 1px 3px 1px rgba(0, 0, 0, 0.15);\n",
              "      filter: drop-shadow(0px 1px 2px rgba(0, 0, 0, 0.3));\n",
              "      fill: #FFFFFF;\n",
              "    }\n",
              "  </style>\n",
              "\n",
              "      <script>\n",
              "        const buttonEl =\n",
              "          document.querySelector('#df-dd6c19c4-7787-4053-94cd-3896076d7aac button.colab-df-convert');\n",
              "        buttonEl.style.display =\n",
              "          google.colab.kernel.accessAllowed ? 'block' : 'none';\n",
              "\n",
              "        async function convertToInteractive(key) {\n",
              "          const element = document.querySelector('#df-dd6c19c4-7787-4053-94cd-3896076d7aac');\n",
              "          const dataTable =\n",
              "            await google.colab.kernel.invokeFunction('convertToInteractive',\n",
              "                                                     [key], {});\n",
              "          if (!dataTable) return;\n",
              "\n",
              "          const docLinkHtml = 'Like what you see? Visit the ' +\n",
              "            '<a target=\"_blank\" href=https://colab.research.google.com/notebooks/data_table.ipynb>data table notebook</a>'\n",
              "            + ' to learn more about interactive tables.';\n",
              "          element.innerHTML = '';\n",
              "          dataTable['output_type'] = 'display_data';\n",
              "          await google.colab.output.renderOutput(dataTable, element);\n",
              "          const docLink = document.createElement('div');\n",
              "          docLink.innerHTML = docLinkHtml;\n",
              "          element.appendChild(docLink);\n",
              "        }\n",
              "      </script>\n",
              "    </div>\n",
              "  </div>\n",
              "  "
            ]
          },
          "metadata": {},
          "execution_count": 176
        }
      ],
      "source": [
        "data_with_clusters2.head()"
      ]
    },
    {
      "cell_type": "code",
      "execution_count": null,
      "id": "496c5356",
      "metadata": {
        "id": "496c5356",
        "outputId": "89a30264-513a-4346-c485-1e0fde631ac2",
        "colab": {
          "base_uri": "https://localhost:8080/"
        }
      },
      "outputs": [
        {
          "output_type": "execute_result",
          "data": {
            "text/plain": [
              "4    14534\n",
              "0     8953\n",
              "2     4816\n",
              "1     1502\n",
              "3      195\n",
              "Name: Clusters, dtype: int64"
            ]
          },
          "metadata": {},
          "execution_count": 177
        }
      ],
      "source": [
        "data_with_clusters2['Clusters'].value_counts()"
      ]
    },
    {
      "cell_type": "code",
      "execution_count": null,
      "id": "8405311a",
      "metadata": {
        "id": "8405311a",
        "outputId": "f12ee954-0023-42d6-9eae-95482b71573c",
        "colab": {
          "base_uri": "https://localhost:8080/",
          "height": 228
        }
      },
      "outputs": [
        {
          "output_type": "execute_result",
          "data": {
            "text/plain": [
              "<matplotlib.collections.PathCollection at 0x7ff4909ae090>"
            ]
          },
          "metadata": {},
          "execution_count": 178
        },
        {
          "output_type": "display_data",
          "data": {
            "text/plain": [
              "<Figure size 360x216 with 1 Axes>"
            ],
            "image/png": "[encoded data removed]"
          },
          "metadata": {}
        }
      ],
      "source": [
        "plt.scatter(data_with_clusters2['F'],data_with_clusters2['friends'],c=data_with_clusters2['Clusters'],cmap='rainbow')\n"
      ]
    },
    {
      "cell_type": "markdown",
      "source": [
        "**Now before moving towards agglomerative clustering and DBSCAN clustering**\n",
        "\n",
        "**we will create 3 datasubsets**\n",
        "\n",
        "**subset1: age,friends**\n",
        "\n",
        "**subset2:M,friends**\n",
        "\n",
        "**subset3:F:friends**"
      ],
      "metadata": {
        "id": "MaMvgJeOP-Wt"
      },
      "id": "MaMvgJeOP-Wt"
    },
    {
      "cell_type": "code",
      "execution_count": null,
      "id": "215a8067",
      "metadata": {
        "id": "215a8067"
      },
      "outputs": [],
      "source": [
        "\n",
        "datasubset1=result2.loc[:,[\"age\",\"friends\"]]"
      ]
    },
    {
      "cell_type": "code",
      "execution_count": null,
      "id": "70470b21",
      "metadata": {
        "id": "70470b21"
      },
      "outputs": [],
      "source": [
        "datasubset2=result2.loc[:,[\"M\",\"friends\"]]"
      ]
    },
    {
      "cell_type": "code",
      "execution_count": null,
      "id": "7b6240bc",
      "metadata": {
        "id": "7b6240bc"
      },
      "outputs": [],
      "source": [
        "datasubset3=result2.loc[:,[\"F\",\"friends\"]]"
      ]
    },
    {
      "cell_type": "code",
      "execution_count": null,
      "id": "b37e7f91",
      "metadata": {
        "id": "b37e7f91",
        "outputId": "39816df6-5fc4-4b9c-f662-b1bd84481f72",
        "colab": {
          "base_uri": "https://localhost:8080/",
          "height": 362
        }
      },
      "outputs": [
        {
          "output_type": "execute_result",
          "data": {
            "text/plain": [
              "         age  friends\n",
              "0  18.982000        7\n",
              "1  18.801000        0\n",
              "2  18.335000       69\n",
              "3  18.875000        0\n",
              "4  18.995000       10\n",
              "5  17.252429      142\n",
              "6  18.930000       72\n",
              "7  18.322000       17\n",
              "8  19.055000       52\n",
              "9  18.708000       39"
            ],
            "text/html": [
              "\n",
              "  <div id=\"df-1121dc90-80ae-4e63-8621-9f109bf5f4c4\">\n",
              "    <div class=\"colab-df-container\">\n",
              "      <div>\n",
              "<style scoped>\n",
              "    .dataframe tbody tr th:only-of-type {\n",
              "        vertical-align: middle;\n",
              "    }\n",
              "\n",
              "    .dataframe tbody tr th {\n",
              "        vertical-align: top;\n",
              "    }\n",
              "\n",
              "    .dataframe thead th {\n",
              "        text-align: right;\n",
              "    }\n",
              "</style>\n",
              "<table border=\"1\" class=\"dataframe\">\n",
              "  <thead>\n",
              "    <tr style=\"text-align: right;\">\n",
              "      <th></th>\n",
              "      <th>age</th>\n",
              "      <th>friends</th>\n",
              "    </tr>\n",
              "  </thead>\n",
              "  <tbody>\n",
              "    <tr>\n",
              "      <th>0</th>\n",
              "      <td>18.982000</td>\n",
              "      <td>7</td>\n",
              "    </tr>\n",
              "    <tr>\n",
              "      <th>1</th>\n",
              "      <td>18.801000</td>\n",
              "      <td>0</td>\n",
              "    </tr>\n",
              "    <tr>\n",
              "      <th>2</th>\n",
              "      <td>18.335000</td>\n",
              "      <td>69</td>\n",
              "    </tr>\n",
              "    <tr>\n",
              "      <th>3</th>\n",
              "      <td>18.875000</td>\n",
              "      <td>0</td>\n",
              "    </tr>\n",
              "    <tr>\n",
              "      <th>4</th>\n",
              "      <td>18.995000</td>\n",
              "      <td>10</td>\n",
              "    </tr>\n",
              "    <tr>\n",
              "      <th>5</th>\n",
              "      <td>17.252429</td>\n",
              "      <td>142</td>\n",
              "    </tr>\n",
              "    <tr>\n",
              "      <th>6</th>\n",
              "      <td>18.930000</td>\n",
              "      <td>72</td>\n",
              "    </tr>\n",
              "    <tr>\n",
              "      <th>7</th>\n",
              "      <td>18.322000</td>\n",
              "      <td>17</td>\n",
              "    </tr>\n",
              "    <tr>\n",
              "      <th>8</th>\n",
              "      <td>19.055000</td>\n",
              "      <td>52</td>\n",
              "    </tr>\n",
              "    <tr>\n",
              "      <th>9</th>\n",
              "      <td>18.708000</td>\n",
              "      <td>39</td>\n",
              "    </tr>\n",
              "  </tbody>\n",
              "</table>\n",
              "</div>\n",
              "      <button class=\"colab-df-convert\" onclick=\"convertToInteractive('df-1121dc90-80ae-4e63-8621-9f109bf5f4c4')\"\n",
              "              title=\"Convert this dataframe to an interactive table.\"\n",
              "              style=\"display:none;\">\n",
              "        \n",
              "  <svg xmlns=\"http://www.w3.org/2000/svg\" height=\"24px\"viewBox=\"0 0 24 24\"\n",
              "       width=\"24px\">\n",
              "    <path d=\"M0 0h24v24H0V0z\" fill=\"none\"/>\n",
              "    <path d=\"M18.56 5.44l.94 2.06.94-2.06 2.06-.94-2.06-.94-.94-2.06-.94 2.06-2.06.94zm-11 1L8.5 8.5l.94-2.06 2.06-.94-2.06-.94L8.5 2.5l-.94 2.06-2.06.94zm10 10l.94 2.06.94-2.06 2.06-.94-2.06-.94-.94-2.06-.94 2.06-2.06.94z\"/><path d=\"M17.41 7.96l-1.37-1.37c-.4-.4-.92-.59-1.43-.59-.52 0-1.04.2-1.43.59L10.3 9.45l-7.72 7.72c-.78.78-.78 2.05 0 2.83L4 21.41c.39.39.9.59 1.41.59.51 0 1.02-.2 1.41-.59l7.78-7.78 2.81-2.81c.8-.78.8-2.07 0-2.86zM5.41 20L4 18.59l7.72-7.72 1.47 1.35L5.41 20z\"/>\n",
              "  </svg>\n",
              "      </button>\n",
              "      \n",
              "  <style>\n",
              "    .colab-df-container {\n",
              "      display:flex;\n",
              "      flex-wrap:wrap;\n",
              "      gap: 12px;\n",
              "    }\n",
              "\n",
              "    .colab-df-convert {\n",
              "      background-color: #E8F0FE;\n",
              "      border: none;\n",
              "      border-radius: 50%;\n",
              "      cursor: pointer;\n",
              "      display: none;\n",
              "      fill: #1967D2;\n",
              "      height: 32px;\n",
              "      padding: 0 0 0 0;\n",
              "      width: 32px;\n",
              "    }\n",
              "\n",
              "    .colab-df-convert:hover {\n",
              "      background-color: #E2EBFA;\n",
              "      box-shadow: 0px 1px 2px rgba(60, 64, 67, 0.3), 0px 1px 3px 1px rgba(60, 64, 67, 0.15);\n",
              "      fill: #174EA6;\n",
              "    }\n",
              "\n",
              "    [theme=dark] .colab-df-convert {\n",
              "      background-color: #3B4455;\n",
              "      fill: #D2E3FC;\n",
              "    }\n",
              "\n",
              "    [theme=dark] .colab-df-convert:hover {\n",
              "      background-color: #434B5C;\n",
              "      box-shadow: 0px 1px 3px 1px rgba(0, 0, 0, 0.15);\n",
              "      filter: drop-shadow(0px 1px 2px rgba(0, 0, 0, 0.3));\n",
              "      fill: #FFFFFF;\n",
              "    }\n",
              "  </style>\n",
              "\n",
              "      <script>\n",
              "        const buttonEl =\n",
              "          document.querySelector('#df-1121dc90-80ae-4e63-8621-9f109bf5f4c4 button.colab-df-convert');\n",
              "        buttonEl.style.display =\n",
              "          google.colab.kernel.accessAllowed ? 'block' : 'none';\n",
              "\n",
              "        async function convertToInteractive(key) {\n",
              "          const element = document.querySelector('#df-1121dc90-80ae-4e63-8621-9f109bf5f4c4');\n",
              "          const dataTable =\n",
              "            await google.colab.kernel.invokeFunction('convertToInteractive',\n",
              "                                                     [key], {});\n",
              "          if (!dataTable) return;\n",
              "\n",
              "          const docLinkHtml = 'Like what you see? Visit the ' +\n",
              "            '<a target=\"_blank\" href=https://colab.research.google.com/notebooks/data_table.ipynb>data table notebook</a>'\n",
              "            + ' to learn more about interactive tables.';\n",
              "          element.innerHTML = '';\n",
              "          dataTable['output_type'] = 'display_data';\n",
              "          await google.colab.output.renderOutput(dataTable, element);\n",
              "          const docLink = document.createElement('div');\n",
              "          docLink.innerHTML = docLinkHtml;\n",
              "          element.appendChild(docLink);\n",
              "        }\n",
              "      </script>\n",
              "    </div>\n",
              "  </div>\n",
              "  "
            ]
          },
          "metadata": {},
          "execution_count": 182
        }
      ],
      "source": [
        "datasubset1.head(10)"
      ]
    },
    {
      "cell_type": "markdown",
      "source": [
        "**MODEL2: AGGLOMERATIVE CLUSTERING**"
      ],
      "metadata": {
        "id": "jBu-w-ywQbfb"
      },
      "id": "jBu-w-ywQbfb"
    },
    {
      "cell_type": "markdown",
      "source": [
        "**Here we will calculate silhoutte score so will import that library**\n",
        "\n",
        "**Here also we will do the way did in k means for all the three subsets and calculate their respect silhoutti score**"
      ],
      "metadata": {
        "id": "vg7LBNgMQfXw"
      },
      "id": "vg7LBNgMQfXw"
    },
    {
      "cell_type": "code",
      "execution_count": null,
      "id": "88da37d1",
      "metadata": {
        "id": "88da37d1"
      },
      "outputs": [],
      "source": [
        "from sklearn.cluster import AgglomerativeClustering"
      ]
    },
    {
      "cell_type": "code",
      "execution_count": null,
      "id": "e694c196",
      "metadata": {
        "id": "e694c196"
      },
      "outputs": [],
      "source": [
        "from sklearn.metrics import silhouette_score"
      ]
    },
    {
      "cell_type": "code",
      "execution_count": null,
      "id": "5f999317",
      "metadata": {
        "id": "5f999317"
      },
      "outputs": [],
      "source": [
        "import scipy.cluster.hierarchy as sch"
      ]
    },
    {
      "cell_type": "markdown",
      "source": [
        "**FOR DATASUBSET1**"
      ],
      "metadata": {
        "id": "Y7vtHQ1zQ5RG"
      },
      "id": "Y7vtHQ1zQ5RG"
    },
    {
      "cell_type": "code",
      "execution_count": null,
      "id": "a5cd49c1",
      "metadata": {
        "id": "a5cd49c1",
        "outputId": "96ddbcf6-952b-4607-bc20-578f93306ad7",
        "colab": {
          "base_uri": "https://localhost:8080/"
        }
      },
      "outputs": [
        {
          "output_type": "execute_result",
          "data": {
            "text/plain": [
              "array([1, 1, 2, ..., 1, 1, 1])"
            ]
          },
          "metadata": {},
          "execution_count": 186
        }
      ],
      "source": [
        "cluster=AgglomerativeClustering(n_clusters=5,affinity='euclidean',linkage='ward')\n",
        "cluster.fit_predict(datasubset1)"
      ]
    },
    {
      "cell_type": "code",
      "execution_count": null,
      "id": "92359ec4",
      "metadata": {
        "id": "92359ec4"
      },
      "outputs": [],
      "source": [
        "c1=cluster.fit_predict(datasubset1)"
      ]
    },
    {
      "cell_type": "code",
      "execution_count": null,
      "id": "81683887",
      "metadata": {
        "id": "81683887",
        "outputId": "f6fb984b-9025-4207-fdf8-864545dc9d16",
        "colab": {
          "base_uri": "https://localhost:8080/"
        }
      },
      "outputs": [
        {
          "output_type": "execute_result",
          "data": {
            "text/plain": [
              "0.5496845374750344"
            ]
          },
          "metadata": {},
          "execution_count": 188
        }
      ],
      "source": [
        "silhouette_score(datasubset1,c1)"
      ]
    },
    {
      "cell_type": "markdown",
      "source": [
        "**FOR DATASUBSET2**"
      ],
      "metadata": {
        "id": "8lIEONxYQ-ds"
      },
      "id": "8lIEONxYQ-ds"
    },
    {
      "cell_type": "code",
      "execution_count": null,
      "id": "def53dcb",
      "metadata": {
        "id": "def53dcb",
        "outputId": "5c105654-d13a-42c2-ff71-b8e400752ce0",
        "colab": {
          "base_uri": "https://localhost:8080/"
        }
      },
      "outputs": [
        {
          "output_type": "execute_result",
          "data": {
            "text/plain": [
              "array([2, 2, 4, ..., 2, 2, 2])"
            ]
          },
          "metadata": {},
          "execution_count": 189
        }
      ],
      "source": [
        "cluster=AgglomerativeClustering(n_clusters=5,affinity='euclidean',linkage='ward')\n",
        "cluster.fit_predict(datasubset2)"
      ]
    },
    {
      "cell_type": "code",
      "execution_count": null,
      "id": "aba55029",
      "metadata": {
        "id": "aba55029"
      },
      "outputs": [],
      "source": [
        "c2=cluster.fit_predict(datasubset2)"
      ]
    },
    {
      "cell_type": "code",
      "execution_count": null,
      "id": "8db71b2c",
      "metadata": {
        "id": "8db71b2c",
        "outputId": "e1ef43bf-a75b-4240-b158-a9194b33a3b3",
        "colab": {
          "base_uri": "https://localhost:8080/"
        }
      },
      "outputs": [
        {
          "output_type": "execute_result",
          "data": {
            "text/plain": [
              "0.5969447840259849"
            ]
          },
          "metadata": {},
          "execution_count": 191
        }
      ],
      "source": [
        "silhouette_score(datasubset2,c2)"
      ]
    },
    {
      "cell_type": "markdown",
      "source": [
        "**FOR DATASUBSET3**"
      ],
      "metadata": {
        "id": "VqtINKw1RC71"
      },
      "id": "VqtINKw1RC71"
    },
    {
      "cell_type": "code",
      "execution_count": null,
      "id": "d6ca801b",
      "metadata": {
        "id": "d6ca801b",
        "outputId": "6915cb77-3ba3-4cab-d7ef-7e10676dd73a",
        "colab": {
          "base_uri": "https://localhost:8080/"
        }
      },
      "outputs": [
        {
          "output_type": "execute_result",
          "data": {
            "text/plain": [
              "array([2, 2, 3, ..., 2, 2, 2])"
            ]
          },
          "metadata": {},
          "execution_count": 192
        }
      ],
      "source": [
        "cluster=AgglomerativeClustering(n_clusters=5,affinity='euclidean',linkage='ward')\n",
        "cluster.fit_predict(datasubset3)"
      ]
    },
    {
      "cell_type": "code",
      "execution_count": null,
      "id": "96b13a31",
      "metadata": {
        "id": "96b13a31"
      },
      "outputs": [],
      "source": [
        "c3=cluster.fit_predict(datasubset3)"
      ]
    },
    {
      "cell_type": "code",
      "execution_count": null,
      "id": "5886ae02",
      "metadata": {
        "id": "5886ae02",
        "outputId": "9169a1da-ae2b-457f-cf81-6a1ff14172c5",
        "colab": {
          "base_uri": "https://localhost:8080/"
        }
      },
      "outputs": [
        {
          "output_type": "execute_result",
          "data": {
            "text/plain": [
              "0.5688052075004212"
            ]
          },
          "metadata": {},
          "execution_count": 194
        }
      ],
      "source": [
        "silhouette_score(datasubset3,c3)"
      ]
    },
    {
      "cell_type": "markdown",
      "source": [
        "**MODEL3: DBSCAN**"
      ],
      "metadata": {
        "id": "jyNWbrX1RGA7"
      },
      "id": "jyNWbrX1RGA7"
    },
    {
      "cell_type": "markdown",
      "source": [
        "** here also we will calculate separately for all the three subsets **"
      ],
      "metadata": {
        "id": "DFrHuArmRLW_"
      },
      "id": "DFrHuArmRLW_"
    },
    {
      "cell_type": "code",
      "execution_count": null,
      "id": "4b63d2dd",
      "metadata": {
        "id": "4b63d2dd"
      },
      "outputs": [],
      "source": [
        "from sklearn.cluster import DBSCAN"
      ]
    },
    {
      "cell_type": "markdown",
      "source": [
        "**Before implementing DBSCAN first we will try to implement the value of episilon and min number of samples using nearest neighbour**"
      ],
      "metadata": {
        "id": "gzNASIV1RVga"
      },
      "id": "gzNASIV1RVga"
    },
    {
      "cell_type": "markdown",
      "source": [
        "**DATASUBSET1**"
      ],
      "metadata": {
        "id": "-1zp9iYtRqWq"
      },
      "id": "-1zp9iYtRqWq"
    },
    {
      "cell_type": "code",
      "execution_count": null,
      "id": "9cc6f48e",
      "metadata": {
        "id": "9cc6f48e"
      },
      "outputs": [],
      "source": [
        "from sklearn.neighbors import NearestNeighbors \n",
        "neighb = NearestNeighbors(n_neighbors=5) \n",
        "nbrs=neighb.fit(datasubset1) \n",
        "distances,indices=nbrs.kneighbors(datasubset1)"
      ]
    },
    {
      "cell_type": "code",
      "execution_count": null,
      "id": "4e761e80",
      "metadata": {
        "id": "4e761e80",
        "outputId": "e780f15a-5e43-4d4e-999c-e2a353fb041a",
        "colab": {
          "base_uri": "https://localhost:8080/",
          "height": 211
        }
      },
      "outputs": [
        {
          "output_type": "display_data",
          "data": {
            "text/plain": [
              "<Figure size 360x216 with 1 Axes>"
            ],
            "image/png": "[encoded data removed]"
          },
          "metadata": {}
        }
      ],
      "source": [
        "distances = np.sort(distances, axis = 0) # sorting the distances\n",
        "distances = distances[:, 1] # taking the second column of the sorted distances\n",
        "plt.rcParams['figure.figsize'] = (5,3) # setting the figure size\n",
        "plt.plot(distances) # plotting the distances\n",
        "plt.show() # showing t"
      ]
    },
    {
      "cell_type": "code",
      "execution_count": null,
      "id": "55027ae4",
      "metadata": {
        "id": "55027ae4"
      },
      "outputs": [],
      "source": [
        "dbscancluster= DBSCAN(eps=3, min_samples=4)\n"
      ]
    },
    {
      "cell_type": "code",
      "execution_count": null,
      "id": "4d1c515d",
      "metadata": {
        "id": "4d1c515d"
      },
      "outputs": [],
      "source": [
        "model=dbscancluster.fit(datasubset1)"
      ]
    },
    {
      "cell_type": "code",
      "execution_count": null,
      "id": "244e865a",
      "metadata": {
        "id": "244e865a"
      },
      "outputs": [],
      "source": [
        "labels1=model.labels_"
      ]
    },
    {
      "cell_type": "code",
      "execution_count": null,
      "id": "15354966",
      "metadata": {
        "id": "15354966"
      },
      "outputs": [],
      "source": [
        "sample_cores=np.zeros_like(labels1,dtype=bool)"
      ]
    },
    {
      "cell_type": "code",
      "execution_count": null,
      "id": "26a2a606",
      "metadata": {
        "id": "26a2a606"
      },
      "outputs": [],
      "source": [
        "sample_cores[dbscancluster.core_sample_indices_]=True"
      ]
    },
    {
      "cell_type": "code",
      "execution_count": null,
      "id": "ab922d92",
      "metadata": {
        "id": "ab922d92"
      },
      "outputs": [],
      "source": [
        "n_cluster=len(set(labels1))- (1 if -1 in labels1 else 0)"
      ]
    },
    {
      "cell_type": "markdown",
      "source": [
        "**For first subset the clusters as calculated by DBSCAN is 7**"
      ],
      "metadata": {
        "id": "qwuwJGQERvlW"
      },
      "id": "qwuwJGQERvlW"
    },
    {
      "cell_type": "code",
      "execution_count": null,
      "id": "3a4a6166",
      "metadata": {
        "id": "3a4a6166",
        "outputId": "4f186794-fbc7-48bc-caf5-95dae59b115f",
        "colab": {
          "base_uri": "https://localhost:8080/"
        }
      },
      "outputs": [
        {
          "output_type": "execute_result",
          "data": {
            "text/plain": [
              "7"
            ]
          },
          "metadata": {},
          "execution_count": 204
        }
      ],
      "source": [
        "n_cluster"
      ]
    },
    {
      "cell_type": "code",
      "execution_count": null,
      "id": "90df26dd",
      "metadata": {
        "id": "90df26dd",
        "outputId": "7b6c21c0-e038-4ab6-9edd-4ffb9f34c4a1",
        "colab": {
          "base_uri": "https://localhost:8080/"
        }
      },
      "outputs": [
        {
          "output_type": "execute_result",
          "data": {
            "text/plain": [
              "0.791261217163682"
            ]
          },
          "metadata": {},
          "execution_count": 205
        }
      ],
      "source": [
        "silhouette_score(datasubset1,labels1)"
      ]
    },
    {
      "cell_type": "markdown",
      "source": [
        "**DATASUBSET2**"
      ],
      "metadata": {
        "id": "u7E-6-6VSC2H"
      },
      "id": "u7E-6-6VSC2H"
    },
    {
      "cell_type": "code",
      "execution_count": null,
      "id": "865deb84",
      "metadata": {
        "id": "865deb84"
      },
      "outputs": [],
      "source": [
        "neighb1 = NearestNeighbors(n_neighbors=5) \n",
        "nbrs1=neighb1.fit(datasubset2) \n",
        "distances1,indices1=nbrs1.kneighbors(datasubset2)"
      ]
    },
    {
      "cell_type": "code",
      "execution_count": null,
      "id": "a0a99697",
      "metadata": {
        "id": "a0a99697",
        "outputId": "d3ba61e9-0665-4b8c-b7df-16432bcafc9d",
        "colab": {
          "base_uri": "https://localhost:8080/",
          "height": 211
        }
      },
      "outputs": [
        {
          "output_type": "display_data",
          "data": {
            "text/plain": [
              "<Figure size 360x216 with 1 Axes>"
            ],
            "image/png": "[encoded data removed]"
          },
          "metadata": {}
        }
      ],
      "source": [
        "distances1 = np.sort(distances1, axis = 0) # sorting the distances\n",
        "distances1 = distances1[:, 1] # taking the second column of the sorted distances\n",
        "plt.rcParams['figure.figsize'] = (5,3) # setting the figure size\n",
        "plt.plot(distances1) # plotting the distances\n",
        "plt.show() # showing t"
      ]
    },
    {
      "cell_type": "code",
      "execution_count": null,
      "id": "fa8d3e8a",
      "metadata": {
        "id": "fa8d3e8a"
      },
      "outputs": [],
      "source": [
        "dbscancluster1= DBSCAN(eps=3, min_samples=4)\n"
      ]
    },
    {
      "cell_type": "code",
      "execution_count": null,
      "id": "9b497546",
      "metadata": {
        "id": "9b497546"
      },
      "outputs": [],
      "source": [
        "model1=dbscancluster1.fit(datasubset2)"
      ]
    },
    {
      "cell_type": "code",
      "execution_count": null,
      "id": "5d33d22b",
      "metadata": {
        "id": "5d33d22b"
      },
      "outputs": [],
      "source": [
        "labels2=model1.labels_"
      ]
    },
    {
      "cell_type": "code",
      "execution_count": null,
      "id": "5a0fe430",
      "metadata": {
        "id": "5a0fe430"
      },
      "outputs": [],
      "source": [
        "sample_cores1=np.zeros_like(labels2,dtype=bool)"
      ]
    },
    {
      "cell_type": "code",
      "execution_count": null,
      "id": "fcc5848b",
      "metadata": {
        "id": "fcc5848b"
      },
      "outputs": [],
      "source": [
        "sample_cores1[dbscancluster1.core_sample_indices_]=True\n"
      ]
    },
    {
      "cell_type": "code",
      "execution_count": null,
      "id": "ec8dd1ea",
      "metadata": {
        "id": "ec8dd1ea"
      },
      "outputs": [],
      "source": [
        "n_cluster1=len(set(labels2))- (1 if -1 in labels2 else 0)"
      ]
    },
    {
      "cell_type": "markdown",
      "source": [
        "**The number of clusters of subsample2 is 4**"
      ],
      "metadata": {
        "id": "UGHmikTfSHDF"
      },
      "id": "UGHmikTfSHDF"
    },
    {
      "cell_type": "code",
      "execution_count": null,
      "id": "251c1e39",
      "metadata": {
        "id": "251c1e39",
        "outputId": "5dc4e245-b343-4a5d-8f30-94c25a5de0f1",
        "colab": {
          "base_uri": "https://localhost:8080/"
        }
      },
      "outputs": [
        {
          "output_type": "execute_result",
          "data": {
            "text/plain": [
              "4"
            ]
          },
          "metadata": {},
          "execution_count": 214
        }
      ],
      "source": [
        "n_cluster1"
      ]
    },
    {
      "cell_type": "code",
      "execution_count": null,
      "id": "fd371d41",
      "metadata": {
        "id": "fd371d41",
        "outputId": "6732e26e-9616-473f-9663-3312b81b8464",
        "colab": {
          "base_uri": "https://localhost:8080/"
        }
      },
      "outputs": [
        {
          "output_type": "execute_result",
          "data": {
            "text/plain": [
              "0.829864069411018"
            ]
          },
          "metadata": {},
          "execution_count": 215
        }
      ],
      "source": [
        "\n",
        "silhouette_score(datasubset2,labels2)"
      ]
    },
    {
      "cell_type": "markdown",
      "source": [
        "**DATASUBSET3**"
      ],
      "metadata": {
        "id": "F3nczqc2SPhd"
      },
      "id": "F3nczqc2SPhd"
    },
    {
      "cell_type": "code",
      "execution_count": null,
      "id": "85be7db2",
      "metadata": {
        "id": "85be7db2"
      },
      "outputs": [],
      "source": [
        "neighb2= NearestNeighbors(n_neighbors=5) \n",
        "nbrs2=neighb2.fit(datasubset3) \n",
        "distances2,indices2=nbrs2.kneighbors(datasubset3)"
      ]
    },
    {
      "cell_type": "code",
      "execution_count": null,
      "id": "8688d632",
      "metadata": {
        "id": "8688d632",
        "outputId": "37cdbc20-4d1a-4b19-b260-df582d76453f",
        "colab": {
          "base_uri": "https://localhost:8080/",
          "height": 211
        }
      },
      "outputs": [
        {
          "output_type": "display_data",
          "data": {
            "text/plain": [
              "<Figure size 360x216 with 1 Axes>"
            ],
            "image/png": "[encoded data removed]"
          },
          "metadata": {}
        }
      ],
      "source": [
        "distances2 = np.sort(distances2, axis = 0) # sorting the distances\n",
        "distances2 = distances2[:, 1] # taking the second column of the sorted distances\n",
        "plt.rcParams['figure.figsize'] = (5,3) # setting the figure size\n",
        "plt.plot(distances2) # plotting the distances\n",
        "plt.show() # showing t\n"
      ]
    },
    {
      "cell_type": "code",
      "execution_count": null,
      "id": "c2a1ec49",
      "metadata": {
        "id": "c2a1ec49"
      },
      "outputs": [],
      "source": [
        "dbscancluster2= DBSCAN(eps=3, min_samples=4)\n"
      ]
    },
    {
      "cell_type": "code",
      "execution_count": null,
      "id": "fea1b051",
      "metadata": {
        "id": "fea1b051"
      },
      "outputs": [],
      "source": [
        "model2=dbscancluster2.fit(datasubset3)\n"
      ]
    },
    {
      "cell_type": "code",
      "execution_count": null,
      "id": "b12ab75b",
      "metadata": {
        "id": "b12ab75b"
      },
      "outputs": [],
      "source": [
        "labels3=model2.labels_"
      ]
    },
    {
      "cell_type": "code",
      "execution_count": null,
      "id": "08fa3726",
      "metadata": {
        "id": "08fa3726"
      },
      "outputs": [],
      "source": [
        "sample_cores2=np.zeros_like(labels3,dtype=bool)"
      ]
    },
    {
      "cell_type": "code",
      "execution_count": null,
      "id": "0d21aabb",
      "metadata": {
        "id": "0d21aabb"
      },
      "outputs": [],
      "source": [
        "sample_cores2[dbscancluster2.core_sample_indices_]=True"
      ]
    },
    {
      "cell_type": "code",
      "execution_count": null,
      "id": "dfc715bd",
      "metadata": {
        "id": "dfc715bd"
      },
      "outputs": [],
      "source": [
        "n_cluster2=len(set(labels3))- (1 if -1 in labels3 else 0)"
      ]
    },
    {
      "cell_type": "markdown",
      "source": [
        "**Number of cluster calculated is 4**"
      ],
      "metadata": {
        "id": "dx9wXZZlSTd6"
      },
      "id": "dx9wXZZlSTd6"
    },
    {
      "cell_type": "code",
      "execution_count": null,
      "id": "2999c495",
      "metadata": {
        "id": "2999c495",
        "outputId": "d24879ce-84a4-4602-d62e-05f1328f354b",
        "colab": {
          "base_uri": "https://localhost:8080/"
        }
      },
      "outputs": [
        {
          "output_type": "execute_result",
          "data": {
            "text/plain": [
              "4"
            ]
          },
          "metadata": {},
          "execution_count": 224
        }
      ],
      "source": [
        "n_cluster2"
      ]
    },
    {
      "cell_type": "code",
      "execution_count": null,
      "id": "9a98fe03",
      "metadata": {
        "id": "9a98fe03",
        "outputId": "9d2fbb99-2898-4ec9-db3c-197e1dda1a28",
        "colab": {
          "base_uri": "https://localhost:8080/"
        }
      },
      "outputs": [
        {
          "output_type": "execute_result",
          "data": {
            "text/plain": [
              "0.829764515506286"
            ]
          },
          "metadata": {},
          "execution_count": 225
        }
      ],
      "source": [
        "silhouette_score(datasubset3,labels3)"
      ]
    },
    {
      "cell_type": "code",
      "source": [],
      "metadata": {
        "id": "7x1nGpkFNiYF"
      },
      "id": "7x1nGpkFNiYF",
      "execution_count": null,
      "outputs": []
    }
  ],
  "metadata": {
    "kernelspec": {
      "display_name": "Python 3",
      "language": "python",
      "name": "python3"
    },
    "language_info": {
      "codemirror_mode": {
        "name": "ipython",
        "version": 3
      },
      "file_extension": ".py",
      "mimetype": "text/x-python",
      "name": "python",
      "nbconvert_exporter": "python",
      "pygments_lexer": "ipython3",
      "version": "3.8.8"
    },
    "colab": {
      "provenance": []
    }
  },
  "nbformat": 4,
  "nbformat_minor": 5
}